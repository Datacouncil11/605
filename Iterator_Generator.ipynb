{
 "cells": [
  {
   "cell_type": "code",
   "execution_count": 1,
   "id": "007b4d5f-513d-461f-b749-1e477a4393b9",
   "metadata": {},
   "outputs": [],
   "source": [
    "list1 = [1,2,3,4] # Global variable"
   ]
  },
  {
   "cell_type": "code",
   "execution_count": 2,
   "id": "f0f24d98-f7e7-421e-bde0-7c3cb74c5c69",
   "metadata": {},
   "outputs": [
    {
     "data": {
      "text/plain": [
       "[1, 2, 3, 4]"
      ]
     },
     "execution_count": 2,
     "metadata": {},
     "output_type": "execute_result"
    }
   ],
   "source": [
    "list1"
   ]
  },
  {
   "cell_type": "code",
   "execution_count": 3,
   "id": "a5e3a4d4-b4ed-431f-98a2-fb2c3baba589",
   "metadata": {},
   "outputs": [],
   "source": [
    "def test1(*args):\n",
    "    l = [] #Local variable\n",
    "    for i in args:\n",
    "        if type(i) == int:\n",
    "            l.append(i)\n",
    "    return l"
   ]
  },
  {
   "cell_type": "code",
   "execution_count": 4,
   "id": "b385d79c-4950-406d-b344-339dd556cfd9",
   "metadata": {},
   "outputs": [
    {
     "ename": "NameError",
     "evalue": "name 'l' is not defined",
     "output_type": "error",
     "traceback": [
      "\u001b[1;31m---------------------------------------------------------------------------\u001b[0m",
      "\u001b[1;31mNameError\u001b[0m                                 Traceback (most recent call last)",
      "Cell \u001b[1;32mIn[4], line 1\u001b[0m\n\u001b[1;32m----> 1\u001b[0m l\n",
      "\u001b[1;31mNameError\u001b[0m: name 'l' is not defined"
     ]
    }
   ],
   "source": [
    "l"
   ]
  },
  {
   "cell_type": "code",
   "execution_count": 5,
   "id": "b99368a2-0da0-44f8-8203-6c7922fb45e4",
   "metadata": {},
   "outputs": [
    {
     "data": {
      "text/plain": [
       "[1, 2, 3, 4]"
      ]
     },
     "execution_count": 5,
     "metadata": {},
     "output_type": "execute_result"
    }
   ],
   "source": [
    "list1"
   ]
  },
  {
   "cell_type": "code",
   "execution_count": 6,
   "id": "89fa847d-1c20-4c52-8eb6-58e57e45ea66",
   "metadata": {},
   "outputs": [
    {
     "data": {
      "text/plain": [
       "[101, 102, 103, 104]"
      ]
     },
     "execution_count": 6,
     "metadata": {},
     "output_type": "execute_result"
    }
   ],
   "source": [
    "[i+100 for i in list1]"
   ]
  },
  {
   "cell_type": "code",
   "execution_count": 7,
   "id": "d195a6f1-33f6-4679-8102-e4c4fe63bee9",
   "metadata": {},
   "outputs": [
    {
     "data": {
      "text/plain": [
       "['Odd', 'Even', 'Odd', 'Even']"
      ]
     },
     "execution_count": 7,
     "metadata": {},
     "output_type": "execute_result"
    }
   ],
   "source": [
    "['Even' if i%2 == 0 else 'Odd' for i in list1]"
   ]
  },
  {
   "cell_type": "code",
   "execution_count": 8,
   "id": "cb14f4f7-00c5-4d89-841f-da05a3d0340c",
   "metadata": {},
   "outputs": [
    {
     "data": {
      "text/plain": [
       "['Even', 'Even']"
      ]
     },
     "execution_count": 8,
     "metadata": {},
     "output_type": "execute_result"
    }
   ],
   "source": [
    "['Even' for i in list1 if i%2 == 0]"
   ]
  },
  {
   "cell_type": "code",
   "execution_count": 17,
   "id": "ecdd7194-6edd-4547-b1b2-bbaf322218c4",
   "metadata": {},
   "outputs": [
    {
     "data": {
      "text/plain": [
       "[('Odd', 1), ('Even', 2), ('Odd', 3), ('Even', 4)]"
      ]
     },
     "execution_count": 17,
     "metadata": {},
     "output_type": "execute_result"
    }
   ],
   "source": [
    "[('Even',i) if i%2 == 0 else ('Odd', i) for i in list1]"
   ]
  },
  {
   "cell_type": "code",
   "execution_count": 18,
   "id": "db907c0e-bb18-40ef-bd9d-13e6f68f1726",
   "metadata": {},
   "outputs": [],
   "source": [
    "# Iterator, Iterable"
   ]
  },
  {
   "cell_type": "code",
   "execution_count": 19,
   "id": "4dd7eae0-3dfd-44e8-b3f7-f4f2c0797b6b",
   "metadata": {},
   "outputs": [
    {
     "ename": "TypeError",
     "evalue": "'int' object is not iterable",
     "output_type": "error",
     "traceback": [
      "\u001b[1;31m---------------------------------------------------------------------------\u001b[0m",
      "\u001b[1;31mTypeError\u001b[0m                                 Traceback (most recent call last)",
      "Cell \u001b[1;32mIn[19], line 2\u001b[0m\n\u001b[0;32m      1\u001b[0m a \u001b[38;5;241m=\u001b[39m \u001b[38;5;241m10\u001b[39m\n\u001b[1;32m----> 2\u001b[0m \u001b[38;5;28;01mfor\u001b[39;00m i \u001b[38;5;129;01min\u001b[39;00m a:\n\u001b[0;32m      3\u001b[0m     \u001b[38;5;28mprint\u001b[39m(i)\n",
      "\u001b[1;31mTypeError\u001b[0m: 'int' object is not iterable"
     ]
    }
   ],
   "source": [
    "a = 10\n",
    "for i in a:\n",
    "    print(i)"
   ]
  },
  {
   "cell_type": "raw",
   "id": "188715ab-a7b9-4585-a889-8a169b79b1a0",
   "metadata": {},
   "source": [
    "'int' object is not iterable\n",
    "'str' object is iterable"
   ]
  },
  {
   "cell_type": "code",
   "execution_count": 20,
   "id": "e08d051b-b80c-4d48-8d90-c157d3e44572",
   "metadata": {},
   "outputs": [
    {
     "name": "stdout",
     "output_type": "stream",
     "text": [
      "d\n",
      "a\n",
      "t\n",
      "a\n"
     ]
    }
   ],
   "source": [
    "b = 'data'\n",
    "for i in b:\n",
    "    print(i)"
   ]
  },
  {
   "cell_type": "code",
   "execution_count": 21,
   "id": "f1ce06d7-4986-406b-b99d-8fecc5e4b322",
   "metadata": {},
   "outputs": [
    {
     "ename": "TypeError",
     "evalue": "'str' object is not an iterator",
     "output_type": "error",
     "traceback": [
      "\u001b[1;31m---------------------------------------------------------------------------\u001b[0m",
      "\u001b[1;31mTypeError\u001b[0m                                 Traceback (most recent call last)",
      "Cell \u001b[1;32mIn[21], line 1\u001b[0m\n\u001b[1;32m----> 1\u001b[0m \u001b[38;5;28mnext\u001b[39m(b)\n",
      "\u001b[1;31mTypeError\u001b[0m: 'str' object is not an iterator"
     ]
    }
   ],
   "source": [
    "next(b)"
   ]
  },
  {
   "cell_type": "raw",
   "id": "393623b4-7e09-41ae-90c0-d88a4180bedd",
   "metadata": {},
   "source": [
    "'str' object is not an iterator"
   ]
  },
  {
   "cell_type": "code",
   "execution_count": 22,
   "id": "0791dbdb-e6e3-4aca-8099-217ccb82902b",
   "metadata": {},
   "outputs": [],
   "source": [
    "b = iter(b)"
   ]
  },
  {
   "cell_type": "code",
   "execution_count": 23,
   "id": "7eba7972-7b5e-4b9c-8d51-beecad7b753b",
   "metadata": {},
   "outputs": [
    {
     "data": {
      "text/plain": [
       "'d'"
      ]
     },
     "execution_count": 23,
     "metadata": {},
     "output_type": "execute_result"
    }
   ],
   "source": [
    "next(b)"
   ]
  },
  {
   "cell_type": "code",
   "execution_count": 24,
   "id": "dd9b7bbd-5e0a-49a3-96da-9903749d107d",
   "metadata": {},
   "outputs": [
    {
     "data": {
      "text/plain": [
       "'a'"
      ]
     },
     "execution_count": 24,
     "metadata": {},
     "output_type": "execute_result"
    }
   ],
   "source": [
    "next(b)"
   ]
  },
  {
   "cell_type": "code",
   "execution_count": 25,
   "id": "e1b46773-7976-4c7f-af75-5aa0f37c5446",
   "metadata": {},
   "outputs": [
    {
     "data": {
      "text/plain": [
       "'t'"
      ]
     },
     "execution_count": 25,
     "metadata": {},
     "output_type": "execute_result"
    }
   ],
   "source": [
    "next(b)"
   ]
  },
  {
   "cell_type": "code",
   "execution_count": 26,
   "id": "18dc634e-c3c8-4aeb-921f-c3ab76ff5600",
   "metadata": {},
   "outputs": [
    {
     "data": {
      "text/plain": [
       "'a'"
      ]
     },
     "execution_count": 26,
     "metadata": {},
     "output_type": "execute_result"
    }
   ],
   "source": [
    "next(b)"
   ]
  },
  {
   "cell_type": "code",
   "execution_count": 27,
   "id": "500c88ec-9f19-4baa-9ae3-5fc2db799d6e",
   "metadata": {},
   "outputs": [
    {
     "ename": "StopIteration",
     "evalue": "",
     "output_type": "error",
     "traceback": [
      "\u001b[1;31m---------------------------------------------------------------------------\u001b[0m",
      "\u001b[1;31mStopIteration\u001b[0m                             Traceback (most recent call last)",
      "Cell \u001b[1;32mIn[27], line 1\u001b[0m\n\u001b[1;32m----> 1\u001b[0m \u001b[38;5;28mnext\u001b[39m(b)\n",
      "\u001b[1;31mStopIteration\u001b[0m: "
     ]
    }
   ],
   "source": [
    "next(b)"
   ]
  },
  {
   "cell_type": "code",
   "execution_count": null,
   "id": "cfe5b7a8-bec4-4366-a159-5fae643182bc",
   "metadata": {},
   "outputs": [],
   "source": [
    "for i in 100:\n",
    "    print(i)"
   ]
  },
  {
   "cell_type": "code",
   "execution_count": 28,
   "id": "40219ff0-3b04-4f61-9db3-dbfa1789cbe4",
   "metadata": {},
   "outputs": [],
   "source": [
    "def test2(**kwargs):\n",
    "    return kwargs"
   ]
  },
  {
   "cell_type": "code",
   "execution_count": 29,
   "id": "0a2af797-15af-4e65-8469-0a72af8652bc",
   "metadata": {},
   "outputs": [
    {
     "data": {
      "text/plain": [
       "{'a': 5, 'b': 10, 'c': 'Data'}"
      ]
     },
     "execution_count": 29,
     "metadata": {},
     "output_type": "execute_result"
    }
   ],
   "source": [
    "test2(a=5,b=10,c='Data')"
   ]
  },
  {
   "cell_type": "code",
   "execution_count": 30,
   "id": "0e0658aa-6a1a-4f88-897d-4eddb4a2eff9",
   "metadata": {},
   "outputs": [],
   "source": [
    "def test3(**kwargs):\n",
    "    return kwargs.values()"
   ]
  },
  {
   "cell_type": "code",
   "execution_count": 31,
   "id": "dd261d83-2fc0-4ac0-b823-353f2da98e50",
   "metadata": {},
   "outputs": [
    {
     "data": {
      "text/plain": [
       "dict_values([5, 10, 'Data'])"
      ]
     },
     "execution_count": 31,
     "metadata": {},
     "output_type": "execute_result"
    }
   ],
   "source": [
    "test3(a=5,b=10,c='Data')"
   ]
  },
  {
   "cell_type": "code",
   "execution_count": null,
   "id": "a257e945-fe9e-49e8-ac6f-40c21e91b0e2",
   "metadata": {},
   "outputs": [],
   "source": []
  }
 ],
 "metadata": {
  "kernelspec": {
   "display_name": "Python 3 (ipykernel)",
   "language": "python",
   "name": "python3"
  },
  "language_info": {
   "codemirror_mode": {
    "name": "ipython",
    "version": 3
   },
   "file_extension": ".py",
   "mimetype": "text/x-python",
   "name": "python",
   "nbconvert_exporter": "python",
   "pygments_lexer": "ipython3",
   "version": "3.11.7"
  }
 },
 "nbformat": 4,
 "nbformat_minor": 5
}
