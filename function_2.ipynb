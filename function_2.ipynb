{
 "cells": [
  {
   "cell_type": "code",
   "execution_count": 1,
   "id": "5b78d360-9612-4c3a-b61e-675ef724a6dc",
   "metadata": {},
   "outputs": [],
   "source": [
    "def sum_function(a,b):\n",
    "    return a + b"
   ]
  },
  {
   "cell_type": "code",
   "execution_count": 2,
   "id": "2cb4a7bb-8872-40fa-9787-ee0a2e38a4f5",
   "metadata": {},
   "outputs": [
    {
     "data": {
      "text/plain": [
       "30"
      ]
     },
     "execution_count": 2,
     "metadata": {},
     "output_type": "execute_result"
    }
   ],
   "source": [
    "sum_function(10,20)"
   ]
  },
  {
   "cell_type": "code",
   "execution_count": 3,
   "id": "d7a4d327-78ee-4767-b7cb-f01c6b1efb7b",
   "metadata": {},
   "outputs": [],
   "source": [
    "def reverse(name):\n",
    "    return name[::-1]"
   ]
  },
  {
   "cell_type": "code",
   "execution_count": 4,
   "id": "25233072-8b83-4420-b355-553c9ab75265",
   "metadata": {},
   "outputs": [
    {
     "data": {
      "text/plain": [
       "'ataD'"
      ]
     },
     "execution_count": 4,
     "metadata": {},
     "output_type": "execute_result"
    }
   ],
   "source": [
    "reverse('Data')"
   ]
  },
  {
   "cell_type": "code",
   "execution_count": 5,
   "id": "311b488d-1872-43e7-9125-2c9d861c1ad5",
   "metadata": {},
   "outputs": [],
   "source": [
    "def even_odd(a):\n",
    "    if a % 2 == 0:\n",
    "        return 'Even Number', a\n",
    "    else:\n",
    "        return 'odd Number', a"
   ]
  },
  {
   "cell_type": "code",
   "execution_count": 7,
   "id": "e682995d-3bac-4dfa-87fb-72319a106c3d",
   "metadata": {},
   "outputs": [
    {
     "data": {
      "text/plain": [
       "('odd Number', 3)"
      ]
     },
     "execution_count": 7,
     "metadata": {},
     "output_type": "execute_result"
    }
   ],
   "source": [
    "even_odd(3)"
   ]
  },
  {
   "cell_type": "code",
   "execution_count": 8,
   "id": "46df09fc-6e60-4b1f-8b6c-9db364eafc81",
   "metadata": {},
   "outputs": [],
   "source": [
    "def test(*args):\n",
    "    return args"
   ]
  },
  {
   "cell_type": "code",
   "execution_count": 9,
   "id": "f9d58136-a627-484f-b00a-33b9f8190528",
   "metadata": {},
   "outputs": [
    {
     "data": {
      "text/plain": [
       "(1, 2, 3, 'data', 34, 3, 34)"
      ]
     },
     "execution_count": 9,
     "metadata": {},
     "output_type": "execute_result"
    }
   ],
   "source": [
    "test(1,2,3,'data',34,3,34,)"
   ]
  },
  {
   "cell_type": "code",
   "execution_count": 11,
   "id": "0a14ac84-c39e-40b6-af64-33d0a2bd56f3",
   "metadata": {},
   "outputs": [],
   "source": [
    "def test2(*ganesh):\n",
    "    return ganesh"
   ]
  },
  {
   "cell_type": "code",
   "execution_count": 12,
   "id": "298c22bf-ac33-4f6e-842e-02e42b929e3e",
   "metadata": {},
   "outputs": [
    {
     "data": {
      "text/plain": [
       "(8, 3, 4, 2, 43, 4, 2, 4, 32, 3)"
      ]
     },
     "execution_count": 12,
     "metadata": {},
     "output_type": "execute_result"
    }
   ],
   "source": [
    "test2(8,3,4,2,43,4,2,4,32,3)"
   ]
  },
  {
   "cell_type": "code",
   "execution_count": 13,
   "id": "f97bcccf-294e-4f14-9332-ccfffe65d067",
   "metadata": {},
   "outputs": [],
   "source": [
    "def test3(*args):\n",
    "    l = []\n",
    "    for i in args:\n",
    "        if type(i) == str:\n",
    "            l.append(i)\n",
    "    return l"
   ]
  },
  {
   "cell_type": "code",
   "execution_count": 14,
   "id": "e723d641-933f-49ee-a26b-a9006b5a2174",
   "metadata": {},
   "outputs": [
    {
     "data": {
      "text/plain": [
       "['Data']"
      ]
     },
     "execution_count": 14,
     "metadata": {},
     "output_type": "execute_result"
    }
   ],
   "source": [
    "test3('Data', 10,1.5,True)"
   ]
  },
  {
   "cell_type": "code",
   "execution_count": null,
   "id": "d68b27ab-5b6c-4553-841e-2093398fc49a",
   "metadata": {},
   "outputs": [],
   "source": [
    "[1,[100,200],5,8,['data','analysis'],10]"
   ]
  },
  {
   "cell_type": "code",
   "execution_count": 15,
   "id": "5ac7ac22-6ee2-46b6-bbe7-df8df80a3a7b",
   "metadata": {},
   "outputs": [],
   "source": [
    "def list_filter(*args):\n",
    "    l = []\n",
    "    for i in args:\n",
    "        if type(i) == list:\n",
    "            l.append(i)\n",
    "    return l\n",
    "            "
   ]
  },
  {
   "cell_type": "code",
   "execution_count": 16,
   "id": "ea35b8ca-cb4b-4094-ae23-7395d28b39c2",
   "metadata": {},
   "outputs": [
    {
     "data": {
      "text/plain": [
       "[[1, 2, 3, 4]]"
      ]
     },
     "execution_count": 16,
     "metadata": {},
     "output_type": "execute_result"
    }
   ],
   "source": [
    "list_filter(1,2,3,[1,2,3,4], (5,7,9))"
   ]
  },
  {
   "cell_type": "code",
   "execution_count": 17,
   "id": "f05bc967-49b2-457d-b070-7d0d1755100c",
   "metadata": {},
   "outputs": [
    {
     "data": {
      "text/plain": [
       "[[100, 200], [1, 2, 3]]"
      ]
     },
     "execution_count": 17,
     "metadata": {},
     "output_type": "execute_result"
    }
   ],
   "source": [
    "list_filter(1,1.6, 'data', [100,200], (1,2,4,4), [1,2,3])"
   ]
  },
  {
   "cell_type": "code",
   "execution_count": 18,
   "id": "7116417a-334c-4c00-b8a3-671d6cb1693e",
   "metadata": {},
   "outputs": [],
   "source": [
    "def nested_list(*args):\n",
    "    l = []\n",
    "    for i in args:\n",
    "        if type(i) == list:\n",
    "            for numbers in i:\n",
    "                l.append(numbers)\n",
    "    return l"
   ]
  },
  {
   "cell_type": "code",
   "execution_count": 19,
   "id": "7aab2b65-6cae-40a8-bbcb-864d4dc8e11a",
   "metadata": {},
   "outputs": [
    {
     "data": {
      "text/plain": [
       "[100, 200, 1, 2, 3]"
      ]
     },
     "execution_count": 19,
     "metadata": {},
     "output_type": "execute_result"
    }
   ],
   "source": [
    "nested_list(1,1.6, 'data', [100,200], (1,2,4,4), [1,2,3])"
   ]
  },
  {
   "cell_type": "code",
   "execution_count": 20,
   "id": "145e9170-47a3-4ae1-ada9-892a4547c209",
   "metadata": {},
   "outputs": [],
   "source": [
    "def even_odd_sort(*args):\n",
    "    odd = []\n",
    "    even = []\n",
    "    for i in args:\n",
    "        if i % 2 == 0:\n",
    "            even.append(i)\n",
    "        else:\n",
    "            odd.append(i)\n",
    "    return 'Odd List:', odd, 'Even List:', even"
   ]
  },
  {
   "cell_type": "code",
   "execution_count": 21,
   "id": "27010d99-01c9-47df-b014-3af0e9c76097",
   "metadata": {},
   "outputs": [
    {
     "data": {
      "text/plain": [
       "('Odd List:', [1, 3, 5, 7, 9], 'Even List:', [2, 4, 6, 8])"
      ]
     },
     "execution_count": 21,
     "metadata": {},
     "output_type": "execute_result"
    }
   ],
   "source": [
    "even_odd_sort(1,2,3,4,5,6,7,8,9)"
   ]
  },
  {
   "cell_type": "code",
   "execution_count": 22,
   "id": "12857e1e-7724-40a1-972b-4cb7f3f6bd46",
   "metadata": {},
   "outputs": [],
   "source": [
    "def test5(a,*args):\n",
    "    return a, args"
   ]
  },
  {
   "cell_type": "code",
   "execution_count": 23,
   "id": "479c4d24-bd55-4c6b-b49f-3929436075c8",
   "metadata": {},
   "outputs": [
    {
     "data": {
      "text/plain": [
       "(100, (200, 300, 400, 500))"
      ]
     },
     "execution_count": 23,
     "metadata": {},
     "output_type": "execute_result"
    }
   ],
   "source": [
    "test5(100,200,300,400,500)"
   ]
  },
  {
   "cell_type": "code",
   "execution_count": 24,
   "id": "a4a30b36-c093-462c-a091-3c9041a2928b",
   "metadata": {},
   "outputs": [],
   "source": [
    "def test6(a,b,*args):\n",
    "    return a,b, args"
   ]
  },
  {
   "cell_type": "code",
   "execution_count": 25,
   "id": "ea183b03-bf29-45bf-a0e5-3611004b5e83",
   "metadata": {},
   "outputs": [
    {
     "data": {
      "text/plain": [
       "(1, 2, (3, 4, 5, 6, 7, 8))"
      ]
     },
     "execution_count": 25,
     "metadata": {},
     "output_type": "execute_result"
    }
   ],
   "source": [
    "test6(1,2,3,4,5,6,7,8)"
   ]
  },
  {
   "cell_type": "code",
   "execution_count": 26,
   "id": "197d5fb6-a774-4d1f-86c5-48846d3c4f5b",
   "metadata": {},
   "outputs": [],
   "source": [
    "def test7(**kwargs):\n",
    "    return kwargs"
   ]
  },
  {
   "cell_type": "code",
   "execution_count": 27,
   "id": "f9859887-437a-4f73-934f-94ad4a9b3050",
   "metadata": {},
   "outputs": [
    {
     "data": {
      "text/plain": [
       "{'a': 4, 'v': 6, 'd': 8}"
      ]
     },
     "execution_count": 27,
     "metadata": {},
     "output_type": "execute_result"
    }
   ],
   "source": [
    "test7(a=4,v=6,d=8)"
   ]
  },
  {
   "cell_type": "code",
   "execution_count": 28,
   "id": "14771712-62c8-4e3e-96b5-80b256f1b875",
   "metadata": {},
   "outputs": [],
   "source": [
    "def test8(a,*args,**kwargs):\n",
    "    return a, args, kwargs"
   ]
  },
  {
   "cell_type": "code",
   "execution_count": 30,
   "id": "22c2c391-f908-4112-92cd-60d0dac06c32",
   "metadata": {},
   "outputs": [
    {
     "data": {
      "text/plain": [
       "(1,\n",
       " (2, 3, 4, 5, 6, 100, 200, 300),\n",
       " {'City': 'Pune', 'Name': 'ganesh', 'Age': 30})"
      ]
     },
     "execution_count": 30,
     "metadata": {},
     "output_type": "execute_result"
    }
   ],
   "source": [
    "test8(1,2,3,4,5,6,100,200,300,City='Pune',Name='ganesh',Age=30)"
   ]
  },
  {
   "cell_type": "code",
   "execution_count": 31,
   "id": "6c54d30b-46dc-4e1b-9b34-588f3c249e27",
   "metadata": {},
   "outputs": [],
   "source": [
    "def test9(**kwargs):\n",
    "    return kwargs.values()"
   ]
  },
  {
   "cell_type": "code",
   "execution_count": 32,
   "id": "c472ca39-155c-4ac1-b2aa-7224d0f727d0",
   "metadata": {},
   "outputs": [
    {
     "data": {
      "text/plain": [
       "dict_values([3, 100, 1000])"
      ]
     },
     "execution_count": 32,
     "metadata": {},
     "output_type": "execute_result"
    }
   ],
   "source": [
    "test9(a=3,b=100,c=1000)"
   ]
  },
  {
   "cell_type": "code",
   "execution_count": null,
   "id": "c341b2f7-2896-43a3-a237-94f5c9261037",
   "metadata": {},
   "outputs": [],
   "source": []
  }
 ],
 "metadata": {
  "kernelspec": {
   "display_name": "Python 3 (ipykernel)",
   "language": "python",
   "name": "python3"
  },
  "language_info": {
   "codemirror_mode": {
    "name": "ipython",
    "version": 3
   },
   "file_extension": ".py",
   "mimetype": "text/x-python",
   "name": "python",
   "nbconvert_exporter": "python",
   "pygments_lexer": "ipython3",
   "version": "3.11.7"
  }
 },
 "nbformat": 4,
 "nbformat_minor": 5
}
