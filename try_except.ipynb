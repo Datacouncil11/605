{
 "cells": [
  {
   "cell_type": "code",
   "execution_count": 6,
   "id": "a4f32150-b930-4b0e-914b-30e4fb5bbe92",
   "metadata": {},
   "outputs": [
    {
     "name": "stdout",
     "output_type": "stream",
     "text": [
      "Error in try blog\n"
     ]
    }
   ],
   "source": [
    "try:\n",
    "    5 + 'E'\n",
    "except:\n",
    "    print('Error in try blog')"
   ]
  },
  {
   "cell_type": "code",
   "execution_count": 7,
   "id": "cc679c87-6710-4b29-90e7-35e651daf768",
   "metadata": {},
   "outputs": [
    {
     "name": "stdout",
     "output_type": "stream",
     "text": [
      "Error in try blog at line no 3\n"
     ]
    }
   ],
   "source": [
    "try:\n",
    "    print(5 + '')\n",
    "except:\n",
    "    print('Error in try blog at line no 3')"
   ]
  },
  {
   "cell_type": "code",
   "execution_count": 9,
   "id": "5f8c3c57-a877-4bf8-a202-a3898b4bda69",
   "metadata": {},
   "outputs": [
    {
     "ename": "ZeroDivisionError",
     "evalue": "division by zero",
     "output_type": "error",
     "traceback": [
      "\u001b[1;31m---------------------------------------------------------------------------\u001b[0m",
      "\u001b[1;31mZeroDivisionError\u001b[0m                         Traceback (most recent call last)",
      "Cell \u001b[1;32mIn[9], line 1\u001b[0m\n\u001b[1;32m----> 1\u001b[0m \u001b[38;5;241m4\u001b[39m\u001b[38;5;241m/\u001b[39m\u001b[38;5;241m0\u001b[39m\n",
      "\u001b[1;31mZeroDivisionError\u001b[0m: division by zero"
     ]
    }
   ],
   "source": [
    "4/0"
   ]
  },
  {
   "cell_type": "code",
   "execution_count": 2,
   "id": "801e1779-34cd-4d3b-b713-3d93ec267152",
   "metadata": {},
   "outputs": [
    {
     "name": "stdin",
     "output_type": "stream",
     "text": [
      "Imput value 0\n"
     ]
    },
    {
     "name": "stdout",
     "output_type": "stream",
     "text": [
      "division by zero\n"
     ]
    }
   ],
   "source": [
    "try:\n",
    "    num = int(input('Imput value'))\n",
    "    result = 10/num\n",
    "    print(result)\n",
    "except Exception as e:\n",
    "    print(e)"
   ]
  },
  {
   "cell_type": "code",
   "execution_count": 3,
   "id": "33ce1de5-3edd-4cd1-bc60-ff0d91843175",
   "metadata": {},
   "outputs": [
    {
     "name": "stdin",
     "output_type": "stream",
     "text": [
      " 8\n"
     ]
    },
    {
     "name": "stdout",
     "output_type": "stream",
     "text": [
      "1.25\n"
     ]
    }
   ],
   "source": [
    "num = int(input())\n",
    "result = 10/num\n",
    "print(result)"
   ]
  },
  {
   "cell_type": "code",
   "execution_count": null,
   "id": "ca8ab8dc-4e38-41c0-892f-cad1ee23e0c2",
   "metadata": {},
   "outputs": [],
   "source": [
    "10/0"
   ]
  },
  {
   "cell_type": "code",
   "execution_count": 6,
   "id": "cc6e07a9-084c-427d-b447-65dce8cf6a8c",
   "metadata": {},
   "outputs": [
    {
     "name": "stdin",
     "output_type": "stream",
     "text": [
      "Enter your age hvgg\n"
     ]
    },
    {
     "name": "stdout",
     "output_type": "stream",
     "text": [
      "invalid literal for int() with base 10: 'hvgg'\n"
     ]
    }
   ],
   "source": [
    "try:\n",
    "    age = int(input('Enter your age'))\n",
    "    print('Your age is', age)\n",
    "except Exception as e:\n",
    "    print(e)"
   ]
  },
  {
   "cell_type": "code",
   "execution_count": null,
   "id": "044b59ab-a259-4b06-83e7-5cb069f9d939",
   "metadata": {},
   "outputs": [],
   "source": []
  }
 ],
 "metadata": {
  "kernelspec": {
   "display_name": "Python 3 (ipykernel)",
   "language": "python",
   "name": "python3"
  },
  "language_info": {
   "codemirror_mode": {
    "name": "ipython",
    "version": 3
   },
   "file_extension": ".py",
   "mimetype": "text/x-python",
   "name": "python",
   "nbconvert_exporter": "python",
   "pygments_lexer": "ipython3",
   "version": "3.11.7"
  }
 },
 "nbformat": 4,
 "nbformat_minor": 5
}
