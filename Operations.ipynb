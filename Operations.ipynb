{
 "cells": [
  {
   "cell_type": "code",
   "execution_count": 1,
   "id": "77e274dc-1362-4931-9af0-00756d2983cc",
   "metadata": {},
   "outputs": [
    {
     "data": {
      "text/plain": [
       "10"
      ]
     },
     "execution_count": 1,
     "metadata": {},
     "output_type": "execute_result"
    }
   ],
   "source": [
    "5 + 5 #Int + Int "
   ]
  },
  {
   "cell_type": "code",
   "execution_count": 2,
   "id": "c04ca03d-50a2-48b7-b942-5caf31705bf6",
   "metadata": {},
   "outputs": [
    {
     "data": {
      "text/plain": [
       "50"
      ]
     },
     "execution_count": 2,
     "metadata": {},
     "output_type": "execute_result"
    }
   ],
   "source": [
    "10 * 5 # Int +Int"
   ]
  },
  {
   "cell_type": "code",
   "execution_count": 3,
   "id": "a5a6b31a-2022-4e35-9f62-2fe4437ab7cd",
   "metadata": {},
   "outputs": [
    {
     "data": {
      "text/plain": [
       "14.5"
      ]
     },
     "execution_count": 3,
     "metadata": {},
     "output_type": "execute_result"
    }
   ],
   "source": [
    "10 + 4.5 # Int + float"
   ]
  },
  {
   "cell_type": "code",
   "execution_count": 4,
   "id": "dde8c806-db2e-4266-a2a5-c77f190d078e",
   "metadata": {},
   "outputs": [
    {
     "data": {
      "text/plain": [
       "7.0"
      ]
     },
     "execution_count": 4,
     "metadata": {},
     "output_type": "execute_result"
    }
   ],
   "source": [
    "4.5 + 2.5 # float + float"
   ]
  },
  {
   "cell_type": "code",
   "execution_count": 5,
   "id": "a26e3c3d-5678-49f3-b96f-c3124d6eb9db",
   "metadata": {},
   "outputs": [
    {
     "data": {
      "text/plain": [
       "'DataScience'"
      ]
     },
     "execution_count": 5,
     "metadata": {},
     "output_type": "execute_result"
    }
   ],
   "source": [
    "'Data' + 'Science' # string + string"
   ]
  },
  {
   "cell_type": "code",
   "execution_count": 6,
   "id": "5e89580e-e97a-4f71-bbf2-dce066165452",
   "metadata": {},
   "outputs": [
    {
     "ename": "TypeError",
     "evalue": "can only concatenate str (not \"int\") to str",
     "output_type": "error",
     "traceback": [
      "\u001b[1;31m---------------------------------------------------------------------------\u001b[0m",
      "\u001b[1;31mTypeError\u001b[0m                                 Traceback (most recent call last)",
      "Cell \u001b[1;32mIn[6], line 1\u001b[0m\n\u001b[1;32m----> 1\u001b[0m \u001b[38;5;124m'\u001b[39m\u001b[38;5;124mData\u001b[39m\u001b[38;5;124m'\u001b[39m \u001b[38;5;241m+\u001b[39m \u001b[38;5;241m10\u001b[39m\n",
      "\u001b[1;31mTypeError\u001b[0m: can only concatenate str (not \"int\") to str"
     ]
    }
   ],
   "source": [
    "'Data' + 10  # String + Int"
   ]
  },
  {
   "cell_type": "code",
   "execution_count": 7,
   "id": "a51f79fd-729a-4d7a-84dd-a7c100db5680",
   "metadata": {},
   "outputs": [
    {
     "data": {
      "text/plain": [
       "'Data10'"
      ]
     },
     "execution_count": 7,
     "metadata": {},
     "output_type": "execute_result"
    }
   ],
   "source": [
    "'Data' + '10' #Str + str"
   ]
  },
  {
   "cell_type": "code",
   "execution_count": 10,
   "id": "1ff04801-e08d-4867-b005-d9cfdee6ac23",
   "metadata": {},
   "outputs": [
    {
     "data": {
      "text/plain": [
       "'DataDataDataDataDataDataDataDataDataData'"
      ]
     },
     "execution_count": 10,
     "metadata": {},
     "output_type": "execute_result"
    }
   ],
   "source": [
    "'Data' * 10"
   ]
  },
  {
   "cell_type": "code",
   "execution_count": 11,
   "id": "0ddd070c-5a54-4afe-a103-06fda5ab3b50",
   "metadata": {},
   "outputs": [
    {
     "data": {
      "text/plain": [
       "1000"
      ]
     },
     "execution_count": 11,
     "metadata": {},
     "output_type": "execute_result"
    }
   ],
   "source": [
    "100 * 10"
   ]
  },
  {
   "cell_type": "code",
   "execution_count": 12,
   "id": "cdd9b559-63a1-44aa-a9ad-c6964d009e38",
   "metadata": {},
   "outputs": [
    {
     "ename": "TypeError",
     "evalue": "can only concatenate str (not \"float\") to str",
     "output_type": "error",
     "traceback": [
      "\u001b[1;31m---------------------------------------------------------------------------\u001b[0m",
      "\u001b[1;31mTypeError\u001b[0m                                 Traceback (most recent call last)",
      "Cell \u001b[1;32mIn[12], line 1\u001b[0m\n\u001b[1;32m----> 1\u001b[0m \u001b[38;5;124m'\u001b[39m\u001b[38;5;124mData\u001b[39m\u001b[38;5;124m'\u001b[39m \u001b[38;5;241m+\u001b[39m \u001b[38;5;241m10.5\u001b[39m\n",
      "\u001b[1;31mTypeError\u001b[0m: can only concatenate str (not \"float\") to str"
     ]
    }
   ],
   "source": [
    "'Data' + 10.5 # String + float"
   ]
  },
  {
   "cell_type": "code",
   "execution_count": 13,
   "id": "7c6380c2-e751-4aa7-afed-217a12cb93f3",
   "metadata": {},
   "outputs": [
    {
     "data": {
      "text/plain": [
       "2"
      ]
     },
     "execution_count": 13,
     "metadata": {},
     "output_type": "execute_result"
    }
   ],
   "source": [
    "True + True  # 1 + 1"
   ]
  },
  {
   "cell_type": "code",
   "execution_count": 14,
   "id": "eeffae7e-e8e9-4867-b923-789ceef64ce2",
   "metadata": {},
   "outputs": [
    {
     "data": {
      "text/plain": [
       "1"
      ]
     },
     "execution_count": 14,
     "metadata": {},
     "output_type": "execute_result"
    }
   ],
   "source": [
    "True + False # 1 + 0"
   ]
  },
  {
   "cell_type": "code",
   "execution_count": 15,
   "id": "fbe0c3c7-9dc3-4402-be15-05fe0199c46b",
   "metadata": {},
   "outputs": [
    {
     "data": {
      "text/plain": [
       "0"
      ]
     },
     "execution_count": 15,
     "metadata": {},
     "output_type": "execute_result"
    }
   ],
   "source": [
    "True - True # 1 - 1"
   ]
  },
  {
   "cell_type": "code",
   "execution_count": 16,
   "id": "a6e7df3d-934f-4d1b-b6e7-93c01a3f9c3e",
   "metadata": {},
   "outputs": [
    {
     "data": {
      "text/plain": [
       "0"
      ]
     },
     "execution_count": 16,
     "metadata": {},
     "output_type": "execute_result"
    }
   ],
   "source": [
    "False + False"
   ]
  },
  {
   "cell_type": "markdown",
   "id": "05d6fecd-5642-422c-9a04-33b3e3e5ca19",
   "metadata": {},
   "source": [
    "# Variable"
   ]
  },
  {
   "cell_type": "code",
   "execution_count": 17,
   "id": "0655a44a-2937-42d1-abfb-b74c3315ffc4",
   "metadata": {},
   "outputs": [],
   "source": [
    "a = 10 # A --> Variable and 10 --> Obj"
   ]
  },
  {
   "cell_type": "code",
   "execution_count": 18,
   "id": "b6fbdf23-edff-4898-a20a-943a2cb53a21",
   "metadata": {},
   "outputs": [
    {
     "data": {
      "text/plain": [
       "10"
      ]
     },
     "execution_count": 18,
     "metadata": {},
     "output_type": "execute_result"
    }
   ],
   "source": [
    "a"
   ]
  },
  {
   "cell_type": "code",
   "execution_count": 19,
   "id": "6b6da8a7-7248-4de8-b082-96463e613e3d",
   "metadata": {},
   "outputs": [],
   "source": [
    "a5 = 100"
   ]
  },
  {
   "cell_type": "code",
   "execution_count": 20,
   "id": "80e815f2-19c8-4504-a598-b8daab6e247a",
   "metadata": {},
   "outputs": [
    {
     "data": {
      "text/plain": [
       "100"
      ]
     },
     "execution_count": 20,
     "metadata": {},
     "output_type": "execute_result"
    }
   ],
   "source": [
    "a5"
   ]
  },
  {
   "cell_type": "code",
   "execution_count": 21,
   "id": "28c47fb3-1510-4426-92f2-22c318e780f9",
   "metadata": {},
   "outputs": [],
   "source": [
    "d = 'data'"
   ]
  },
  {
   "cell_type": "code",
   "execution_count": 22,
   "id": "8fecd15f-21c1-473a-bb72-891cc32af0d0",
   "metadata": {},
   "outputs": [
    {
     "data": {
      "text/plain": [
       "'data'"
      ]
     },
     "execution_count": 22,
     "metadata": {},
     "output_type": "execute_result"
    }
   ],
   "source": [
    "d"
   ]
  },
  {
   "cell_type": "code",
   "execution_count": 23,
   "id": "f2be8775-3958-47dd-9ecb-a69eb2d69fe5",
   "metadata": {},
   "outputs": [],
   "source": [
    "s = 'Science'"
   ]
  },
  {
   "cell_type": "code",
   "execution_count": 24,
   "id": "4ce49343-fbfb-49c0-a52d-d2c80f0051f1",
   "metadata": {},
   "outputs": [
    {
     "data": {
      "text/plain": [
       "'Science'"
      ]
     },
     "execution_count": 24,
     "metadata": {},
     "output_type": "execute_result"
    }
   ],
   "source": [
    "s"
   ]
  },
  {
   "cell_type": "code",
   "execution_count": 25,
   "id": "ff2d34b0-ae94-4f92-8c75-f1d861d3ea9e",
   "metadata": {},
   "outputs": [
    {
     "data": {
      "text/plain": [
       "'dataScience'"
      ]
     },
     "execution_count": 25,
     "metadata": {},
     "output_type": "execute_result"
    }
   ],
   "source": [
    "d + s"
   ]
  },
  {
   "cell_type": "code",
   "execution_count": 26,
   "id": "f01fda88-e98c-4261-99b2-7af7a534120a",
   "metadata": {},
   "outputs": [],
   "source": [
    "b = 5"
   ]
  },
  {
   "cell_type": "code",
   "execution_count": 27,
   "id": "5bf9f082-1d80-4b47-b5b6-c0330baf4456",
   "metadata": {},
   "outputs": [
    {
     "data": {
      "text/plain": [
       "10"
      ]
     },
     "execution_count": 27,
     "metadata": {},
     "output_type": "execute_result"
    }
   ],
   "source": [
    "a"
   ]
  },
  {
   "cell_type": "code",
   "execution_count": 28,
   "id": "a18be49b-f869-4cec-9f00-0e6b2126e4b4",
   "metadata": {},
   "outputs": [
    {
     "data": {
      "text/plain": [
       "15"
      ]
     },
     "execution_count": 28,
     "metadata": {},
     "output_type": "execute_result"
    }
   ],
   "source": [
    "a + b"
   ]
  },
  {
   "cell_type": "code",
   "execution_count": 29,
   "id": "0aedabd3-4d68-4426-98f5-0b64d02827d3",
   "metadata": {},
   "outputs": [],
   "source": [
    "c = a + b"
   ]
  },
  {
   "cell_type": "code",
   "execution_count": 30,
   "id": "12a8813f-d242-4ba8-89e5-b4f106980cfd",
   "metadata": {},
   "outputs": [
    {
     "data": {
      "text/plain": [
       "15"
      ]
     },
     "execution_count": 30,
     "metadata": {},
     "output_type": "execute_result"
    }
   ],
   "source": [
    "c"
   ]
  },
  {
   "cell_type": "code",
   "execution_count": 31,
   "id": "3f0347cd-bb48-4536-bd65-6e8a5b34de18",
   "metadata": {},
   "outputs": [],
   "source": [
    "f = 1.5"
   ]
  },
  {
   "cell_type": "code",
   "execution_count": 32,
   "id": "3bae4d3f-c19d-42f9-a13b-0cc43772559f",
   "metadata": {},
   "outputs": [
    {
     "data": {
      "text/plain": [
       "15.0"
      ]
     },
     "execution_count": 32,
     "metadata": {},
     "output_type": "execute_result"
    }
   ],
   "source": [
    "a * f"
   ]
  },
  {
   "cell_type": "code",
   "execution_count": 33,
   "id": "7c80b1fc-177f-4ec5-985f-6b5e6aae4f75",
   "metadata": {},
   "outputs": [
    {
     "data": {
      "text/plain": [
       "10"
      ]
     },
     "execution_count": 33,
     "metadata": {},
     "output_type": "execute_result"
    }
   ],
   "source": [
    "a"
   ]
  },
  {
   "cell_type": "code",
   "execution_count": 34,
   "id": "4e1b2bf0-12ff-489a-b6a6-83bfd750c2b8",
   "metadata": {},
   "outputs": [
    {
     "data": {
      "text/plain": [
       "'data'"
      ]
     },
     "execution_count": 34,
     "metadata": {},
     "output_type": "execute_result"
    }
   ],
   "source": [
    "d"
   ]
  },
  {
   "cell_type": "code",
   "execution_count": 35,
   "id": "635a4722-e465-435e-b036-bccb922e4a5a",
   "metadata": {},
   "outputs": [
    {
     "data": {
      "text/plain": [
       "10"
      ]
     },
     "execution_count": 35,
     "metadata": {},
     "output_type": "execute_result"
    }
   ],
   "source": [
    "a"
   ]
  },
  {
   "cell_type": "code",
   "execution_count": 36,
   "id": "ada7f45b-bdf5-485e-8928-d0fa6c525f67",
   "metadata": {},
   "outputs": [
    {
     "ename": "TypeError",
     "evalue": "unsupported operand type(s) for +: 'int' and 'str'",
     "output_type": "error",
     "traceback": [
      "\u001b[1;31m---------------------------------------------------------------------------\u001b[0m",
      "\u001b[1;31mTypeError\u001b[0m                                 Traceback (most recent call last)",
      "Cell \u001b[1;32mIn[36], line 1\u001b[0m\n\u001b[1;32m----> 1\u001b[0m a \u001b[38;5;241m+\u001b[39m d\n",
      "\u001b[1;31mTypeError\u001b[0m: unsupported operand type(s) for +: 'int' and 'str'"
     ]
    }
   ],
   "source": [
    "a + d"
   ]
  },
  {
   "cell_type": "code",
   "execution_count": 37,
   "id": "b0a5e481-0362-4855-ba1e-cf9f7e49f680",
   "metadata": {},
   "outputs": [],
   "source": [
    "# Comparision "
   ]
  },
  {
   "cell_type": "code",
   "execution_count": 38,
   "id": "43a158a0-db80-4b55-9984-0b26c55e40a7",
   "metadata": {},
   "outputs": [],
   "source": [
    "a = 5\n",
    "b = 10"
   ]
  },
  {
   "cell_type": "code",
   "execution_count": 39,
   "id": "7279612c-7224-4300-ae1f-51a41ca02fa3",
   "metadata": {},
   "outputs": [
    {
     "data": {
      "text/plain": [
       "True"
      ]
     },
     "execution_count": 39,
     "metadata": {},
     "output_type": "execute_result"
    }
   ],
   "source": [
    "5 < 10 "
   ]
  },
  {
   "cell_type": "code",
   "execution_count": 40,
   "id": "c0300696-7b35-4b37-b4d0-f6a1d609275c",
   "metadata": {},
   "outputs": [
    {
     "data": {
      "text/plain": [
       "False"
      ]
     },
     "execution_count": 40,
     "metadata": {},
     "output_type": "execute_result"
    }
   ],
   "source": [
    "5 > 10"
   ]
  },
  {
   "cell_type": "code",
   "execution_count": 41,
   "id": "e12c8006-41c2-4ca6-a868-046805f7bed2",
   "metadata": {},
   "outputs": [
    {
     "data": {
      "text/plain": [
       "True"
      ]
     },
     "execution_count": 41,
     "metadata": {},
     "output_type": "execute_result"
    }
   ],
   "source": [
    "5 >= 5"
   ]
  },
  {
   "cell_type": "code",
   "execution_count": 42,
   "id": "7dd69455-12da-480e-93fe-0c0cfad740ff",
   "metadata": {},
   "outputs": [
    {
     "data": {
      "text/plain": [
       "True"
      ]
     },
     "execution_count": 42,
     "metadata": {},
     "output_type": "execute_result"
    }
   ],
   "source": [
    "10 <= 10"
   ]
  },
  {
   "cell_type": "code",
   "execution_count": 43,
   "id": "7f4fe4b2-703d-45ed-83da-f10bf806cec3",
   "metadata": {},
   "outputs": [
    {
     "data": {
      "text/plain": [
       "True"
      ]
     },
     "execution_count": 43,
     "metadata": {},
     "output_type": "execute_result"
    }
   ],
   "source": [
    "10 == 10"
   ]
  },
  {
   "cell_type": "code",
   "execution_count": 44,
   "id": "02864faa-b658-478c-8ec3-202f760c602c",
   "metadata": {},
   "outputs": [
    {
     "data": {
      "text/plain": [
       "False"
      ]
     },
     "execution_count": 44,
     "metadata": {},
     "output_type": "execute_result"
    }
   ],
   "source": [
    "5 == 10"
   ]
  },
  {
   "cell_type": "code",
   "execution_count": 45,
   "id": "366c60a4-3ed2-462c-ba38-2ef85d93e5fd",
   "metadata": {},
   "outputs": [
    {
     "data": {
      "text/plain": [
       "False"
      ]
     },
     "execution_count": 45,
     "metadata": {},
     "output_type": "execute_result"
    }
   ],
   "source": [
    "10 != 10"
   ]
  },
  {
   "cell_type": "code",
   "execution_count": 46,
   "id": "e4d0ba99-9200-4a23-a2c6-945f14fe8d51",
   "metadata": {},
   "outputs": [
    {
     "data": {
      "text/plain": [
       "True"
      ]
     },
     "execution_count": 46,
     "metadata": {},
     "output_type": "execute_result"
    }
   ],
   "source": [
    "5 != 10"
   ]
  },
  {
   "cell_type": "code",
   "execution_count": 47,
   "id": "7f86e751-1f7d-4612-a565-d6c5a83c5641",
   "metadata": {},
   "outputs": [
    {
     "data": {
      "text/plain": [
       "False"
      ]
     },
     "execution_count": 47,
     "metadata": {},
     "output_type": "execute_result"
    }
   ],
   "source": [
    "'Data' == 'Science'"
   ]
  },
  {
   "cell_type": "code",
   "execution_count": 48,
   "id": "c74277f3-69f0-43c8-b729-34069d10a485",
   "metadata": {},
   "outputs": [
    {
     "data": {
      "text/plain": [
       "True"
      ]
     },
     "execution_count": 48,
     "metadata": {},
     "output_type": "execute_result"
    }
   ],
   "source": [
    "'Data' != 'Science'"
   ]
  },
  {
   "cell_type": "code",
   "execution_count": 49,
   "id": "824e4bae-31ba-491e-a531-b4d4654bd461",
   "metadata": {},
   "outputs": [
    {
     "data": {
      "text/plain": [
       "False"
      ]
     },
     "execution_count": 49,
     "metadata": {},
     "output_type": "execute_result"
    }
   ],
   "source": [
    "'Data' == 'data'"
   ]
  },
  {
   "cell_type": "code",
   "execution_count": 50,
   "id": "901eb232-2417-4ef5-9427-19a3294ad1c9",
   "metadata": {},
   "outputs": [],
   "source": [
    "a = '''This is my first line\n",
    "This is my second line\n",
    "This is my third line'''"
   ]
  },
  {
   "cell_type": "code",
   "execution_count": 51,
   "id": "339f2389-db7f-47b4-902f-40b5502c93de",
   "metadata": {},
   "outputs": [
    {
     "data": {
      "text/plain": [
       "'This is my first line\\nThis is my second line\\nThis is my third line'"
      ]
     },
     "execution_count": 51,
     "metadata": {},
     "output_type": "execute_result"
    }
   ],
   "source": [
    "a"
   ]
  },
  {
   "cell_type": "code",
   "execution_count": 52,
   "id": "8d883533-f896-48ac-885e-249c8096c2ca",
   "metadata": {},
   "outputs": [
    {
     "name": "stdout",
     "output_type": "stream",
     "text": [
      "This is my first line\n",
      "This is my second line\n",
      "This is my third line\n"
     ]
    }
   ],
   "source": [
    "print(a)"
   ]
  },
  {
   "cell_type": "code",
   "execution_count": 53,
   "id": "7902e77b-1346-4e71-93c4-9e5636970669",
   "metadata": {},
   "outputs": [
    {
     "data": {
      "text/plain": [
       "'data'"
      ]
     },
     "execution_count": 53,
     "metadata": {},
     "output_type": "execute_result"
    }
   ],
   "source": [
    "d"
   ]
  },
  {
   "cell_type": "code",
   "execution_count": 54,
   "id": "9ee9eb0d-70f7-46ac-be44-84d791f48f98",
   "metadata": {},
   "outputs": [
    {
     "name": "stdout",
     "output_type": "stream",
     "text": [
      "data\n"
     ]
    }
   ],
   "source": [
    "print(d)"
   ]
  },
  {
   "cell_type": "code",
   "execution_count": 55,
   "id": "2fa0c905-3ad6-41c8-9afa-f1fd24eeb383",
   "metadata": {},
   "outputs": [
    {
     "name": "stdout",
     "output_type": "stream",
     "text": [
      "Science\n"
     ]
    }
   ],
   "source": [
    "print('Science')"
   ]
  },
  {
   "cell_type": "code",
   "execution_count": 56,
   "id": "41e88aed-1fe8-4062-bf6a-8204e6ad9e3d",
   "metadata": {},
   "outputs": [],
   "source": [
    "# Input"
   ]
  },
  {
   "cell_type": "code",
   "execution_count": 57,
   "id": "58e4243c-696c-4438-afeb-6ece298ea32e",
   "metadata": {},
   "outputs": [
    {
     "name": "stdin",
     "output_type": "stream",
     "text": [
      " 5\n"
     ]
    }
   ],
   "source": [
    "a = input()"
   ]
  },
  {
   "cell_type": "code",
   "execution_count": 58,
   "id": "ae5aecc7-e0a2-44e6-90b3-d146983c7160",
   "metadata": {},
   "outputs": [
    {
     "data": {
      "text/plain": [
       "'5'"
      ]
     },
     "execution_count": 58,
     "metadata": {},
     "output_type": "execute_result"
    }
   ],
   "source": [
    "a"
   ]
  },
  {
   "cell_type": "code",
   "execution_count": 59,
   "id": "7275f23e-98d8-4472-9866-4992014ef679",
   "metadata": {},
   "outputs": [
    {
     "data": {
      "text/plain": [
       "str"
      ]
     },
     "execution_count": 59,
     "metadata": {},
     "output_type": "execute_result"
    }
   ],
   "source": [
    "type(a)"
   ]
  },
  {
   "cell_type": "code",
   "execution_count": 60,
   "id": "454543ef-7c76-42f1-b452-f4b7244b2f12",
   "metadata": {},
   "outputs": [
    {
     "name": "stdin",
     "output_type": "stream",
     "text": [
      "Write your name xyz\n"
     ]
    }
   ],
   "source": [
    "b = input('Write your name')"
   ]
  },
  {
   "cell_type": "code",
   "execution_count": 61,
   "id": "e4a4ed8a-3138-43d4-a2c0-8939c2fe7a0b",
   "metadata": {},
   "outputs": [
    {
     "data": {
      "text/plain": [
       "'xyz'"
      ]
     },
     "execution_count": 61,
     "metadata": {},
     "output_type": "execute_result"
    }
   ],
   "source": [
    "b"
   ]
  },
  {
   "cell_type": "code",
   "execution_count": 66,
   "id": "99cf8785-2022-4046-a64f-59b5d2838238",
   "metadata": {},
   "outputs": [
    {
     "name": "stdin",
     "output_type": "stream",
     "text": [
      "Enter your age 78\n"
     ]
    }
   ],
   "source": [
    "s = int(input('Enter your age'))"
   ]
  },
  {
   "cell_type": "code",
   "execution_count": 63,
   "id": "27e174cf-8089-4693-a615-4093835a8208",
   "metadata": {},
   "outputs": [
    {
     "data": {
      "text/plain": [
       "80"
      ]
     },
     "execution_count": 63,
     "metadata": {},
     "output_type": "execute_result"
    }
   ],
   "source": [
    "s"
   ]
  },
  {
   "cell_type": "code",
   "execution_count": 64,
   "id": "3141dee4-4338-4bd7-b432-e2850404c22b",
   "metadata": {},
   "outputs": [
    {
     "data": {
      "text/plain": [
       "int"
      ]
     },
     "execution_count": 64,
     "metadata": {},
     "output_type": "execute_result"
    }
   ],
   "source": [
    "type(s)"
   ]
  },
  {
   "cell_type": "code",
   "execution_count": 68,
   "id": "981e72f1-d1e0-4c53-91b6-ab493b493f1b",
   "metadata": {},
   "outputs": [
    {
     "name": "stdin",
     "output_type": "stream",
     "text": [
      "Message 10\n"
     ]
    }
   ],
   "source": [
    "f = float(input('Message'))"
   ]
  },
  {
   "cell_type": "code",
   "execution_count": 69,
   "id": "9557fe8f-11e0-4511-bffd-4b6e6b3c04f8",
   "metadata": {},
   "outputs": [
    {
     "data": {
      "text/plain": [
       "float"
      ]
     },
     "execution_count": 69,
     "metadata": {},
     "output_type": "execute_result"
    }
   ],
   "source": [
    "type(f)"
   ]
  },
  {
   "cell_type": "code",
   "execution_count": null,
   "id": "b4e52890-ad12-493c-9d29-66ddd288517b",
   "metadata": {},
   "outputs": [],
   "source": [
    "# Complex HW"
   ]
  }
 ],
 "metadata": {
  "kernelspec": {
   "display_name": "Python 3 (ipykernel)",
   "language": "python",
   "name": "python3"
  },
  "language_info": {
   "codemirror_mode": {
    "name": "ipython",
    "version": 3
   },
   "file_extension": ".py",
   "mimetype": "text/x-python",
   "name": "python",
   "nbconvert_exporter": "python",
   "pygments_lexer": "ipython3",
   "version": "3.11.7"
  }
 },
 "nbformat": 4,
 "nbformat_minor": 5
}
