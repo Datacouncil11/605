{
 "cells": [
  {
   "cell_type": "code",
   "execution_count": 8,
   "id": "75771c48-3b03-458e-9b1b-4062716dec1b",
   "metadata": {},
   "outputs": [
    {
     "name": "stdout",
     "output_type": "stream",
     "text": [
      "Greater than 50\n"
     ]
    }
   ],
   "source": [
    "age = 60\n",
    "if age > 80:\n",
    "    print('Greter than 80')\n",
    "elif age > 50:\n",
    "    print('Greater than 50')\n",
    "elif age > 30:\n",
    "    print('Greater than 30')\n",
    "elif age > 15:\n",
    "    print('Greater than 15')\n",
    "elif age > 0:\n",
    "    print('Greater than 0 and less than 15')"
   ]
  },
  {
   "cell_type": "code",
   "execution_count": 9,
   "id": "92dabe74-159d-4cac-b052-f2f90e9faa01",
   "metadata": {},
   "outputs": [
    {
     "name": "stdout",
     "output_type": "stream",
     "text": [
      "Fail\n"
     ]
    }
   ],
   "source": [
    "marks = 14\n",
    "if marks > 80:\n",
    "    print('A grade')\n",
    "elif marks > 50:\n",
    "    print('B grade')\n",
    "elif marks > 35:\n",
    "    print('Pass')\n",
    "else:\n",
    "    print('Fail')"
   ]
  },
  {
   "cell_type": "code",
   "execution_count": 7,
   "id": "7ad2050b-df34-4ff2-b1db-b51cbafcec81",
   "metadata": {},
   "outputs": [
    {
     "name": "stdin",
     "output_type": "stream",
     "text": [
      " 123\n"
     ]
    },
    {
     "name": "stdout",
     "output_type": "stream",
     "text": [
      "Please write marks between 0  to 100\n"
     ]
    }
   ],
   "source": [
    "marks = int(input())\n",
    "if marks > 80 and marks < 100:\n",
    "    print('A grade greater than 80 and less than 100')\n",
    "elif marks > 50 and marks < 80:\n",
    "    print('B grade and marks greater than 50 and less tham 80')\n",
    "elif marks > 35 and marks < 50:\n",
    "    print('Pass and marks are greter than 35 and  less than 50')\n",
    "elif marks > 0 and marks < 35:\n",
    "    print('Fail and marks are less than 35')\n",
    "else:\n",
    "    print('Please write marks between 0  to 100')"
   ]
  },
  {
   "cell_type": "markdown",
   "id": "c742027d-0d6e-452a-847f-4cc6197ae3f2",
   "metadata": {},
   "source": [
    "# For loop"
   ]
  },
  {
   "cell_type": "code",
   "execution_count": 10,
   "id": "08de7534-0943-49cd-acd1-a6db69b658cf",
   "metadata": {},
   "outputs": [],
   "source": [
    "l = [1,2,3,4,5]"
   ]
  },
  {
   "cell_type": "code",
   "execution_count": 11,
   "id": "25e3245e-a6d3-42ce-bd6f-d07e77ec5d1c",
   "metadata": {},
   "outputs": [
    {
     "name": "stdout",
     "output_type": "stream",
     "text": [
      "1\n",
      "2\n",
      "3\n",
      "4\n",
      "5\n"
     ]
    }
   ],
   "source": [
    "for num in l:\n",
    "    print(num)"
   ]
  },
  {
   "cell_type": "code",
   "execution_count": 12,
   "id": "7f6dd33d-a472-44aa-9b31-35e29299f840",
   "metadata": {},
   "outputs": [
    {
     "name": "stdout",
     "output_type": "stream",
     "text": [
      "D\n",
      "a\n",
      "t\n",
      "a\n",
      " \n",
      "S\n",
      "c\n",
      "i\n",
      "e\n",
      "n\n",
      "c\n",
      "e\n"
     ]
    }
   ],
   "source": [
    "for letters in 'Data Science':\n",
    "    print(letters)"
   ]
  },
  {
   "cell_type": "code",
   "execution_count": 13,
   "id": "1392ed8c-5dae-43d7-b910-b6ed855af8e4",
   "metadata": {},
   "outputs": [],
   "source": [
    "names = ['Om','Sham','Ganesh','Suresh']"
   ]
  },
  {
   "cell_type": "code",
   "execution_count": 14,
   "id": "691bbefb-fd7c-4489-9829-56113cb13cca",
   "metadata": {},
   "outputs": [
    {
     "name": "stdout",
     "output_type": "stream",
     "text": [
      "Om\n",
      "Sham\n",
      "Ganesh\n",
      "Suresh\n"
     ]
    }
   ],
   "source": [
    "for i in names:\n",
    "    print(i)"
   ]
  },
  {
   "cell_type": "code",
   "execution_count": 15,
   "id": "77cd292f-aed9-4623-8599-dfb0555d7b5c",
   "metadata": {},
   "outputs": [
    {
     "name": "stdout",
     "output_type": "stream",
     "text": [
      "My name is Om\n",
      "My name is Sham\n",
      "My name is Ganesh\n",
      "My name is Suresh\n"
     ]
    }
   ],
   "source": [
    "for i in names:\n",
    "    print('My name is', i)"
   ]
  },
  {
   "cell_type": "code",
   "execution_count": 16,
   "id": "396ad8d0-8f62-4620-b553-351853d37de8",
   "metadata": {},
   "outputs": [
    {
     "name": "stdout",
     "output_type": "stream",
     "text": [
      "['Om', 'Sham', 'Ganesh', 'Suresh']\n",
      "['Om', 'Sham', 'Ganesh', 'Suresh']\n",
      "['Om', 'Sham', 'Ganesh', 'Suresh']\n",
      "['Om', 'Sham', 'Ganesh', 'Suresh']\n"
     ]
    }
   ],
   "source": [
    "for i in names:\n",
    "    print(names)"
   ]
  },
  {
   "cell_type": "code",
   "execution_count": 17,
   "id": "952fe303-4076-4b8c-bb34-59b56f5f4da6",
   "metadata": {},
   "outputs": [
    {
     "name": "stdout",
     "output_type": "stream",
     "text": [
      "*\n",
      "*\n",
      "*\n",
      "*\n"
     ]
    }
   ],
   "source": [
    "for i in names:\n",
    "    print('*')"
   ]
  },
  {
   "cell_type": "code",
   "execution_count": 18,
   "id": "c3f2253f-56b5-4b6a-be51-a222d36c4831",
   "metadata": {},
   "outputs": [
    {
     "data": {
      "text/plain": [
       "4"
      ]
     },
     "execution_count": 18,
     "metadata": {},
     "output_type": "execute_result"
    }
   ],
   "source": [
    "len(names)"
   ]
  },
  {
   "cell_type": "code",
   "execution_count": 19,
   "id": "6f5ee135-0cd2-4817-abff-c239a26db8be",
   "metadata": {},
   "outputs": [
    {
     "name": "stdout",
     "output_type": "stream",
     "text": [
      "Om\n",
      "Sham\n",
      "Ganesh\n",
      "Suresh\n"
     ]
    }
   ],
   "source": [
    "for i in names:\n",
    "    print(i)"
   ]
  },
  {
   "cell_type": "code",
   "execution_count": 20,
   "id": "2b80f79b-beff-4307-92a4-0da9fba85b59",
   "metadata": {},
   "outputs": [
    {
     "name": "stdout",
     "output_type": "stream",
     "text": [
      "O\n",
      "m\n",
      "S\n",
      "h\n",
      "a\n",
      "m\n",
      "G\n",
      "a\n",
      "n\n",
      "e\n",
      "s\n",
      "h\n",
      "S\n",
      "u\n",
      "r\n",
      "e\n",
      "s\n",
      "h\n"
     ]
    }
   ],
   "source": [
    "for i in names:\n",
    "    for letters in i:\n",
    "        print(letters)"
   ]
  },
  {
   "cell_type": "code",
   "execution_count": 21,
   "id": "7ea8dbe2-823c-4634-b6bd-abf86397794f",
   "metadata": {},
   "outputs": [],
   "source": [
    "list1 = []\n",
    "for i in names:\n",
    "    for letters in i:\n",
    "        list1.append(letters)"
   ]
  },
  {
   "cell_type": "code",
   "execution_count": 22,
   "id": "fed7cdbd-eafc-46a3-8486-900896198c63",
   "metadata": {},
   "outputs": [
    {
     "data": {
      "text/plain": [
       "['O',\n",
       " 'm',\n",
       " 'S',\n",
       " 'h',\n",
       " 'a',\n",
       " 'm',\n",
       " 'G',\n",
       " 'a',\n",
       " 'n',\n",
       " 'e',\n",
       " 's',\n",
       " 'h',\n",
       " 'S',\n",
       " 'u',\n",
       " 'r',\n",
       " 'e',\n",
       " 's',\n",
       " 'h']"
      ]
     },
     "execution_count": 22,
     "metadata": {},
     "output_type": "execute_result"
    }
   ],
   "source": [
    "list1"
   ]
  },
  {
   "cell_type": "code",
   "execution_count": 23,
   "id": "532d067e-7925-429b-aff6-10804f329c58",
   "metadata": {},
   "outputs": [],
   "source": [
    "list1 = []\n",
    "for i in names:\n",
    "    for letters in i:\n",
    "        list1.append(i)"
   ]
  },
  {
   "cell_type": "code",
   "execution_count": 24,
   "id": "1ffe56d4-219f-4617-9db7-0edcad29e98e",
   "metadata": {},
   "outputs": [
    {
     "data": {
      "text/plain": [
       "['Om',\n",
       " 'Om',\n",
       " 'Sham',\n",
       " 'Sham',\n",
       " 'Sham',\n",
       " 'Sham',\n",
       " 'Ganesh',\n",
       " 'Ganesh',\n",
       " 'Ganesh',\n",
       " 'Ganesh',\n",
       " 'Ganesh',\n",
       " 'Ganesh',\n",
       " 'Suresh',\n",
       " 'Suresh',\n",
       " 'Suresh',\n",
       " 'Suresh',\n",
       " 'Suresh',\n",
       " 'Suresh']"
      ]
     },
     "execution_count": 24,
     "metadata": {},
     "output_type": "execute_result"
    }
   ],
   "source": [
    "list1"
   ]
  },
  {
   "cell_type": "code",
   "execution_count": 25,
   "id": "409c431f-c05b-471f-ab4a-9db30d0bcc48",
   "metadata": {},
   "outputs": [],
   "source": [
    "mix = [1,1.5,'Data', True]"
   ]
  },
  {
   "cell_type": "code",
   "execution_count": 26,
   "id": "945aa0de-7f13-43a8-8311-24d7de9aacbb",
   "metadata": {},
   "outputs": [
    {
     "name": "stdout",
     "output_type": "stream",
     "text": [
      "1\n",
      "1.5\n",
      "Data\n",
      "True\n"
     ]
    }
   ],
   "source": [
    "for i in mix:\n",
    "    print(i)"
   ]
  },
  {
   "cell_type": "code",
   "execution_count": 27,
   "id": "a85d44d6-6c70-487b-8cf1-dcd13b421189",
   "metadata": {},
   "outputs": [
    {
     "name": "stdout",
     "output_type": "stream",
     "text": [
      "<class 'int'>\n",
      "<class 'float'>\n",
      "<class 'str'>\n",
      "<class 'bool'>\n"
     ]
    }
   ],
   "source": [
    "for i in mix:\n",
    "    print(type(i))"
   ]
  },
  {
   "cell_type": "code",
   "execution_count": 28,
   "id": "c01e2c6c-143b-4500-b95c-d68ce62ccf61",
   "metadata": {},
   "outputs": [
    {
     "name": "stdout",
     "output_type": "stream",
     "text": [
      "<class 'int'> 1\n",
      "<class 'float'> 1.5\n",
      "<class 'str'> Data\n",
      "<class 'bool'> True\n"
     ]
    }
   ],
   "source": [
    "for i in mix:\n",
    "    print(type(i), i)"
   ]
  },
  {
   "cell_type": "code",
   "execution_count": 29,
   "id": "2c736342-fd3b-4b5e-af78-52d85d367efc",
   "metadata": {},
   "outputs": [
    {
     "name": "stdout",
     "output_type": "stream",
     "text": [
      "Data is Integer 1\n"
     ]
    }
   ],
   "source": [
    "for i  in mix:\n",
    "    if type(i) == int:\n",
    "        print('Data is Integer', i)"
   ]
  },
  {
   "cell_type": "code",
   "execution_count": 30,
   "id": "d5e01499-ba30-4be5-8831-9dd665850b11",
   "metadata": {},
   "outputs": [
    {
     "name": "stdout",
     "output_type": "stream",
     "text": [
      "Data is string Data\n"
     ]
    }
   ],
   "source": [
    "for i in mix:\n",
    "    if type(i) == str:\n",
    "        print('Data is string', i)"
   ]
  },
  {
   "cell_type": "code",
   "execution_count": 31,
   "id": "ff2e98f5-8aa3-4d1c-8e52-546e81b9502b",
   "metadata": {},
   "outputs": [],
   "source": [
    "l = [1,2,3,[100,200,300]]"
   ]
  },
  {
   "cell_type": "code",
   "execution_count": 32,
   "id": "dad57c70-dd7b-43eb-b907-0afb22e15779",
   "metadata": {},
   "outputs": [
    {
     "name": "stdout",
     "output_type": "stream",
     "text": [
      "1\n",
      "2\n",
      "3\n",
      "[100, 200, 300]\n"
     ]
    }
   ],
   "source": [
    "for i in l:\n",
    "    print(i)"
   ]
  },
  {
   "cell_type": "code",
   "execution_count": 33,
   "id": "89046383-c1b7-4f41-82d4-a34f756297b0",
   "metadata": {},
   "outputs": [
    {
     "name": "stdout",
     "output_type": "stream",
     "text": [
      "100\n",
      "200\n",
      "300\n"
     ]
    }
   ],
   "source": [
    "for i in l:\n",
    "    if type(i) == list:\n",
    "        for num in i:\n",
    "            print(num)"
   ]
  },
  {
   "cell_type": "code",
   "execution_count": 37,
   "id": "fc883a7a-9151-4f64-8a2f-f7de67e60580",
   "metadata": {},
   "outputs": [],
   "source": [
    "s = []\n",
    "for i in l:\n",
    "    if type(i) == list:\n",
    "        for j in i:\n",
    "            \n",
    "            s.append(j)\n",
    "    elif type(i) == int:\n",
    "        s.append(i)"
   ]
  },
  {
   "cell_type": "code",
   "execution_count": 38,
   "id": "bda546f9-4f6a-47ca-a08b-4145473af854",
   "metadata": {},
   "outputs": [
    {
     "data": {
      "text/plain": [
       "[1, 2, 3, 100, 200, 300]"
      ]
     },
     "execution_count": 38,
     "metadata": {},
     "output_type": "execute_result"
    }
   ],
   "source": [
    "s"
   ]
  },
  {
   "cell_type": "code",
   "execution_count": 39,
   "id": "dca52f9c-3aae-4a46-9110-a51883c3969d",
   "metadata": {},
   "outputs": [],
   "source": [
    "mix2 = [1,2,3.5, True, 'New', 'Year']"
   ]
  },
  {
   "cell_type": "code",
   "execution_count": 40,
   "id": "0ae6cdbd-d4b1-4f7c-b475-905de314bb16",
   "metadata": {},
   "outputs": [],
   "source": [
    "emp_l = []\n",
    "for i in mix2:\n",
    "    if type(i) == str:\n",
    "        for letters in i:\n",
    "            emp_l.append(letters)"
   ]
  },
  {
   "cell_type": "code",
   "execution_count": 41,
   "id": "ffd38b6d-486c-4fc0-9f39-7f124cc476cd",
   "metadata": {},
   "outputs": [
    {
     "data": {
      "text/plain": [
       "['N', 'e', 'w', 'Y', 'e', 'a', 'r']"
      ]
     },
     "execution_count": 41,
     "metadata": {},
     "output_type": "execute_result"
    }
   ],
   "source": [
    "emp_l"
   ]
  },
  {
   "cell_type": "code",
   "execution_count": 42,
   "id": "114be7e8-a90f-49b9-abdb-64f18979a5e2",
   "metadata": {},
   "outputs": [
    {
     "name": "stdout",
     "output_type": "stream",
     "text": [
      "1\n",
      "2\n",
      "3\n",
      "4\n"
     ]
    }
   ],
   "source": [
    "for i in range(1,5):\n",
    "    print(i)"
   ]
  },
  {
   "cell_type": "code",
   "execution_count": 43,
   "id": "269dddfa-2091-4703-a971-d695fd2fb79b",
   "metadata": {},
   "outputs": [
    {
     "name": "stdout",
     "output_type": "stream",
     "text": [
      "1\n",
      "2\n",
      "3\n",
      "4\n",
      "5\n",
      "6\n",
      "7\n",
      "8\n",
      "9\n",
      "10\n",
      "11\n",
      "12\n",
      "13\n",
      "14\n",
      "15\n",
      "16\n",
      "17\n",
      "18\n",
      "19\n",
      "20\n"
     ]
    }
   ],
   "source": [
    "for i in range(1,21):\n",
    "    print(i)"
   ]
  },
  {
   "cell_type": "code",
   "execution_count": 44,
   "id": "28409d1a-1b30-4c22-95b3-6dd19c929dba",
   "metadata": {},
   "outputs": [
    {
     "name": "stdout",
     "output_type": "stream",
     "text": [
      "1 Odd number\n",
      "2 Even Number\n",
      "3 Odd number\n",
      "4 Even Number\n",
      "5 Odd number\n",
      "6 Even Number\n",
      "7 Odd number\n",
      "8 Even Number\n",
      "9 Odd number\n",
      "10 Even Number\n",
      "11 Odd number\n",
      "12 Even Number\n",
      "13 Odd number\n",
      "14 Even Number\n",
      "15 Odd number\n",
      "16 Even Number\n",
      "17 Odd number\n",
      "18 Even Number\n",
      "19 Odd number\n",
      "20 Even Number\n",
      "21 Odd number\n",
      "22 Even Number\n",
      "23 Odd number\n",
      "24 Even Number\n",
      "25 Odd number\n",
      "26 Even Number\n",
      "27 Odd number\n",
      "28 Even Number\n",
      "29 Odd number\n",
      "30 Even Number\n"
     ]
    }
   ],
   "source": [
    "for i in range(1,31):\n",
    "    if i % 2 == 0:\n",
    "        print(i, 'Even Number')\n",
    "    elif i % 2 != 0:\n",
    "        print(i, 'Odd number')"
   ]
  },
  {
   "cell_type": "code",
   "execution_count": 45,
   "id": "26fadafc-2adb-42b9-be27-35e485c6dc41",
   "metadata": {},
   "outputs": [
    {
     "name": "stdout",
     "output_type": "stream",
     "text": [
      "2 Even Number\n",
      "4 Even Number\n",
      "6 Even Number\n",
      "8 Even Number\n",
      "10 Even Number\n",
      "12 Even Number\n",
      "14 Even Number\n",
      "16 Even Number\n",
      "18 Even Number\n",
      "20 Even Number\n",
      "22 Even Number\n",
      "24 Even Number\n",
      "26 Even Number\n",
      "28 Even Number\n",
      "30 Even Number\n"
     ]
    }
   ],
   "source": [
    "for i in range(1,31):\n",
    "    if i % 2 == 0:\n",
    "        print(i, 'Even Number')"
   ]
  },
  {
   "cell_type": "code",
   "execution_count": 46,
   "id": "8444b1ed-372f-413e-b736-2e87840760c7",
   "metadata": {},
   "outputs": [
    {
     "name": "stdout",
     "output_type": "stream",
     "text": [
      "1 Odd number\n",
      "3 Odd number\n",
      "5 Odd number\n",
      "7 Odd number\n",
      "9 Odd number\n",
      "11 Odd number\n",
      "13 Odd number\n",
      "15 Odd number\n",
      "17 Odd number\n",
      "19 Odd number\n",
      "21 Odd number\n",
      "23 Odd number\n",
      "25 Odd number\n",
      "27 Odd number\n",
      "29 Odd number\n"
     ]
    }
   ],
   "source": [
    "for i in range(1,31):\n",
    "    if i % 2 != 0:\n",
    "        print(i, 'Odd number')"
   ]
  },
  {
   "cell_type": "code",
   "execution_count": 47,
   "id": "e795bfc0-8738-4b53-affb-8cc43a754473",
   "metadata": {},
   "outputs": [
    {
     "name": "stdout",
     "output_type": "stream",
     "text": [
      "0\n",
      "1\n",
      "2\n",
      "3\n",
      "4\n"
     ]
    }
   ],
   "source": [
    "for i in range(5):\n",
    "    print(i)"
   ]
  },
  {
   "cell_type": "code",
   "execution_count": 49,
   "id": "90387b2a-aa8c-4540-b4c9-c130222ee4e9",
   "metadata": {},
   "outputs": [
    {
     "name": "stdout",
     "output_type": "stream",
     "text": [
      "\n",
      "#\n",
      "##\n",
      "###\n",
      "####\n",
      "#####\n",
      "######\n",
      "#######\n",
      "########\n",
      "#########\n"
     ]
    }
   ],
   "source": [
    "for i in range(10):\n",
    "    print('#' * i)"
   ]
  },
  {
   "cell_type": "code",
   "execution_count": 50,
   "id": "9bf66bc1-e725-40c0-aec9-4c8bf23a124f",
   "metadata": {},
   "outputs": [
    {
     "name": "stdout",
     "output_type": "stream",
     "text": [
      "##########\n",
      "#########\n",
      "########\n",
      "#######\n",
      "######\n",
      "#####\n",
      "####\n",
      "###\n",
      "##\n",
      "#\n"
     ]
    }
   ],
   "source": [
    "for i in range(10,0,-1):\n",
    "    print('#' * i)"
   ]
  },
  {
   "cell_type": "markdown",
   "id": "bf2a1cde-0e11-461a-9ea0-aef02bb3098c",
   "metadata": {},
   "source": [
    "# While loop"
   ]
  },
  {
   "cell_type": "code",
   "execution_count": 52,
   "id": "fed67584-c6da-4a49-a1d2-6d0813bf7aa4",
   "metadata": {},
   "outputs": [
    {
     "name": "stdout",
     "output_type": "stream",
     "text": [
      "1\n",
      "2\n",
      "3\n",
      "4\n",
      "5\n"
     ]
    }
   ],
   "source": [
    "num = 1\n",
    "while num <= 5:\n",
    "    print(num)\n",
    "    num = num + 1"
   ]
  },
  {
   "cell_type": "code",
   "execution_count": 53,
   "id": "9bcd1e87-99ca-4f12-9607-d60011d953b7",
   "metadata": {},
   "outputs": [
    {
     "name": "stdout",
     "output_type": "stream",
     "text": [
      "30\n",
      "29\n",
      "28\n",
      "27\n",
      "26\n"
     ]
    }
   ],
   "source": [
    "age = 30\n",
    "while age > 25:\n",
    "    print(age)\n",
    "    age = age - 1"
   ]
  },
  {
   "cell_type": "code",
   "execution_count": 54,
   "id": "569d9e29-866b-481d-89dc-79fe4e08bc70",
   "metadata": {},
   "outputs": [
    {
     "name": "stdout",
     "output_type": "stream",
     "text": [
      "\n"
     ]
    },
    {
     "name": "stdin",
     "output_type": "stream",
     "text": [
      " khtl\n"
     ]
    },
    {
     "name": "stdout",
     "output_type": "stream",
     "text": [
      "khtl\n"
     ]
    },
    {
     "name": "stdin",
     "output_type": "stream",
     "text": [
      " juiioi\n"
     ]
    },
    {
     "name": "stdout",
     "output_type": "stream",
     "text": [
      "juiioi\n"
     ]
    },
    {
     "name": "stdin",
     "output_type": "stream",
     "text": [
      " jhu\n"
     ]
    },
    {
     "name": "stdout",
     "output_type": "stream",
     "text": [
      "jhu\n"
     ]
    },
    {
     "name": "stdin",
     "output_type": "stream",
     "text": [
      " stop\n"
     ]
    }
   ],
   "source": [
    "word = ''\n",
    "while word != 'stop':\n",
    "    print(word)\n",
    "    word = input()"
   ]
  },
  {
   "cell_type": "code",
   "execution_count": 55,
   "id": "cc6d56fd-1d10-491b-9ff5-e35735da6621",
   "metadata": {},
   "outputs": [
    {
     "name": "stdout",
     "output_type": "stream",
     "text": [
      "\n"
     ]
    },
    {
     "name": "stdin",
     "output_type": "stream",
     "text": [
      "enter exit to stop while loop jd\n"
     ]
    },
    {
     "name": "stdout",
     "output_type": "stream",
     "text": [
      "jd\n"
     ]
    },
    {
     "name": "stdin",
     "output_type": "stream",
     "text": [
      "enter exit to stop while loop kie\n"
     ]
    },
    {
     "name": "stdout",
     "output_type": "stream",
     "text": [
      "kie\n"
     ]
    },
    {
     "name": "stdin",
     "output_type": "stream",
     "text": [
      "enter exit to stop while loop kjd\n"
     ]
    },
    {
     "name": "stdout",
     "output_type": "stream",
     "text": [
      "kjd\n"
     ]
    },
    {
     "name": "stdin",
     "output_type": "stream",
     "text": [
      "enter exit to stop while loop kdj\n"
     ]
    },
    {
     "name": "stdout",
     "output_type": "stream",
     "text": [
      "kdj\n"
     ]
    },
    {
     "name": "stdin",
     "output_type": "stream",
     "text": [
      "enter exit to stop while loop ku\n"
     ]
    },
    {
     "name": "stdout",
     "output_type": "stream",
     "text": [
      "ku\n"
     ]
    },
    {
     "name": "stdin",
     "output_type": "stream",
     "text": [
      "enter exit to stop while loop li\n"
     ]
    },
    {
     "name": "stdout",
     "output_type": "stream",
     "text": [
      "li\n"
     ]
    },
    {
     "name": "stdin",
     "output_type": "stream",
     "text": [
      "enter exit to stop while loop exit\n"
     ]
    }
   ],
   "source": [
    "word = ''\n",
    "while word != 'exit':\n",
    "    print(word)\n",
    "    word = input('enter exit to stop while loop')"
   ]
  },
  {
   "cell_type": "code",
   "execution_count": 56,
   "id": "397df519-7161-4d79-9ad1-6a5625f6bffd",
   "metadata": {},
   "outputs": [
    {
     "data": {
      "text/plain": [
       "True"
      ]
     },
     "execution_count": 56,
     "metadata": {},
     "output_type": "execute_result"
    }
   ],
   "source": [
    "'exit' == 'exit'"
   ]
  },
  {
   "cell_type": "code",
   "execution_count": 57,
   "id": "cb84d1fe-2485-47dc-be11-87c36ccc921e",
   "metadata": {},
   "outputs": [
    {
     "data": {
      "text/plain": [
       "True"
      ]
     },
     "execution_count": 57,
     "metadata": {},
     "output_type": "execute_result"
    }
   ],
   "source": [
    "'nddf' != 'exit'"
   ]
  },
  {
   "cell_type": "code",
   "execution_count": 58,
   "id": "5456ea9d-188b-4e03-8eec-1e6d211c389c",
   "metadata": {},
   "outputs": [
    {
     "data": {
      "text/plain": [
       "False"
      ]
     },
     "execution_count": 58,
     "metadata": {},
     "output_type": "execute_result"
    }
   ],
   "source": [
    "'exit' != 'exit'"
   ]
  },
  {
   "cell_type": "code",
   "execution_count": null,
   "id": "ec6a8db1-a3c3-499a-a2a8-9db2dcdc3746",
   "metadata": {},
   "outputs": [],
   "source": []
  }
 ],
 "metadata": {
  "kernelspec": {
   "display_name": "Python 3 (ipykernel)",
   "language": "python",
   "name": "python3"
  },
  "language_info": {
   "codemirror_mode": {
    "name": "ipython",
    "version": 3
   },
   "file_extension": ".py",
   "mimetype": "text/x-python",
   "name": "python",
   "nbconvert_exporter": "python",
   "pygments_lexer": "ipython3",
   "version": "3.11.7"
  }
 },
 "nbformat": 4,
 "nbformat_minor": 5
}
