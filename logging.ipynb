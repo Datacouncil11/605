{
 "cells": [
  {
   "cell_type": "code",
   "execution_count": 1,
   "id": "ce8a0cb0-38ce-4696-8cc6-d257e9802df0",
   "metadata": {},
   "outputs": [],
   "source": [
    "import logging"
   ]
  },
  {
   "cell_type": "code",
   "execution_count": 2,
   "id": "b6080b44-663d-455e-ada5-ccb3af8542c0",
   "metadata": {},
   "outputs": [],
   "source": [
    "logging.basicConfig(filename='testlog1.log', level = logging.DEBUG, format = '%(asctime)s %(levelname)s %(message)s')"
   ]
  },
  {
   "cell_type": "code",
   "execution_count": 3,
   "id": "f852bbe5-ec1a-4844-baed-736555c2f0ea",
   "metadata": {},
   "outputs": [],
   "source": [
    "logging.info('This is my info log')\n",
    "logging.warning('This is my warning log')\n",
    "logging.debug('This is my debug log')\n",
    "logging.error('This is my error log')"
   ]
  },
  {
   "cell_type": "code",
   "execution_count": 7,
   "id": "9c6210a5-cc6b-4ef8-a426-0b6e821aaf8f",
   "metadata": {},
   "outputs": [],
   "source": [
    "def div(a,b):\n",
    "    logging.info('Entered into div function')\n",
    "    try:\n",
    "        division = a/b\n",
    "        logging.info('Sucessfully divided a/b')\n",
    "    except Exception as e:\n",
    "        logging.error('Error happened')\n",
    "        logging.exception('Exception occured ' + str(e))"
   ]
  },
  {
   "cell_type": "code",
   "execution_count": 5,
   "id": "0911ff4c-6589-4a79-9b40-a1e2fedf94ae",
   "metadata": {},
   "outputs": [],
   "source": [
    "div(10,2)"
   ]
  },
  {
   "cell_type": "code",
   "execution_count": 6,
   "id": "92607eec-9c34-41ad-bf6c-8e286599ef1e",
   "metadata": {},
   "outputs": [],
   "source": [
    "div(10,0)"
   ]
  },
  {
   "cell_type": "code",
   "execution_count": null,
   "id": "fe98e36c-36e1-41c0-bb44-a3754b4db51f",
   "metadata": {},
   "outputs": [],
   "source": []
  }
 ],
 "metadata": {
  "kernelspec": {
   "display_name": "Python 3 (ipykernel)",
   "language": "python",
   "name": "python3"
  },
  "language_info": {
   "codemirror_mode": {
    "name": "ipython",
    "version": 3
   },
   "file_extension": ".py",
   "mimetype": "text/x-python",
   "name": "python",
   "nbconvert_exporter": "python",
   "pygments_lexer": "ipython3",
   "version": "3.11.7"
  }
 },
 "nbformat": 4,
 "nbformat_minor": 5
}
