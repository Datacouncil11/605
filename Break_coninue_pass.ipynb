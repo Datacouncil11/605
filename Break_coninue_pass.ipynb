{
 "cells": [
  {
   "cell_type": "markdown",
   "id": "29934381-f9bc-4d33-86b6-e62d25b3a741",
   "metadata": {},
   "source": [
    "# Break"
   ]
  },
  {
   "cell_type": "code",
   "execution_count": 1,
   "id": "efcae38f-ad19-4fc1-8249-edd88ed16cf4",
   "metadata": {},
   "outputs": [],
   "source": [
    "l = [1,2,3,4,5]"
   ]
  },
  {
   "cell_type": "code",
   "execution_count": 2,
   "id": "dccd9178-22c8-462b-a2d6-5eefac4f6891",
   "metadata": {},
   "outputs": [
    {
     "name": "stdout",
     "output_type": "stream",
     "text": [
      "1\n",
      "2\n",
      "3\n",
      "4\n",
      "5\n"
     ]
    }
   ],
   "source": [
    "for i in l:\n",
    "    print(i)"
   ]
  },
  {
   "cell_type": "code",
   "execution_count": 3,
   "id": "13563b67-b51a-4a62-b787-290071505757",
   "metadata": {},
   "outputs": [
    {
     "name": "stdout",
     "output_type": "stream",
     "text": [
      "1\n",
      "2\n"
     ]
    }
   ],
   "source": [
    "for i in l:\n",
    "    if i == 3:\n",
    "        break\n",
    "    print(i)"
   ]
  },
  {
   "cell_type": "code",
   "execution_count": 4,
   "id": "5b8ed1b8-5f33-4d95-af12-c47925c70e76",
   "metadata": {},
   "outputs": [
    {
     "name": "stdout",
     "output_type": "stream",
     "text": [
      "d\n",
      "a\n",
      "t\n",
      "a\n",
      " \n",
      "s\n",
      "c\n",
      "i\n",
      "e\n",
      "n\n",
      "c\n",
      "e\n"
     ]
    }
   ],
   "source": [
    "for i in 'data science':\n",
    "    print(i)"
   ]
  },
  {
   "cell_type": "code",
   "execution_count": 5,
   "id": "316b5647-e7bd-4c83-924b-fda88440e5ea",
   "metadata": {},
   "outputs": [
    {
     "name": "stdout",
     "output_type": "stream",
     "text": [
      "d\n",
      "a\n",
      "t\n",
      "a\n",
      " \n",
      "s\n"
     ]
    }
   ],
   "source": [
    "for i in 'data science':\n",
    "    if i == 'c':\n",
    "        break\n",
    "    print(i)"
   ]
  },
  {
   "cell_type": "code",
   "execution_count": 6,
   "id": "7227b562-b6cf-40c1-b06c-68ddc78bae60",
   "metadata": {},
   "outputs": [
    {
     "data": {
      "text/plain": [
       "True"
      ]
     },
     "execution_count": 6,
     "metadata": {},
     "output_type": "execute_result"
    }
   ],
   "source": [
    "'c' == 'c'"
   ]
  },
  {
   "cell_type": "code",
   "execution_count": 7,
   "id": "54cc121e-4088-4375-8ae3-1047af14b187",
   "metadata": {},
   "outputs": [],
   "source": [
    "num = [10,20,30,40,50]"
   ]
  },
  {
   "cell_type": "code",
   "execution_count": 8,
   "id": "1f6ec28f-3cf1-4a9e-8e01-30de8e262c21",
   "metadata": {},
   "outputs": [
    {
     "name": "stdout",
     "output_type": "stream",
     "text": [
      "10\n",
      "20\n",
      "30\n"
     ]
    }
   ],
   "source": [
    "for i in num:\n",
    "    if i == 40:\n",
    "        break\n",
    "    print(i)"
   ]
  },
  {
   "cell_type": "code",
   "execution_count": 9,
   "id": "fffe7efd-a287-419c-8614-bc3f7d4ca499",
   "metadata": {},
   "outputs": [
    {
     "data": {
      "text/plain": [
       "4"
      ]
     },
     "execution_count": 9,
     "metadata": {},
     "output_type": "execute_result"
    }
   ],
   "source": [
    "2 ** 2"
   ]
  },
  {
   "cell_type": "code",
   "execution_count": 10,
   "id": "6e3b34dd-82e0-4e6a-a3de-36a01c868e58",
   "metadata": {},
   "outputs": [
    {
     "data": {
      "text/plain": [
       "8"
      ]
     },
     "execution_count": 10,
     "metadata": {},
     "output_type": "execute_result"
    }
   ],
   "source": [
    "2 ** 3"
   ]
  },
  {
   "cell_type": "code",
   "execution_count": 11,
   "id": "b9afd813-b1bf-4be0-80c8-ea2e93a30320",
   "metadata": {},
   "outputs": [
    {
     "name": "stdout",
     "output_type": "stream",
     "text": [
      "0\n",
      "1\n",
      "4\n",
      "9\n",
      "16\n",
      "25\n",
      "36\n",
      "49\n",
      "64\n",
      "81\n",
      "100\n"
     ]
    }
   ],
   "source": [
    "for i in range(11):\n",
    "    print(i ** 2)"
   ]
  },
  {
   "cell_type": "code",
   "execution_count": 13,
   "id": "4d83004e-348e-4484-9d1f-3ec73653cebf",
   "metadata": {},
   "outputs": [
    {
     "name": "stdout",
     "output_type": "stream",
     "text": [
      "0\n",
      "1\n",
      "4\n",
      "9\n",
      "16\n",
      "25\n"
     ]
    }
   ],
   "source": [
    "for i in range(11):\n",
    "    if i ** 2 >= 30:\n",
    "        break\n",
    "    print(i**2)"
   ]
  },
  {
   "cell_type": "markdown",
   "id": "f61ee266-0bf9-463b-94f2-b2ab0d2b73f4",
   "metadata": {},
   "source": [
    "# Continue"
   ]
  },
  {
   "cell_type": "code",
   "execution_count": 14,
   "id": "61167766-80ab-437f-961e-1e1fbbbd12ed",
   "metadata": {},
   "outputs": [
    {
     "data": {
      "text/plain": [
       "[1, 2, 3, 4, 5]"
      ]
     },
     "execution_count": 14,
     "metadata": {},
     "output_type": "execute_result"
    }
   ],
   "source": [
    "l"
   ]
  },
  {
   "cell_type": "code",
   "execution_count": 15,
   "id": "caca931a-6085-4a16-a88d-dd0a935e5e3b",
   "metadata": {},
   "outputs": [
    {
     "name": "stdout",
     "output_type": "stream",
     "text": [
      "1\n",
      "2\n",
      "4\n",
      "5\n"
     ]
    }
   ],
   "source": [
    "for i in l:\n",
    "    if i == 3:\n",
    "        continue\n",
    "    print(i)"
   ]
  },
  {
   "cell_type": "code",
   "execution_count": 16,
   "id": "b56799b9-6786-40d0-b65a-d7a8e4546e38",
   "metadata": {},
   "outputs": [
    {
     "name": "stdout",
     "output_type": "stream",
     "text": [
      "d\n",
      "t\n",
      " \n",
      "s\n",
      "c\n",
      "i\n",
      "e\n",
      "n\n",
      "c\n",
      "e\n"
     ]
    }
   ],
   "source": [
    "for i in 'data science':\n",
    "    if i == 'a':\n",
    "        continue\n",
    "    print(i)"
   ]
  },
  {
   "cell_type": "code",
   "execution_count": 17,
   "id": "475d0199-479f-4aa2-914c-ac497150142d",
   "metadata": {},
   "outputs": [
    {
     "name": "stdout",
     "output_type": "stream",
     "text": [
      "d\n",
      "t\n",
      " \n",
      "s\n",
      "c\n",
      "n\n",
      "c\n"
     ]
    }
   ],
   "source": [
    "for i in 'data science':\n",
    "    if i == 'a':\n",
    "        continue\n",
    "    elif i == 'e':\n",
    "        continue\n",
    "    elif i == 'i':\n",
    "        continue\n",
    "    elif i == 'o':\n",
    "        continue\n",
    "    elif i == 'u':\n",
    "        continue\n",
    "    print(i)"
   ]
  },
  {
   "cell_type": "markdown",
   "id": "3f922228-1475-47aa-9bcd-20ba2804facc",
   "metadata": {},
   "source": [
    "# Pass"
   ]
  },
  {
   "cell_type": "code",
   "execution_count": 18,
   "id": "720a9172-1839-4f16-99dc-7f8896a07b2c",
   "metadata": {},
   "outputs": [
    {
     "name": "stdout",
     "output_type": "stream",
     "text": [
      "1\n",
      "2\n",
      "4\n",
      "5\n"
     ]
    }
   ],
   "source": [
    "for i in l:\n",
    "    if i == 3:\n",
    "        pass\n",
    "    else:\n",
    "        print(i)"
   ]
  },
  {
   "cell_type": "code",
   "execution_count": 20,
   "id": "4af65a98-0310-4175-91c8-14aa4e2df060",
   "metadata": {},
   "outputs": [
    {
     "name": "stdout",
     "output_type": "stream",
     "text": [
      "d\n",
      "t\n",
      " \n",
      "s\n",
      "c\n",
      "i\n",
      "e\n",
      "n\n",
      "c\n",
      "e\n"
     ]
    }
   ],
   "source": [
    "for i in 'data science':\n",
    "    if i == 'a':\n",
    "        pass\n",
    "    else:\n",
    "        print(i)"
   ]
  },
  {
   "cell_type": "code",
   "execution_count": 22,
   "id": "c78abd63-27a5-4cd9-89b8-490f3685a9b3",
   "metadata": {},
   "outputs": [
    {
     "name": "stdout",
     "output_type": "stream",
     "text": [
      "1\n",
      "2\n",
      "3\n",
      "4\n",
      "5\n"
     ]
    }
   ],
   "source": [
    "for i in l:\n",
    "    if i == 'a':\n",
    "        pass\n",
    "    else:\n",
    "        print(i)\n",
    "            "
   ]
  },
  {
   "cell_type": "code",
   "execution_count": 27,
   "id": "fffae8b8-6539-4231-8e97-3f58c02cfc26",
   "metadata": {},
   "outputs": [
    {
     "name": "stdin",
     "output_type": "stream",
     "text": [
      "Enter your palindrom radar\n"
     ]
    },
    {
     "name": "stdout",
     "output_type": "stream",
     "text": [
      "palindrom radar\n"
     ]
    }
   ],
   "source": [
    "a = input('Enter your palindrom')\n",
    "if a == a[::-1]:\n",
    "    print('palindrom',a)\n",
    "else:\n",
    "    print('Not palindrom')"
   ]
  },
  {
   "cell_type": "code",
   "execution_count": 28,
   "id": "6d22bf08-6243-4b12-ab2c-552c1d9a1a55",
   "metadata": {},
   "outputs": [
    {
     "data": {
      "text/plain": [
       "'radar'"
      ]
     },
     "execution_count": 28,
     "metadata": {},
     "output_type": "execute_result"
    }
   ],
   "source": [
    "a"
   ]
  },
  {
   "cell_type": "code",
   "execution_count": 29,
   "id": "28a59011-9196-47ad-8921-82eda7751c59",
   "metadata": {},
   "outputs": [
    {
     "data": {
      "text/plain": [
       "'radar'"
      ]
     },
     "execution_count": 29,
     "metadata": {},
     "output_type": "execute_result"
    }
   ],
   "source": [
    "a[::-1]"
   ]
  },
  {
   "cell_type": "code",
   "execution_count": 31,
   "id": "0e471d07-7356-4657-8099-6505949a3cf0",
   "metadata": {},
   "outputs": [
    {
     "name": "stdin",
     "output_type": "stream",
     "text": [
      "Enter your course name data science\n"
     ]
    },
    {
     "name": "stdout",
     "output_type": "stream",
     "text": [
      "Yes data science course is avilable with python\n"
     ]
    }
   ],
   "source": [
    "course_name = input('Enter your course name')\n",
    "if course_name == 'data science':\n",
    "    print('Yes data science course is avilable with python')\n",
    "elif course_name == 'java':\n",
    "    print('Yes full sstack java course is avilable with java')\n",
    "elif course_name == 'uiux':\n",
    "    print('Yes uiux course is avilable with figma')\n",
    "else:\n",
    "    print('No your course is not avilable')"
   ]
  },
  {
   "cell_type": "code",
   "execution_count": 33,
   "id": "afa7cb62-be63-4787-9919-8688ca34aa48",
   "metadata": {},
   "outputs": [
    {
     "name": "stdin",
     "output_type": "stream",
     "text": [
      "Enter your coupon code VAIBHAV100\n"
     ]
    },
    {
     "name": "stdout",
     "output_type": "stream",
     "text": [
      "Yes You have discount of 100$\n"
     ]
    }
   ],
   "source": [
    "coupon_code = input('Enter your coupon code')\n",
    "if coupon_code == 'VAIBHAV100':\n",
    "    print('Yes You have discount of 100$')\n",
    "else:\n",
    "    print('your code is invalid')"
   ]
  },
  {
   "cell_type": "code",
   "execution_count": null,
   "id": "b5e279dd-0014-49e5-b939-9c3a808c3b70",
   "metadata": {},
   "outputs": [],
   "source": []
  }
 ],
 "metadata": {
  "kernelspec": {
   "display_name": "Python 3 (ipykernel)",
   "language": "python",
   "name": "python3"
  },
  "language_info": {
   "codemirror_mode": {
    "name": "ipython",
    "version": 3
   },
   "file_extension": ".py",
   "mimetype": "text/x-python",
   "name": "python",
   "nbconvert_exporter": "python",
   "pygments_lexer": "ipython3",
   "version": "3.11.7"
  }
 },
 "nbformat": 4,
 "nbformat_minor": 5
}
