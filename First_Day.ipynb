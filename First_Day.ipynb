{
 "cells": [
  {
   "cell_type": "markdown",
   "id": "32c8ce59-9bd4-4319-966b-b83adb0e413d",
   "metadata": {},
   "source": [
    "# First day"
   ]
  },
  {
   "cell_type": "markdown",
   "id": "0c97b566-5185-4509-8fa1-ef87d1008ab2",
   "metadata": {},
   "source": [
    "We are learning Full Stack Data Science"
   ]
  },
  {
   "cell_type": "raw",
   "id": "03d7f8cf-4ff3-4e87-9e19-e637794faab4",
   "metadata": {},
   "source": [
    "A --> 10\n",
    "B--> 7\n"
   ]
  },
  {
   "cell_type": "code",
   "execution_count": 2,
   "id": "dd537a78-8f4c-45a8-a1d9-725296273294",
   "metadata": {},
   "outputs": [
    {
     "data": {
      "text/plain": [
       "19"
      ]
     },
     "execution_count": 2,
     "metadata": {},
     "output_type": "execute_result"
    }
   ],
   "source": [
    "10 + 9 # Addition of  two numbers"
   ]
  },
  {
   "cell_type": "code",
   "execution_count": 4,
   "id": "bb0f6591-f081-47ff-8bd6-6f0c74b36aaa",
   "metadata": {},
   "outputs": [],
   "source": [
    "# Interview Question: Why Pythos is used for data science ? Analysis?\n",
    "# What is python ?"
   ]
  },
  {
   "cell_type": "markdown",
   "id": "bfd2e8b2-80b5-4382-9875-6cd5de6cc8e3",
   "metadata": {},
   "source": [
    "# Int"
   ]
  },
  {
   "cell_type": "raw",
   "id": "3549272b-89d4-4338-8683-eb46308d489d",
   "metadata": {},
   "source": [
    "Ineger is complete Number\n",
    "Eg: No of family Members --> 3,2,5\n",
    "Eg: No of Bank Account --> 1,2,0"
   ]
  },
  {
   "cell_type": "code",
   "execution_count": 5,
   "id": "740a1cc5-d33a-4e5d-bd4a-ef07d3c6a3a6",
   "metadata": {},
   "outputs": [
    {
     "data": {
      "text/plain": [
       "10"
      ]
     },
     "execution_count": 5,
     "metadata": {},
     "output_type": "execute_result"
    }
   ],
   "source": [
    "10"
   ]
  },
  {
   "cell_type": "code",
   "execution_count": 6,
   "id": "65d0bbb0-95d4-4f4e-81eb-1d386e880f66",
   "metadata": {},
   "outputs": [
    {
     "data": {
      "text/plain": [
       "int"
      ]
     },
     "execution_count": 6,
     "metadata": {},
     "output_type": "execute_result"
    }
   ],
   "source": [
    "type(10)"
   ]
  },
  {
   "cell_type": "code",
   "execution_count": 7,
   "id": "d9f1b7e4-94dc-4944-89dc-345081203f9a",
   "metadata": {},
   "outputs": [
    {
     "data": {
      "text/plain": [
       "int"
      ]
     },
     "execution_count": 7,
     "metadata": {},
     "output_type": "execute_result"
    }
   ],
   "source": [
    "type(8)"
   ]
  },
  {
   "cell_type": "markdown",
   "id": "a224a8e6-22f0-40b1-a955-d1f993317c4d",
   "metadata": {},
   "source": [
    "# Float"
   ]
  },
  {
   "cell_type": "raw",
   "id": "83a6b1ee-3779-49d9-8600-31070d99cd57",
   "metadata": {},
   "source": [
    "Float is Nothing but numbers in decimal format\n",
    "Height --> 5.5, 4.9\n",
    "Weight --> 65.300"
   ]
  },
  {
   "cell_type": "code",
   "execution_count": 8,
   "id": "3bbbf951-d276-474f-b896-73b1209392f8",
   "metadata": {},
   "outputs": [
    {
     "data": {
      "text/plain": [
       "5.5"
      ]
     },
     "execution_count": 8,
     "metadata": {},
     "output_type": "execute_result"
    }
   ],
   "source": [
    "5.5"
   ]
  },
  {
   "cell_type": "code",
   "execution_count": 9,
   "id": "08a40505-67c4-4545-99fd-1b96b54b4806",
   "metadata": {},
   "outputs": [
    {
     "data": {
      "text/plain": [
       "float"
      ]
     },
     "execution_count": 9,
     "metadata": {},
     "output_type": "execute_result"
    }
   ],
   "source": [
    "type(5.5)"
   ]
  },
  {
   "cell_type": "code",
   "execution_count": 10,
   "id": "416c3b99-1c0a-4184-ba50-c7c9097d6c9e",
   "metadata": {},
   "outputs": [
    {
     "data": {
      "text/plain": [
       "float"
      ]
     },
     "execution_count": 10,
     "metadata": {},
     "output_type": "execute_result"
    }
   ],
   "source": [
    "type(56.400)"
   ]
  },
  {
   "cell_type": "markdown",
   "id": "47ef501c-b56d-43eb-9cba-b9f3183e9a25",
   "metadata": {},
   "source": [
    "# Complex Number"
   ]
  },
  {
   "cell_type": "raw",
   "id": "d98e9553-e3b9-4c0f-a6c4-046f7eec84aa",
   "metadata": {},
   "source": [
    "Values in vector\n",
    "Eg: 10 + 5j"
   ]
  },
  {
   "cell_type": "code",
   "execution_count": 11,
   "id": "c084292c-e93a-4420-8bf1-25ea5bae440e",
   "metadata": {},
   "outputs": [
    {
     "data": {
      "text/plain": [
       "(10+5j)"
      ]
     },
     "execution_count": 11,
     "metadata": {},
     "output_type": "execute_result"
    }
   ],
   "source": [
    "10 + 5j"
   ]
  },
  {
   "cell_type": "code",
   "execution_count": 12,
   "id": "4d2190cc-adc8-420c-a407-f1038fb01c20",
   "metadata": {},
   "outputs": [
    {
     "data": {
      "text/plain": [
       "complex"
      ]
     },
     "execution_count": 12,
     "metadata": {},
     "output_type": "execute_result"
    }
   ],
   "source": [
    "type(10 + 5j)"
   ]
  },
  {
   "cell_type": "markdown",
   "id": "405a4d16-0cb5-478d-b3d9-7f805d4539aa",
   "metadata": {},
   "source": [
    "# String"
   ]
  },
  {
   "cell_type": "raw",
   "id": "0d859733-fb71-4c54-abb0-265c167a27ac",
   "metadata": {},
   "source": [
    "Names, alphabates, sentences\n",
    "string should be written in quotes '', \"\"\n",
    "Sentences /  multiple line of string ''' '''"
   ]
  },
  {
   "cell_type": "code",
   "execution_count": 14,
   "id": "fb959905-471d-4bd3-8011-d2ebd9b8effa",
   "metadata": {},
   "outputs": [
    {
     "data": {
      "text/plain": [
       "'Data'"
      ]
     },
     "execution_count": 14,
     "metadata": {},
     "output_type": "execute_result"
    }
   ],
   "source": [
    "'Data'"
   ]
  },
  {
   "cell_type": "code",
   "execution_count": 15,
   "id": "c0c76b54-8897-41f3-9cee-ad91fa1d6ac8",
   "metadata": {},
   "outputs": [
    {
     "data": {
      "text/plain": [
       "'Science'"
      ]
     },
     "execution_count": 15,
     "metadata": {},
     "output_type": "execute_result"
    }
   ],
   "source": [
    "\"Science\""
   ]
  },
  {
   "cell_type": "code",
   "execution_count": 17,
   "id": "2aec6632-efad-4b9d-97b4-41e0042e6a6b",
   "metadata": {},
   "outputs": [
    {
     "data": {
      "text/plain": [
       "'A\\nB\\nC'"
      ]
     },
     "execution_count": 17,
     "metadata": {},
     "output_type": "execute_result"
    }
   ],
   "source": [
    "'''A\n",
    "B\n",
    "C'''"
   ]
  },
  {
   "cell_type": "code",
   "execution_count": 18,
   "id": "d5720e1a-5394-4db4-9d44-de2c37699449",
   "metadata": {},
   "outputs": [
    {
     "data": {
      "text/plain": [
       "str"
      ]
     },
     "execution_count": 18,
     "metadata": {},
     "output_type": "execute_result"
    }
   ],
   "source": [
    "type('Data')"
   ]
  },
  {
   "cell_type": "code",
   "execution_count": 19,
   "id": "cd58a211-5389-4584-87e0-56ef6dba6b58",
   "metadata": {},
   "outputs": [
    {
     "data": {
      "text/plain": [
       "str"
      ]
     },
     "execution_count": 19,
     "metadata": {},
     "output_type": "execute_result"
    }
   ],
   "source": [
    "type(\"Science\")"
   ]
  },
  {
   "cell_type": "code",
   "execution_count": 20,
   "id": "dd75dbd9-3cb9-4923-93eb-12348b9aed1a",
   "metadata": {},
   "outputs": [
    {
     "data": {
      "text/plain": [
       "'8'"
      ]
     },
     "execution_count": 20,
     "metadata": {},
     "output_type": "execute_result"
    }
   ],
   "source": [
    "'8'"
   ]
  },
  {
   "cell_type": "code",
   "execution_count": 21,
   "id": "e30ed072-6c82-45bc-8670-9868ca35afa9",
   "metadata": {},
   "outputs": [
    {
     "data": {
      "text/plain": [
       "str"
      ]
     },
     "execution_count": 21,
     "metadata": {},
     "output_type": "execute_result"
    }
   ],
   "source": [
    "type('8')"
   ]
  },
  {
   "cell_type": "markdown",
   "id": "a04280bd-0cb1-4409-bbd3-9f6c22a53439",
   "metadata": {},
   "source": [
    "# Boolean"
   ]
  },
  {
   "cell_type": "raw",
   "id": "1cd2cbd5-adea-4b4f-8f20-3d89d94f9e91",
   "metadata": {},
   "source": [
    "Boolean is having True & False Values"
   ]
  },
  {
   "cell_type": "code",
   "execution_count": 22,
   "id": "4558a3c1-9ad7-4868-9248-6a114ae3d4c8",
   "metadata": {},
   "outputs": [
    {
     "data": {
      "text/plain": [
       "True"
      ]
     },
     "execution_count": 22,
     "metadata": {},
     "output_type": "execute_result"
    }
   ],
   "source": [
    "True"
   ]
  },
  {
   "cell_type": "code",
   "execution_count": 23,
   "id": "392f7d3b-c3ae-4f29-aacc-b31a7469d563",
   "metadata": {},
   "outputs": [
    {
     "data": {
      "text/plain": [
       "False"
      ]
     },
     "execution_count": 23,
     "metadata": {},
     "output_type": "execute_result"
    }
   ],
   "source": [
    "False"
   ]
  },
  {
   "cell_type": "code",
   "execution_count": 24,
   "id": "032f3832-c9fb-4a9a-8971-4a28e50eedde",
   "metadata": {},
   "outputs": [
    {
     "data": {
      "text/plain": [
       "False"
      ]
     },
     "execution_count": 24,
     "metadata": {},
     "output_type": "execute_result"
    }
   ],
   "source": [
    "5 > 10"
   ]
  },
  {
   "cell_type": "code",
   "execution_count": 25,
   "id": "c9e92a68-a1e7-408c-95ce-595323259ce2",
   "metadata": {},
   "outputs": [
    {
     "data": {
      "text/plain": [
       "True"
      ]
     },
     "execution_count": 25,
     "metadata": {},
     "output_type": "execute_result"
    }
   ],
   "source": [
    "5 > 1"
   ]
  },
  {
   "cell_type": "code",
   "execution_count": 26,
   "id": "69b42b51-3dd2-462c-8877-0f209513de59",
   "metadata": {},
   "outputs": [
    {
     "data": {
      "text/plain": [
       "bool"
      ]
     },
     "execution_count": 26,
     "metadata": {},
     "output_type": "execute_result"
    }
   ],
   "source": [
    "type(True)"
   ]
  },
  {
   "cell_type": "code",
   "execution_count": 27,
   "id": "6beaeaaa-400d-46fb-b37d-51e0a02ecc81",
   "metadata": {},
   "outputs": [
    {
     "data": {
      "text/plain": [
       "bool"
      ]
     },
     "execution_count": 27,
     "metadata": {},
     "output_type": "execute_result"
    }
   ],
   "source": [
    "type(False)"
   ]
  },
  {
   "cell_type": "code",
   "execution_count": null,
   "id": "5b1d78ca-7c3c-41ef-891b-d9ed9ea45b0a",
   "metadata": {},
   "outputs": [],
   "source": []
  }
 ],
 "metadata": {
  "kernelspec": {
   "display_name": "Python 3 (ipykernel)",
   "language": "python",
   "name": "python3"
  },
  "language_info": {
   "codemirror_mode": {
    "name": "ipython",
    "version": 3
   },
   "file_extension": ".py",
   "mimetype": "text/x-python",
   "name": "python",
   "nbconvert_exporter": "python",
   "pygments_lexer": "ipython3",
   "version": "3.11.7"
  }
 },
 "nbformat": 4,
 "nbformat_minor": 5
}
