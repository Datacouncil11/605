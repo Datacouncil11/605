{
 "cells": [
  {
   "cell_type": "code",
   "execution_count": 1,
   "id": "d6a5637d-6650-4348-8115-f6c869faf6ba",
   "metadata": {},
   "outputs": [],
   "source": [
    "class Car:\n",
    "    def __init__(self, Color, Type, Engine, Reading): #Constructur --> Way to pass data to classs\n",
    "        self.Color = Color\n",
    "        self.Type = Type\n",
    "        self.Engine = Engine\n",
    "        self.Reading = Reading"
   ]
  },
  {
   "cell_type": "code",
   "execution_count": 2,
   "id": "c2032626-cfdf-4723-990e-85dc9fc8fd6c",
   "metadata": {},
   "outputs": [],
   "source": [
    "# Classes are buleprints of objects"
   ]
  },
  {
   "cell_type": "code",
   "execution_count": 4,
   "id": "92c5638d-99ab-4669-bea6-239b1198289a",
   "metadata": {},
   "outputs": [],
   "source": [
    "Nexon = Car('Red', 'SUV', 'Petrol', 1500)"
   ]
  },
  {
   "cell_type": "code",
   "execution_count": 5,
   "id": "cd5897d5-9027-44e2-9b53-1632111c9f4e",
   "metadata": {},
   "outputs": [
    {
     "data": {
      "text/plain": [
       "'Red'"
      ]
     },
     "execution_count": 5,
     "metadata": {},
     "output_type": "execute_result"
    }
   ],
   "source": [
    "Nexon.Color"
   ]
  },
  {
   "cell_type": "code",
   "execution_count": 6,
   "id": "5d0f9aca-af95-4f33-999a-e541927d36bb",
   "metadata": {},
   "outputs": [
    {
     "data": {
      "text/plain": [
       "'Petrol'"
      ]
     },
     "execution_count": 6,
     "metadata": {},
     "output_type": "execute_result"
    }
   ],
   "source": [
    "Nexon.Engine"
   ]
  },
  {
   "cell_type": "code",
   "execution_count": 7,
   "id": "be5c26b4-f955-47af-834a-105ac5052cd2",
   "metadata": {},
   "outputs": [
    {
     "data": {
      "text/plain": [
       "1500"
      ]
     },
     "execution_count": 7,
     "metadata": {},
     "output_type": "execute_result"
    }
   ],
   "source": [
    "Nexon.Reading"
   ]
  },
  {
   "cell_type": "code",
   "execution_count": 8,
   "id": "15008a25-0ad8-4527-bb82-dfeea232b4f5",
   "metadata": {},
   "outputs": [
    {
     "data": {
      "text/plain": [
       "'SUV'"
      ]
     },
     "execution_count": 8,
     "metadata": {},
     "output_type": "execute_result"
    }
   ],
   "source": [
    "Nexon.Type"
   ]
  },
  {
   "cell_type": "code",
   "execution_count": 9,
   "id": "c9b909ca-dd78-4a3e-829d-198a9638c62f",
   "metadata": {},
   "outputs": [],
   "source": [
    "Fortuner = Car('White', 'SUV', 'Diesel', 1200)"
   ]
  },
  {
   "cell_type": "code",
   "execution_count": null,
   "id": "7d4dca66-7a31-44c5-98f1-0dbf793c07ec",
   "metadata": {},
   "outputs": [],
   "source": []
  }
 ],
 "metadata": {
  "kernelspec": {
   "display_name": "Python 3 (ipykernel)",
   "language": "python",
   "name": "python3"
  },
  "language_info": {
   "codemirror_mode": {
    "name": "ipython",
    "version": 3
   },
   "file_extension": ".py",
   "mimetype": "text/x-python",
   "name": "python",
   "nbconvert_exporter": "python",
   "pygments_lexer": "ipython3",
   "version": "3.11.7"
  }
 },
 "nbformat": 4,
 "nbformat_minor": 5
}
