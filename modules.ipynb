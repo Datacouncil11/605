{
 "cells": [
  {
   "cell_type": "code",
   "execution_count": 1,
   "id": "3fbaac16-b1bb-4e0b-ac7b-cd09b00f69c7",
   "metadata": {},
   "outputs": [],
   "source": [
    "def sum(a,b):\n",
    "    return a + b"
   ]
  },
  {
   "cell_type": "code",
   "execution_count": 2,
   "id": "0fd357f4-5af1-44e2-979d-328464d02fbc",
   "metadata": {},
   "outputs": [
    {
     "data": {
      "text/plain": [
       "15"
      ]
     },
     "execution_count": 2,
     "metadata": {},
     "output_type": "execute_result"
    }
   ],
   "source": [
    "sum(10,5)"
   ]
  },
  {
   "cell_type": "code",
   "execution_count": 3,
   "id": "34c84ad7-2860-430c-b498-54dedd25de85",
   "metadata": {},
   "outputs": [],
   "source": [
    "import arethematic_functions"
   ]
  },
  {
   "cell_type": "code",
   "execution_count": 4,
   "id": "359e9a11-701f-4670-9431-5a575e3426c5",
   "metadata": {},
   "outputs": [
    {
     "data": {
      "text/plain": [
       "20"
      ]
     },
     "execution_count": 4,
     "metadata": {},
     "output_type": "execute_result"
    }
   ],
   "source": [
    "arethematic_functions.multiplication(10,2)"
   ]
  },
  {
   "cell_type": "code",
   "execution_count": 5,
   "id": "e4731c4d-c664-4126-a209-6b5802246178",
   "metadata": {},
   "outputs": [],
   "source": [
    "import numbergame"
   ]
  },
  {
   "cell_type": "code",
   "execution_count": 6,
   "id": "660d18e5-9553-4ba9-a1d4-d50b11713c7b",
   "metadata": {},
   "outputs": [
    {
     "data": {
      "text/plain": [
       "[100]"
      ]
     },
     "execution_count": 6,
     "metadata": {},
     "output_type": "execute_result"
    }
   ],
   "source": [
    "numbergame.intfilter('Data', 100,10.6,True,[1,2,3])"
   ]
  },
  {
   "cell_type": "code",
   "execution_count": 1,
   "id": "10fb5ca3-574f-4763-8347-2cae7b41f3db",
   "metadata": {},
   "outputs": [],
   "source": [
    "import number_game2"
   ]
  },
  {
   "cell_type": "code",
   "execution_count": 2,
   "id": "2bf3d84c-de45-4754-8e16-4bb1e05313e1",
   "metadata": {},
   "outputs": [
    {
     "data": {
      "text/plain": [
       "[100, 1, 2, 3]"
      ]
     },
     "execution_count": 2,
     "metadata": {},
     "output_type": "execute_result"
    }
   ],
   "source": [
    "number_game2.int_filter('Data', 100,10.6,True,[1,2,3])"
   ]
  },
  {
   "cell_type": "code",
   "execution_count": null,
   "id": "320e9e0a-34e2-4b33-95b0-03aa5ef3999d",
   "metadata": {},
   "outputs": [],
   "source": []
  }
 ],
 "metadata": {
  "kernelspec": {
   "display_name": "Python 3 (ipykernel)",
   "language": "python",
   "name": "python3"
  },
  "language_info": {
   "codemirror_mode": {
    "name": "ipython",
    "version": 3
   },
   "file_extension": ".py",
   "mimetype": "text/x-python",
   "name": "python",
   "nbconvert_exporter": "python",
   "pygments_lexer": "ipython3",
   "version": "3.11.7"
  }
 },
 "nbformat": 4,
 "nbformat_minor": 5
}
