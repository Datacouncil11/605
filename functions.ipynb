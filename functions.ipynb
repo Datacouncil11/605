{
 "cells": [
  {
   "cell_type": "code",
   "execution_count": 1,
   "id": "5b3eb4f6-739f-4a9c-bdda-f25b5cb0d44b",
   "metadata": {},
   "outputs": [],
   "source": [
    "def test():\n",
    "    print('This is my test function')"
   ]
  },
  {
   "cell_type": "code",
   "execution_count": 2,
   "id": "9d184555-fcf0-41eb-a469-a5eb53d33547",
   "metadata": {},
   "outputs": [
    {
     "name": "stdout",
     "output_type": "stream",
     "text": [
      "This is my test function\n"
     ]
    }
   ],
   "source": [
    "test()"
   ]
  },
  {
   "cell_type": "code",
   "execution_count": 3,
   "id": "d90e2f40-89c1-41e0-94f4-1ee5a7cd4e00",
   "metadata": {},
   "outputs": [],
   "source": [
    "def test2():\n",
    "    '''\n",
    "    this is my test2 function \n",
    "    and i am just checking it\n",
    "    '''\n",
    "    print('This is test2 function')"
   ]
  },
  {
   "cell_type": "code",
   "execution_count": 4,
   "id": "9b5e24f1-f5d4-4768-9252-30a49bf19775",
   "metadata": {},
   "outputs": [
    {
     "name": "stdout",
     "output_type": "stream",
     "text": [
      "This is test2 function\n"
     ]
    }
   ],
   "source": [
    "test2()"
   ]
  },
  {
   "cell_type": "code",
   "execution_count": 5,
   "id": "00bea378-56b4-458a-bdba-1f3482db5a95",
   "metadata": {},
   "outputs": [
    {
     "name": "stdout",
     "output_type": "stream",
     "text": [
      "This is my test function\n"
     ]
    },
    {
     "data": {
      "text/plain": [
       "NoneType"
      ]
     },
     "execution_count": 5,
     "metadata": {},
     "output_type": "execute_result"
    }
   ],
   "source": [
    "type(test())"
   ]
  },
  {
   "cell_type": "code",
   "execution_count": 6,
   "id": "7628799f-5bf9-44a9-8ccc-e81530d80326",
   "metadata": {},
   "outputs": [
    {
     "name": "stdout",
     "output_type": "stream",
     "text": [
      "This is test2 function\n"
     ]
    },
    {
     "data": {
      "text/plain": [
       "NoneType"
      ]
     },
     "execution_count": 6,
     "metadata": {},
     "output_type": "execute_result"
    }
   ],
   "source": [
    "type(test2())"
   ]
  },
  {
   "cell_type": "code",
   "execution_count": 7,
   "id": "eaf664ca-ea4f-46d9-af6b-b65accca58c9",
   "metadata": {},
   "outputs": [],
   "source": [
    "def test3():\n",
    "    return 'This is my test3 function'"
   ]
  },
  {
   "cell_type": "code",
   "execution_count": 8,
   "id": "bd7a9d2e-9eba-4bd2-aca2-2fc382739231",
   "metadata": {},
   "outputs": [
    {
     "data": {
      "text/plain": [
       "'This is my test3 function'"
      ]
     },
     "execution_count": 8,
     "metadata": {},
     "output_type": "execute_result"
    }
   ],
   "source": [
    "test3()"
   ]
  },
  {
   "cell_type": "code",
   "execution_count": 9,
   "id": "51435be4-2676-4a5d-9b90-e8672a00bd78",
   "metadata": {},
   "outputs": [
    {
     "data": {
      "text/plain": [
       "str"
      ]
     },
     "execution_count": 9,
     "metadata": {},
     "output_type": "execute_result"
    }
   ],
   "source": [
    "type(test3())"
   ]
  },
  {
   "cell_type": "code",
   "execution_count": 10,
   "id": "d61e5b5d-e314-400e-88bb-a7ded79dc34d",
   "metadata": {},
   "outputs": [
    {
     "name": "stdout",
     "output_type": "stream",
     "text": [
      "This is my test function\n",
      "This is test2 function\n"
     ]
    },
    {
     "ename": "TypeError",
     "evalue": "unsupported operand type(s) for +: 'NoneType' and 'NoneType'",
     "output_type": "error",
     "traceback": [
      "\u001b[1;31m---------------------------------------------------------------------------\u001b[0m",
      "\u001b[1;31mTypeError\u001b[0m                                 Traceback (most recent call last)",
      "Cell \u001b[1;32mIn[10], line 1\u001b[0m\n\u001b[1;32m----> 1\u001b[0m test() \u001b[38;5;241m+\u001b[39m test2()\n",
      "\u001b[1;31mTypeError\u001b[0m: unsupported operand type(s) for +: 'NoneType' and 'NoneType'"
     ]
    }
   ],
   "source": [
    "test() + test2()"
   ]
  },
  {
   "cell_type": "code",
   "execution_count": 11,
   "id": "f7ea18d8-5fb0-44f5-b135-17b87e0ee1a3",
   "metadata": {},
   "outputs": [
    {
     "data": {
      "text/plain": [
       "'This is my test3 functionHello'"
      ]
     },
     "execution_count": 11,
     "metadata": {},
     "output_type": "execute_result"
    }
   ],
   "source": [
    "test3() + 'Hello'"
   ]
  },
  {
   "cell_type": "code",
   "execution_count": 12,
   "id": "47847179-898f-4c98-8469-169c1bba5f2d",
   "metadata": {},
   "outputs": [],
   "source": [
    "def test4(a):\n",
    "    return a"
   ]
  },
  {
   "cell_type": "code",
   "execution_count": 14,
   "id": "8a66ceb3-8277-412c-9360-6893e5f3fe65",
   "metadata": {},
   "outputs": [
    {
     "data": {
      "text/plain": [
       "1000"
      ]
     },
     "execution_count": 14,
     "metadata": {},
     "output_type": "execute_result"
    }
   ],
   "source": [
    "test4(1000)"
   ]
  },
  {
   "cell_type": "code",
   "execution_count": 15,
   "id": "c0e05515-f4a4-4107-941e-fe1f944857e6",
   "metadata": {},
   "outputs": [],
   "source": [
    "def test5(a):\n",
    "    return a + 100"
   ]
  },
  {
   "cell_type": "code",
   "execution_count": 16,
   "id": "1aa8fab5-37b1-4147-b62d-44b774364310",
   "metadata": {},
   "outputs": [
    {
     "data": {
      "text/plain": [
       "105"
      ]
     },
     "execution_count": 16,
     "metadata": {},
     "output_type": "execute_result"
    }
   ],
   "source": [
    "test5(5)"
   ]
  },
  {
   "cell_type": "code",
   "execution_count": 17,
   "id": "918449fc-2495-4d0d-8a67-414cb6f220a4",
   "metadata": {},
   "outputs": [],
   "source": [
    "def test6(a):\n",
    "    return a ** 2"
   ]
  },
  {
   "cell_type": "code",
   "execution_count": 18,
   "id": "6da07a0e-5d34-4459-b62e-995eee5b2208",
   "metadata": {},
   "outputs": [
    {
     "data": {
      "text/plain": [
       "25"
      ]
     },
     "execution_count": 18,
     "metadata": {},
     "output_type": "execute_result"
    }
   ],
   "source": [
    "test6(5)"
   ]
  },
  {
   "cell_type": "code",
   "execution_count": 19,
   "id": "842273e7-2074-4652-a154-929bfcbef71a",
   "metadata": {},
   "outputs": [],
   "source": [
    "def test7(a,b,c):\n",
    "    return a + b+ c"
   ]
  },
  {
   "cell_type": "code",
   "execution_count": 20,
   "id": "15588c90-80b5-4130-af71-672a390920d0",
   "metadata": {},
   "outputs": [
    {
     "data": {
      "text/plain": [
       "50"
      ]
     },
     "execution_count": 20,
     "metadata": {},
     "output_type": "execute_result"
    }
   ],
   "source": [
    "test7(12,34,4)"
   ]
  },
  {
   "cell_type": "code",
   "execution_count": 21,
   "id": "708c25a7-c94a-47c7-9496-f1d257827be9",
   "metadata": {},
   "outputs": [],
   "source": [
    "def test8(a):\n",
    "    if a%2 == 0:\n",
    "        return 'even number'\n",
    "    else:\n",
    "        return 'odd number'"
   ]
  },
  {
   "cell_type": "code",
   "execution_count": 23,
   "id": "803e3435-1b5e-46c3-bc8c-e902a891b398",
   "metadata": {},
   "outputs": [
    {
     "data": {
      "text/plain": [
       "'even number'"
      ]
     },
     "execution_count": 23,
     "metadata": {},
     "output_type": "execute_result"
    }
   ],
   "source": [
    "test8(2)"
   ]
  },
  {
   "cell_type": "code",
   "execution_count": null,
   "id": "57f59952-4806-4633-9817-f4b9f29d3018",
   "metadata": {},
   "outputs": [],
   "source": []
  }
 ],
 "metadata": {
  "kernelspec": {
   "display_name": "Python 3 (ipykernel)",
   "language": "python",
   "name": "python3"
  },
  "language_info": {
   "codemirror_mode": {
    "name": "ipython",
    "version": 3
   },
   "file_extension": ".py",
   "mimetype": "text/x-python",
   "name": "python",
   "nbconvert_exporter": "python",
   "pygments_lexer": "ipython3",
   "version": "3.11.7"
  }
 },
 "nbformat": 4,
 "nbformat_minor": 5
}
