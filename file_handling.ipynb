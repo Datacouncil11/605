{
 "cells": [
  {
   "cell_type": "code",
   "execution_count": 1,
   "id": "5a6944bb-2b88-4cf0-8ee2-13b4e75bd73c",
   "metadata": {},
   "outputs": [
    {
     "name": "stdout",
     "output_type": "stream",
     "text": [
      " Volume in drive C has no label.\n",
      " Volume Serial Number is B294-EB73\n",
      "\n",
      " Directory of C:\\Users\\Admin\\Downloads\\605\\Python\\file_handling\n",
      "\n",
      "09/03/2024  05:22 PM    <DIR>          .\n",
      "09/03/2024  05:22 PM    <DIR>          ..\n",
      "09/03/2024  05:22 PM    <DIR>          .ipynb_checkpoints\n",
      "09/03/2024  05:21 PM                72 file_handling.ipynb\n",
      "               1 File(s)             72 bytes\n",
      "               3 Dir(s)   6,120,685,568 bytes free\n"
     ]
    }
   ],
   "source": [
    "ls"
   ]
  },
  {
   "cell_type": "code",
   "execution_count": 3,
   "id": "d2e7a916-634e-4e51-bac9-f56b535892f3",
   "metadata": {},
   "outputs": [],
   "source": [
    "f = open('text1.txt', mode= 'w')"
   ]
  },
  {
   "cell_type": "code",
   "execution_count": 4,
   "id": "0435f830-79e2-42ab-a096-7abeae38d3f2",
   "metadata": {},
   "outputs": [
    {
     "data": {
      "text/plain": [
       "44"
      ]
     },
     "execution_count": 4,
     "metadata": {},
     "output_type": "execute_result"
    }
   ],
   "source": [
    "f.write('This is my first line inside test1.txt file ')"
   ]
  },
  {
   "cell_type": "code",
   "execution_count": 5,
   "id": "a69aeda5-2811-496a-9726-2ce7a8c120ec",
   "metadata": {},
   "outputs": [],
   "source": [
    "f.close()"
   ]
  },
  {
   "cell_type": "code",
   "execution_count": 6,
   "id": "4964deac-6e13-4bb8-bea2-2d848a29b16a",
   "metadata": {},
   "outputs": [],
   "source": [
    "f = open('text1.txt', 'r')"
   ]
  },
  {
   "cell_type": "code",
   "execution_count": 7,
   "id": "b678ec54-63df-467b-8dc3-2f8bf86e3c68",
   "metadata": {},
   "outputs": [
    {
     "data": {
      "text/plain": [
       "'This is my first line inside test1.txt file '"
      ]
     },
     "execution_count": 7,
     "metadata": {},
     "output_type": "execute_result"
    }
   ],
   "source": [
    "f.read()"
   ]
  },
  {
   "cell_type": "code",
   "execution_count": 8,
   "id": "a9c0401b-ef36-41d1-8970-bca058b99bc0",
   "metadata": {},
   "outputs": [
    {
     "data": {
      "text/plain": [
       "''"
      ]
     },
     "execution_count": 8,
     "metadata": {},
     "output_type": "execute_result"
    }
   ],
   "source": [
    "f.read()"
   ]
  },
  {
   "cell_type": "code",
   "execution_count": 9,
   "id": "52fc871c-9ace-4074-b754-ca0b11befc01",
   "metadata": {},
   "outputs": [
    {
     "data": {
      "text/plain": [
       "0"
      ]
     },
     "execution_count": 9,
     "metadata": {},
     "output_type": "execute_result"
    }
   ],
   "source": [
    "f.seek(0)"
   ]
  },
  {
   "cell_type": "code",
   "execution_count": 10,
   "id": "761a61e2-85aa-43eb-a796-24c61e72b54c",
   "metadata": {},
   "outputs": [
    {
     "data": {
      "text/plain": [
       "'This is my first line inside test1.txt file '"
      ]
     },
     "execution_count": 10,
     "metadata": {},
     "output_type": "execute_result"
    }
   ],
   "source": [
    "f.read()"
   ]
  },
  {
   "cell_type": "code",
   "execution_count": 11,
   "id": "0453e438-f530-43fd-96f9-db2ad4e74bb0",
   "metadata": {},
   "outputs": [
    {
     "data": {
      "text/plain": [
       "4"
      ]
     },
     "execution_count": 11,
     "metadata": {},
     "output_type": "execute_result"
    }
   ],
   "source": [
    "f.seek(4)"
   ]
  },
  {
   "cell_type": "code",
   "execution_count": 12,
   "id": "5cb50813-45c6-47aa-8a04-3d9ba039ca38",
   "metadata": {},
   "outputs": [
    {
     "data": {
      "text/plain": [
       "' is my first line inside test1.txt file '"
      ]
     },
     "execution_count": 12,
     "metadata": {},
     "output_type": "execute_result"
    }
   ],
   "source": [
    "f.read()"
   ]
  },
  {
   "cell_type": "code",
   "execution_count": 13,
   "id": "b10a84e2-e88a-4666-8c55-92c0c429dd19",
   "metadata": {},
   "outputs": [
    {
     "ename": "UnsupportedOperation",
     "evalue": "not writable",
     "output_type": "error",
     "traceback": [
      "\u001b[1;31m---------------------------------------------------------------------------\u001b[0m",
      "\u001b[1;31mUnsupportedOperation\u001b[0m                      Traceback (most recent call last)",
      "Cell \u001b[1;32mIn[13], line 1\u001b[0m\n\u001b[1;32m----> 1\u001b[0m f\u001b[38;5;241m.\u001b[39mwrite(\u001b[38;5;124m'\u001b[39m\u001b[38;5;124mhello\u001b[39m\u001b[38;5;124m'\u001b[39m)\n",
      "\u001b[1;31mUnsupportedOperation\u001b[0m: not writable"
     ]
    }
   ],
   "source": [
    "f.write('hello')"
   ]
  },
  {
   "cell_type": "code",
   "execution_count": 14,
   "id": "95c9f2fd-234b-4df6-bdf1-b84bb1767371",
   "metadata": {},
   "outputs": [],
   "source": [
    "f.close()"
   ]
  },
  {
   "cell_type": "code",
   "execution_count": 15,
   "id": "aa447450-302e-4879-9a8b-c9093e559367",
   "metadata": {},
   "outputs": [],
   "source": [
    "f = open('text1.txt', 'r+')"
   ]
  },
  {
   "cell_type": "code",
   "execution_count": 16,
   "id": "07bcf485-856c-462e-b20d-5f5c10a71258",
   "metadata": {},
   "outputs": [
    {
     "data": {
      "text/plain": [
       "'This is my first line inside test1.txt file '"
      ]
     },
     "execution_count": 16,
     "metadata": {},
     "output_type": "execute_result"
    }
   ],
   "source": [
    "f.read()"
   ]
  },
  {
   "cell_type": "code",
   "execution_count": 18,
   "id": "14cbec08-a51d-41b2-8c9f-4a149ea751d8",
   "metadata": {},
   "outputs": [
    {
     "data": {
      "text/plain": [
       "20"
      ]
     },
     "execution_count": 18,
     "metadata": {},
     "output_type": "execute_result"
    }
   ],
   "source": [
    "f.write('This is my 2nd line.')"
   ]
  },
  {
   "cell_type": "code",
   "execution_count": 19,
   "id": "7881aaf7-9f4d-41ca-9727-5772a81479cf",
   "metadata": {},
   "outputs": [
    {
     "data": {
      "text/plain": [
       "''"
      ]
     },
     "execution_count": 19,
     "metadata": {},
     "output_type": "execute_result"
    }
   ],
   "source": [
    "f.read()"
   ]
  },
  {
   "cell_type": "code",
   "execution_count": 20,
   "id": "0743d7ca-1f2c-4af3-a813-cb3f5bdff925",
   "metadata": {},
   "outputs": [
    {
     "data": {
      "text/plain": [
       "0"
      ]
     },
     "execution_count": 20,
     "metadata": {},
     "output_type": "execute_result"
    }
   ],
   "source": [
    "f.seek(0)"
   ]
  },
  {
   "cell_type": "code",
   "execution_count": 21,
   "id": "bdd008fc-57e2-47c0-b6a1-3387bee0ff74",
   "metadata": {},
   "outputs": [
    {
     "data": {
      "text/plain": [
       "'This is my first line inside test1.txt file This is my 2nd line.'"
      ]
     },
     "execution_count": 21,
     "metadata": {},
     "output_type": "execute_result"
    }
   ],
   "source": [
    "f.read()"
   ]
  },
  {
   "cell_type": "code",
   "execution_count": 22,
   "id": "5c61791b-3c0e-4a21-8f54-7a0cafb3c463",
   "metadata": {},
   "outputs": [
    {
     "data": {
      "text/plain": [
       "0"
      ]
     },
     "execution_count": 22,
     "metadata": {},
     "output_type": "execute_result"
    }
   ],
   "source": [
    "f.seek(0)"
   ]
  },
  {
   "cell_type": "code",
   "execution_count": 23,
   "id": "619df04a-f0fe-4edb-b26d-ba28c9430d5d",
   "metadata": {},
   "outputs": [
    {
     "data": {
      "text/plain": [
       "22"
      ]
     },
     "execution_count": 23,
     "metadata": {},
     "output_type": "execute_result"
    }
   ],
   "source": [
    "f.write('This is my 3rd change.')"
   ]
  },
  {
   "cell_type": "code",
   "execution_count": 24,
   "id": "2f9b7ff6-770a-41ab-8759-bdbd17141ea5",
   "metadata": {},
   "outputs": [
    {
     "data": {
      "text/plain": [
       "'inside test1.txt file This is my 2nd line.'"
      ]
     },
     "execution_count": 24,
     "metadata": {},
     "output_type": "execute_result"
    }
   ],
   "source": [
    "f.read()"
   ]
  },
  {
   "cell_type": "code",
   "execution_count": 25,
   "id": "5cb71f35-20de-4f4c-b08c-bb221ede1d98",
   "metadata": {},
   "outputs": [
    {
     "data": {
      "text/plain": [
       "0"
      ]
     },
     "execution_count": 25,
     "metadata": {},
     "output_type": "execute_result"
    }
   ],
   "source": [
    "f.seek(0)"
   ]
  },
  {
   "cell_type": "code",
   "execution_count": 26,
   "id": "45cb29be-270f-43a3-b63a-4e5283f53ed8",
   "metadata": {},
   "outputs": [
    {
     "data": {
      "text/plain": [
       "'This is my 3rd change.inside test1.txt file This is my 2nd line.'"
      ]
     },
     "execution_count": 26,
     "metadata": {},
     "output_type": "execute_result"
    }
   ],
   "source": [
    "f.read()"
   ]
  },
  {
   "cell_type": "code",
   "execution_count": 27,
   "id": "9b34016b-29df-42af-baf0-873eac7ba8f2",
   "metadata": {},
   "outputs": [
    {
     "data": {
      "text/plain": [
       "5"
      ]
     },
     "execution_count": 27,
     "metadata": {},
     "output_type": "execute_result"
    }
   ],
   "source": [
    "f.write('Hello')"
   ]
  },
  {
   "cell_type": "code",
   "execution_count": 28,
   "id": "378a2e38-c6aa-467d-9c16-46175e98cc64",
   "metadata": {},
   "outputs": [
    {
     "data": {
      "text/plain": [
       "0"
      ]
     },
     "execution_count": 28,
     "metadata": {},
     "output_type": "execute_result"
    }
   ],
   "source": [
    "f.seek(0)"
   ]
  },
  {
   "cell_type": "code",
   "execution_count": 29,
   "id": "f42ebd3a-2b1a-4aeb-ba99-e60b1072da12",
   "metadata": {},
   "outputs": [
    {
     "data": {
      "text/plain": [
       "'This is my 3rd change.inside test1.txt file This is my 2nd line.Hello'"
      ]
     },
     "execution_count": 29,
     "metadata": {},
     "output_type": "execute_result"
    }
   ],
   "source": [
    "f.read()"
   ]
  },
  {
   "cell_type": "code",
   "execution_count": 30,
   "id": "094fb7fd-4091-4ca8-b2d7-81c3cfe5be48",
   "metadata": {},
   "outputs": [],
   "source": [
    "f.close()"
   ]
  },
  {
   "cell_type": "code",
   "execution_count": 31,
   "id": "0a54e6f5-14c7-4b25-b12f-581294bde9e3",
   "metadata": {},
   "outputs": [],
   "source": [
    "f = open('my_code.py',mode='w' )"
   ]
  },
  {
   "cell_type": "code",
   "execution_count": 35,
   "id": "2611e118-93b8-4f21-982d-be237414f357",
   "metadata": {},
   "outputs": [
    {
     "data": {
      "text/plain": [
       "25"
      ]
     },
     "execution_count": 35,
     "metadata": {},
     "output_type": "execute_result"
    }
   ],
   "source": [
    "f.write('print(len(\"Hello World\"))')"
   ]
  },
  {
   "cell_type": "code",
   "execution_count": 43,
   "id": "d6b48a41-9687-416e-a999-a9ab4c6d87ee",
   "metadata": {},
   "outputs": [],
   "source": [
    "f.close()"
   ]
  },
  {
   "cell_type": "code",
   "execution_count": 44,
   "id": "2ac90375-6c64-4853-8942-83dac8945914",
   "metadata": {},
   "outputs": [],
   "source": [
    "f = open('test2.txt', mode = 'w')"
   ]
  },
  {
   "cell_type": "code",
   "execution_count": 47,
   "id": "17ef41b2-bee6-4b3d-bd29-795bf39dd7a5",
   "metadata": {},
   "outputs": [
    {
     "data": {
      "text/plain": [
       "106"
      ]
     },
     "execution_count": 47,
     "metadata": {},
     "output_type": "execute_result"
    }
   ],
   "source": [
    "f.write(\"\"\"\n",
    "This is my 1st line.\n",
    "This is my 2nd line.\n",
    "This is my 2nd line.\n",
    "This is my 2nd line.\n",
    "This is my 2nd line.\n",
    "\"\"\")"
   ]
  },
  {
   "cell_type": "code",
   "execution_count": 48,
   "id": "8560a8e5-fef7-4683-9bf6-d98092637d16",
   "metadata": {},
   "outputs": [],
   "source": [
    "f.close()"
   ]
  },
  {
   "cell_type": "code",
   "execution_count": 49,
   "id": "b0567465-1a15-4c87-8781-11ae01a8d241",
   "metadata": {},
   "outputs": [],
   "source": [
    "f = open('test2.txt', mode= 'r+')"
   ]
  },
  {
   "cell_type": "code",
   "execution_count": 50,
   "id": "adde9471-cb46-464e-9371-b6410bcc41be",
   "metadata": {},
   "outputs": [
    {
     "data": {
      "text/plain": [
       "'\\nThis is my 1st line.\\nThis is my 2nd line.\\nThis is my 2nd line.\\nThis is my 2nd line.\\nThis is my 2nd line.\\n'"
      ]
     },
     "execution_count": 50,
     "metadata": {},
     "output_type": "execute_result"
    }
   ],
   "source": [
    "f.read()"
   ]
  },
  {
   "cell_type": "code",
   "execution_count": 51,
   "id": "0ea0e5b1-9a63-4779-b59c-cd21a02b60d8",
   "metadata": {},
   "outputs": [
    {
     "data": {
      "text/plain": [
       "0"
      ]
     },
     "execution_count": 51,
     "metadata": {},
     "output_type": "execute_result"
    }
   ],
   "source": [
    "f.seek(0)"
   ]
  },
  {
   "cell_type": "code",
   "execution_count": 52,
   "id": "3ec6e5e8-142d-4095-87cd-70dd81093b8a",
   "metadata": {},
   "outputs": [
    {
     "data": {
      "text/plain": [
       "'\\n'"
      ]
     },
     "execution_count": 52,
     "metadata": {},
     "output_type": "execute_result"
    }
   ],
   "source": [
    "f.readline()"
   ]
  },
  {
   "cell_type": "code",
   "execution_count": 53,
   "id": "1e27abfb-dd7e-4e80-9a92-506df112605b",
   "metadata": {},
   "outputs": [
    {
     "data": {
      "text/plain": [
       "'This is my 1st line.\\n'"
      ]
     },
     "execution_count": 53,
     "metadata": {},
     "output_type": "execute_result"
    }
   ],
   "source": [
    "f.readline()"
   ]
  },
  {
   "cell_type": "code",
   "execution_count": 55,
   "id": "5ef2317a-ea70-4c2c-97e4-06cff50c76bc",
   "metadata": {},
   "outputs": [
    {
     "data": {
      "text/plain": [
       "'This is my 2nd line.\\n'"
      ]
     },
     "execution_count": 55,
     "metadata": {},
     "output_type": "execute_result"
    }
   ],
   "source": [
    "f.readline()"
   ]
  },
  {
   "cell_type": "code",
   "execution_count": 56,
   "id": "415cd7fe-3c90-4171-9795-de6f5aa540af",
   "metadata": {},
   "outputs": [
    {
     "data": {
      "text/plain": [
       "'This is my 2nd line.\\n'"
      ]
     },
     "execution_count": 56,
     "metadata": {},
     "output_type": "execute_result"
    }
   ],
   "source": [
    "f.readline()"
   ]
  },
  {
   "cell_type": "code",
   "execution_count": 57,
   "id": "7dab3b9c-1f45-40de-9780-36458b04c8e4",
   "metadata": {},
   "outputs": [
    {
     "data": {
      "text/plain": [
       "0"
      ]
     },
     "execution_count": 57,
     "metadata": {},
     "output_type": "execute_result"
    }
   ],
   "source": [
    "f.seek(0)"
   ]
  },
  {
   "cell_type": "code",
   "execution_count": 58,
   "id": "304a58ee-1a83-40b1-b647-bf17d0e0867d",
   "metadata": {},
   "outputs": [
    {
     "data": {
      "text/plain": [
       "['\\n',\n",
       " 'This is my 1st line.\\n',\n",
       " 'This is my 2nd line.\\n',\n",
       " 'This is my 2nd line.\\n',\n",
       " 'This is my 2nd line.\\n',\n",
       " 'This is my 2nd line.\\n']"
      ]
     },
     "execution_count": 58,
     "metadata": {},
     "output_type": "execute_result"
    }
   ],
   "source": [
    "f.readlines()"
   ]
  },
  {
   "cell_type": "code",
   "execution_count": 59,
   "id": "2e931158-5636-4613-89a4-ccd6f52fadfb",
   "metadata": {},
   "outputs": [
    {
     "data": {
      "text/plain": [
       "0"
      ]
     },
     "execution_count": 59,
     "metadata": {},
     "output_type": "execute_result"
    }
   ],
   "source": [
    "f.seek(0)"
   ]
  },
  {
   "cell_type": "code",
   "execution_count": 60,
   "id": "a51bd4a7-7bcc-4a5a-977b-db1f46b3902b",
   "metadata": {},
   "outputs": [],
   "source": [
    "f.close()"
   ]
  },
  {
   "cell_type": "code",
   "execution_count": 61,
   "id": "33f4ae7e-930a-4ad7-a322-b715c018c7a3",
   "metadata": {},
   "outputs": [],
   "source": [
    "f = open('test2.txt', mode = 'r+')"
   ]
  },
  {
   "cell_type": "code",
   "execution_count": 66,
   "id": "7c405923-7324-484e-8a10-2f2575dc1bb8",
   "metadata": {},
   "outputs": [
    {
     "data": {
      "text/plain": [
       "0"
      ]
     },
     "execution_count": 66,
     "metadata": {},
     "output_type": "execute_result"
    }
   ],
   "source": [
    "f.seek(0)"
   ]
  },
  {
   "cell_type": "code",
   "execution_count": 64,
   "id": "123c0f50-4564-4da1-bc4d-83f5abaa4f8c",
   "metadata": {},
   "outputs": [],
   "source": [
    "l = []\n",
    "for i in f.readlines():\n",
    "    l.append(i)"
   ]
  },
  {
   "cell_type": "code",
   "execution_count": 65,
   "id": "ef2e0883-575e-436a-9cd5-9a23ecda013b",
   "metadata": {},
   "outputs": [
    {
     "data": {
      "text/plain": [
       "['\\n',\n",
       " 'This is my 1st line.\\n',\n",
       " 'This is my 2nd line.\\n',\n",
       " 'This is my 2nd line.\\n',\n",
       " 'This is my 2nd line.\\n',\n",
       " 'This is my 2nd line.\\n']"
      ]
     },
     "execution_count": 65,
     "metadata": {},
     "output_type": "execute_result"
    }
   ],
   "source": [
    "l"
   ]
  },
  {
   "cell_type": "code",
   "execution_count": 67,
   "id": "fef775e2-0aa2-4ed7-9d3a-5ce39445184e",
   "metadata": {},
   "outputs": [
    {
     "name": "stdout",
     "output_type": "stream",
     "text": [
      "\n",
      "\n",
      "This is my 1st line.\n",
      "\n",
      "This is my 2nd line.\n",
      "\n",
      "This is my 2nd line.\n",
      "\n",
      "This is my 2nd line.\n",
      "\n",
      "This is my 2nd line.\n",
      "\n"
     ]
    }
   ],
   "source": [
    "for i in f.readlines():\n",
    "    print(i)"
   ]
  },
  {
   "cell_type": "code",
   "execution_count": null,
   "id": "e68fb8e2-d0ae-4fad-8460-c616425e7743",
   "metadata": {},
   "outputs": [],
   "source": []
  }
 ],
 "metadata": {
  "kernelspec": {
   "display_name": "Python 3 (ipykernel)",
   "language": "python",
   "name": "python3"
  },
  "language_info": {
   "codemirror_mode": {
    "name": "ipython",
    "version": 3
   },
   "file_extension": ".py",
   "mimetype": "text/x-python",
   "name": "python",
   "nbconvert_exporter": "python",
   "pygments_lexer": "ipython3",
   "version": "3.11.7"
  }
 },
 "nbformat": 4,
 "nbformat_minor": 5
}
