{
 "cells": [
  {
   "cell_type": "code",
   "execution_count": 1,
   "id": "96caef44-b7fc-4c95-bd82-541496c945e5",
   "metadata": {},
   "outputs": [],
   "source": [
    "# Function List"
   ]
  },
  {
   "cell_type": "code",
   "execution_count": 2,
   "id": "1100be39-4dbd-42c3-9434-27b792a580d6",
   "metadata": {},
   "outputs": [],
   "source": [
    "l = [1,2,3,4]"
   ]
  },
  {
   "cell_type": "code",
   "execution_count": 3,
   "id": "7101a453-e30b-4f74-b681-7cdcc10df19d",
   "metadata": {},
   "outputs": [
    {
     "data": {
      "text/plain": [
       "[1, 2, 3, 4]"
      ]
     },
     "execution_count": 3,
     "metadata": {},
     "output_type": "execute_result"
    }
   ],
   "source": [
    "l"
   ]
  },
  {
   "cell_type": "code",
   "execution_count": 5,
   "id": "a2b5c1f0-9830-4edd-ae62-f8171367c45c",
   "metadata": {},
   "outputs": [],
   "source": [
    "# l[2] = 100"
   ]
  },
  {
   "cell_type": "code",
   "execution_count": 6,
   "id": "0201ed6b-2fb3-40b3-bdb3-e378a83e3a98",
   "metadata": {},
   "outputs": [],
   "source": [
    "l.append(100)"
   ]
  },
  {
   "cell_type": "code",
   "execution_count": 7,
   "id": "33f51cc7-ac6a-4619-a929-da08bce47d6d",
   "metadata": {},
   "outputs": [
    {
     "data": {
      "text/plain": [
       "[1, 2, 3, 4, 100]"
      ]
     },
     "execution_count": 7,
     "metadata": {},
     "output_type": "execute_result"
    }
   ],
   "source": [
    "l"
   ]
  },
  {
   "cell_type": "code",
   "execution_count": 8,
   "id": "59093b99-8412-4d6b-8983-cc18c09047ce",
   "metadata": {},
   "outputs": [],
   "source": [
    "l.append(200)"
   ]
  },
  {
   "cell_type": "code",
   "execution_count": 9,
   "id": "6de7e505-5ebf-4751-a67f-c54e04e53113",
   "metadata": {},
   "outputs": [
    {
     "data": {
      "text/plain": [
       "[1, 2, 3, 4, 100, 200]"
      ]
     },
     "execution_count": 9,
     "metadata": {},
     "output_type": "execute_result"
    }
   ],
   "source": [
    "l"
   ]
  },
  {
   "cell_type": "code",
   "execution_count": 10,
   "id": "1caf4aa3-4014-496c-a322-66e0ab36839a",
   "metadata": {},
   "outputs": [],
   "source": [
    "l.append('Data')"
   ]
  },
  {
   "cell_type": "code",
   "execution_count": 11,
   "id": "ed15e387-0d02-4962-b7a9-b1f131dd4981",
   "metadata": {},
   "outputs": [
    {
     "data": {
      "text/plain": [
       "[1, 2, 3, 4, 100, 200, 'Data']"
      ]
     },
     "execution_count": 11,
     "metadata": {},
     "output_type": "execute_result"
    }
   ],
   "source": [
    "l"
   ]
  },
  {
   "cell_type": "code",
   "execution_count": 13,
   "id": "55d08882-b996-498b-802d-41a2b54c3ed0",
   "metadata": {},
   "outputs": [],
   "source": [
    "l.extend([100])"
   ]
  },
  {
   "cell_type": "code",
   "execution_count": 14,
   "id": "7a736097-5e36-4010-9b02-ae756a712588",
   "metadata": {},
   "outputs": [
    {
     "data": {
      "text/plain": [
       "[1, 2, 3, 4, 100, 200, 'Data', 100]"
      ]
     },
     "execution_count": 14,
     "metadata": {},
     "output_type": "execute_result"
    }
   ],
   "source": [
    "l"
   ]
  },
  {
   "cell_type": "code",
   "execution_count": 15,
   "id": "fd5ef5fc-7a54-453a-b5f3-75f255435bb9",
   "metadata": {},
   "outputs": [],
   "source": [
    "# Diff b/w Append & Extend"
   ]
  },
  {
   "cell_type": "code",
   "execution_count": 16,
   "id": "bf7c016f-3d86-4500-ba3a-002f90e82822",
   "metadata": {},
   "outputs": [],
   "source": [
    "l.append([1,2,3])"
   ]
  },
  {
   "cell_type": "code",
   "execution_count": 17,
   "id": "b3d00be4-eead-4392-97b5-ea94b0fc257a",
   "metadata": {},
   "outputs": [
    {
     "data": {
      "text/plain": [
       "[1, 2, 3, 4, 100, 200, 'Data', 100, [1, 2, 3]]"
      ]
     },
     "execution_count": 17,
     "metadata": {},
     "output_type": "execute_result"
    }
   ],
   "source": [
    "l"
   ]
  },
  {
   "cell_type": "code",
   "execution_count": 18,
   "id": "4f8c2af5-1684-4850-a6fb-5c004688b6dd",
   "metadata": {},
   "outputs": [],
   "source": [
    "l.extend([1,2,3])"
   ]
  },
  {
   "cell_type": "code",
   "execution_count": 19,
   "id": "a4e45938-7d20-4530-a18a-49a7284c6851",
   "metadata": {},
   "outputs": [
    {
     "data": {
      "text/plain": [
       "[1, 2, 3, 4, 100, 200, 'Data', 100, [1, 2, 3], 1, 2, 3]"
      ]
     },
     "execution_count": 19,
     "metadata": {},
     "output_type": "execute_result"
    }
   ],
   "source": [
    "l"
   ]
  },
  {
   "cell_type": "code",
   "execution_count": 20,
   "id": "8c3294fb-7963-47c5-aeb5-2f8ce783053e",
   "metadata": {},
   "outputs": [
    {
     "data": {
      "text/plain": [
       "[1, 2, 3, 4, 100, 200, 'Data', 100, [1, 2, 3], 1, 2, 3]"
      ]
     },
     "execution_count": 20,
     "metadata": {},
     "output_type": "execute_result"
    }
   ],
   "source": [
    "l"
   ]
  },
  {
   "cell_type": "code",
   "execution_count": 21,
   "id": "26263361-9f32-4b77-a6dd-06ddca38b8c2",
   "metadata": {},
   "outputs": [],
   "source": [
    "l.remove('Data')"
   ]
  },
  {
   "cell_type": "code",
   "execution_count": 22,
   "id": "1e77f325-2fd3-48a6-be69-add40ab6966e",
   "metadata": {},
   "outputs": [
    {
     "data": {
      "text/plain": [
       "[1, 2, 3, 4, 100, 200, 100, [1, 2, 3], 1, 2, 3]"
      ]
     },
     "execution_count": 22,
     "metadata": {},
     "output_type": "execute_result"
    }
   ],
   "source": [
    "l"
   ]
  },
  {
   "cell_type": "code",
   "execution_count": 23,
   "id": "16fd4089-880e-4ba5-ac2d-e8625d99e333",
   "metadata": {},
   "outputs": [],
   "source": [
    "l.remove(1)"
   ]
  },
  {
   "cell_type": "code",
   "execution_count": 24,
   "id": "2bf20d35-94de-4f26-9eb6-002424951149",
   "metadata": {},
   "outputs": [
    {
     "data": {
      "text/plain": [
       "[2, 3, 4, 100, 200, 100, [1, 2, 3], 1, 2, 3]"
      ]
     },
     "execution_count": 24,
     "metadata": {},
     "output_type": "execute_result"
    }
   ],
   "source": [
    "l # It will remove nearest index"
   ]
  },
  {
   "cell_type": "code",
   "execution_count": 25,
   "id": "81acff29-e13f-4b89-a187-021c69752e88",
   "metadata": {},
   "outputs": [],
   "source": [
    "l.remove(1)"
   ]
  },
  {
   "cell_type": "code",
   "execution_count": 26,
   "id": "0a8b4adf-93e7-454a-b403-92dae209309e",
   "metadata": {},
   "outputs": [
    {
     "data": {
      "text/plain": [
       "[2, 3, 4, 100, 200, 100, [1, 2, 3], 2, 3]"
      ]
     },
     "execution_count": 26,
     "metadata": {},
     "output_type": "execute_result"
    }
   ],
   "source": [
    "l"
   ]
  },
  {
   "cell_type": "code",
   "execution_count": 29,
   "id": "b8d83269-fc9d-4ed2-ac99-68ec74f796ad",
   "metadata": {},
   "outputs": [
    {
     "data": {
      "text/plain": [
       "2"
      ]
     },
     "execution_count": 29,
     "metadata": {},
     "output_type": "execute_result"
    }
   ],
   "source": [
    "l.pop() # Removes LAST element of list"
   ]
  },
  {
   "cell_type": "code",
   "execution_count": 30,
   "id": "d9fe5622-2f99-4d3a-a85e-cde41bed260d",
   "metadata": {},
   "outputs": [
    {
     "data": {
      "text/plain": [
       "[2, 3, 4, 100, 200, 100, [1, 2, 3]]"
      ]
     },
     "execution_count": 30,
     "metadata": {},
     "output_type": "execute_result"
    }
   ],
   "source": [
    "l"
   ]
  },
  {
   "cell_type": "code",
   "execution_count": 31,
   "id": "65a9550d-c9ae-47af-bdff-13150e295814",
   "metadata": {},
   "outputs": [
    {
     "data": {
      "text/plain": [
       "4"
      ]
     },
     "execution_count": 31,
     "metadata": {},
     "output_type": "execute_result"
    }
   ],
   "source": [
    "l.index(200)"
   ]
  },
  {
   "cell_type": "code",
   "execution_count": 32,
   "id": "7d12a497-a1ac-497b-a93e-3c371c56cd5d",
   "metadata": {},
   "outputs": [
    {
     "data": {
      "text/plain": [
       "3"
      ]
     },
     "execution_count": 32,
     "metadata": {},
     "output_type": "execute_result"
    }
   ],
   "source": [
    "l.index(100)"
   ]
  },
  {
   "cell_type": "code",
   "execution_count": 34,
   "id": "91a6839c-1071-4909-b7c8-17d610698dbc",
   "metadata": {},
   "outputs": [],
   "source": [
    "l.insert(3,'New')"
   ]
  },
  {
   "cell_type": "code",
   "execution_count": 35,
   "id": "1ff56934-76a4-4525-88a0-ff63ee747553",
   "metadata": {},
   "outputs": [
    {
     "data": {
      "text/plain": [
       "[2, 3, 4, 'New', 100, 200, 100, [1, 2, 3]]"
      ]
     },
     "execution_count": 35,
     "metadata": {},
     "output_type": "execute_result"
    }
   ],
   "source": [
    "l"
   ]
  },
  {
   "cell_type": "code",
   "execution_count": 36,
   "id": "99ab2f46-67eb-44b1-b9c4-6ccad7cb5066",
   "metadata": {},
   "outputs": [],
   "source": [
    "l.insert(5,9999)"
   ]
  },
  {
   "cell_type": "code",
   "execution_count": 37,
   "id": "53333be1-4d1d-4a59-9148-d29e1ef8ebf0",
   "metadata": {},
   "outputs": [
    {
     "data": {
      "text/plain": [
       "[2, 3, 4, 'New', 100, 9999, 200, 100, [1, 2, 3]]"
      ]
     },
     "execution_count": 37,
     "metadata": {},
     "output_type": "execute_result"
    }
   ],
   "source": [
    "l"
   ]
  },
  {
   "cell_type": "code",
   "execution_count": 38,
   "id": "1e2849e2-c8a7-4b8b-9160-391e82e196ca",
   "metadata": {},
   "outputs": [],
   "source": [
    "l.reverse()"
   ]
  },
  {
   "cell_type": "code",
   "execution_count": 39,
   "id": "e89b6ac9-991f-4258-8a56-4e477de0513b",
   "metadata": {},
   "outputs": [
    {
     "data": {
      "text/plain": [
       "[[1, 2, 3], 100, 200, 9999, 100, 'New', 4, 3, 2]"
      ]
     },
     "execution_count": 39,
     "metadata": {},
     "output_type": "execute_result"
    }
   ],
   "source": [
    "l"
   ]
  },
  {
   "cell_type": "code",
   "execution_count": 40,
   "id": "36e19307-dd31-430c-807b-c26d39418a60",
   "metadata": {},
   "outputs": [
    {
     "data": {
      "text/plain": [
       "[2, 3, 4, 'New', 100, 9999, 200, 100, [1, 2, 3]]"
      ]
     },
     "execution_count": 40,
     "metadata": {},
     "output_type": "execute_result"
    }
   ],
   "source": [
    "l[::-1]"
   ]
  },
  {
   "cell_type": "code",
   "execution_count": 41,
   "id": "c2e66e8c-4413-4d7d-a3fa-b7c26fcad1d0",
   "metadata": {},
   "outputs": [
    {
     "ename": "TypeError",
     "evalue": "'<' not supported between instances of 'int' and 'list'",
     "output_type": "error",
     "traceback": [
      "\u001b[1;31m---------------------------------------------------------------------------\u001b[0m",
      "\u001b[1;31mTypeError\u001b[0m                                 Traceback (most recent call last)",
      "Cell \u001b[1;32mIn[41], line 1\u001b[0m\n\u001b[1;32m----> 1\u001b[0m l\u001b[38;5;241m.\u001b[39msort()\n",
      "\u001b[1;31mTypeError\u001b[0m: '<' not supported between instances of 'int' and 'list'"
     ]
    }
   ],
   "source": [
    "l.sort()"
   ]
  },
  {
   "cell_type": "code",
   "execution_count": 42,
   "id": "404bb567-494f-407f-a3a1-d00b652defee",
   "metadata": {},
   "outputs": [],
   "source": [
    "k = [4,7,2,9]"
   ]
  },
  {
   "cell_type": "code",
   "execution_count": 43,
   "id": "3304c20a-a62d-4e8c-aa88-7b718b7c0f61",
   "metadata": {},
   "outputs": [],
   "source": [
    "k.sort()"
   ]
  },
  {
   "cell_type": "code",
   "execution_count": 44,
   "id": "93fd50c3-1b68-4d9d-be1b-802afb193941",
   "metadata": {},
   "outputs": [
    {
     "data": {
      "text/plain": [
       "[2, 4, 7, 9]"
      ]
     },
     "execution_count": 44,
     "metadata": {},
     "output_type": "execute_result"
    }
   ],
   "source": [
    "k"
   ]
  },
  {
   "cell_type": "code",
   "execution_count": 45,
   "id": "7c1c5091-1020-4cd9-89b0-0eb3874527e4",
   "metadata": {},
   "outputs": [
    {
     "data": {
      "text/plain": [
       "[[1, 2, 3], 100, 200, 9999, 100, 'New', 4, 3, 2]"
      ]
     },
     "execution_count": 45,
     "metadata": {},
     "output_type": "execute_result"
    }
   ],
   "source": [
    "l"
   ]
  },
  {
   "cell_type": "code",
   "execution_count": 46,
   "id": "61d88a95-63df-43e6-934f-4b60fe25f0cd",
   "metadata": {},
   "outputs": [
    {
     "data": {
      "text/plain": [
       "2"
      ]
     },
     "execution_count": 46,
     "metadata": {},
     "output_type": "execute_result"
    }
   ],
   "source": [
    "l.count(100)"
   ]
  },
  {
   "cell_type": "code",
   "execution_count": 47,
   "id": "55da737d-0f5b-4da1-9a93-362401d66e3e",
   "metadata": {},
   "outputs": [
    {
     "data": {
      "text/plain": [
       "2"
      ]
     },
     "execution_count": 47,
     "metadata": {},
     "output_type": "execute_result"
    }
   ],
   "source": [
    "'Data'.count('a')"
   ]
  },
  {
   "cell_type": "code",
   "execution_count": 49,
   "id": "71368441-57c0-4dc1-82e0-50e19ec7a1fb",
   "metadata": {},
   "outputs": [
    {
     "data": {
      "text/plain": [
       "2"
      ]
     },
     "execution_count": 49,
     "metadata": {},
     "output_type": "execute_result"
    }
   ],
   "source": [
    "'Data Science'.count('e')"
   ]
  },
  {
   "cell_type": "code",
   "execution_count": 50,
   "id": "57b614cf-aacf-4fa6-8c76-089b7fa9eef3",
   "metadata": {},
   "outputs": [
    {
     "data": {
      "text/plain": [
       "[[1, 2, 3], 100, 200, 9999, 100, 'New', 4, 3, 2]"
      ]
     },
     "execution_count": 50,
     "metadata": {},
     "output_type": "execute_result"
    }
   ],
   "source": [
    "l"
   ]
  },
  {
   "cell_type": "code",
   "execution_count": 51,
   "id": "cfb78f2d-0677-48ac-912f-b0d04b6c4872",
   "metadata": {},
   "outputs": [
    {
     "data": {
      "text/plain": [
       "[2, 4, 7, 9]"
      ]
     },
     "execution_count": 51,
     "metadata": {},
     "output_type": "execute_result"
    }
   ],
   "source": [
    "k"
   ]
  },
  {
   "cell_type": "code",
   "execution_count": 52,
   "id": "5925403a-8168-4a7a-bb7b-ca5eb9504b44",
   "metadata": {},
   "outputs": [],
   "source": [
    "k.clear()"
   ]
  },
  {
   "cell_type": "code",
   "execution_count": 53,
   "id": "f70d32c1-205a-4775-8daf-ac389d09d75a",
   "metadata": {},
   "outputs": [
    {
     "data": {
      "text/plain": [
       "[]"
      ]
     },
     "execution_count": 53,
     "metadata": {},
     "output_type": "execute_result"
    }
   ],
   "source": [
    "k"
   ]
  },
  {
   "cell_type": "code",
   "execution_count": 54,
   "id": "3ce27de6-1aca-4b29-9fe0-a8097217cfdc",
   "metadata": {},
   "outputs": [
    {
     "data": {
      "text/plain": [
       "[[1, 2, 3], 100, 200, 9999, 100, 'New', 4, 3, 2]"
      ]
     },
     "execution_count": 54,
     "metadata": {},
     "output_type": "execute_result"
    }
   ],
   "source": [
    "l.copy()"
   ]
  },
  {
   "cell_type": "markdown",
   "id": "7d92ff9d-a0f4-4f9c-8928-09e307a3c00d",
   "metadata": {},
   "source": [
    "# Tuple"
   ]
  },
  {
   "cell_type": "code",
   "execution_count": 55,
   "id": "c90ca912-d156-477b-9432-1dc924fc8143",
   "metadata": {},
   "outputs": [],
   "source": [
    "a = (1,2,3,4)"
   ]
  },
  {
   "cell_type": "code",
   "execution_count": 56,
   "id": "3d61bc04-a9a6-4250-a880-e1528c10ea78",
   "metadata": {},
   "outputs": [
    {
     "data": {
      "text/plain": [
       "tuple"
      ]
     },
     "execution_count": 56,
     "metadata": {},
     "output_type": "execute_result"
    }
   ],
   "source": [
    "type(a)"
   ]
  },
  {
   "cell_type": "code",
   "execution_count": 57,
   "id": "3ba9ef32-c3ad-4c62-a38b-e099d8dd4390",
   "metadata": {},
   "outputs": [
    {
     "data": {
      "text/plain": [
       "1"
      ]
     },
     "execution_count": 57,
     "metadata": {},
     "output_type": "execute_result"
    }
   ],
   "source": [
    "a.count(3)"
   ]
  },
  {
   "cell_type": "code",
   "execution_count": 58,
   "id": "7ec4fb8f-af7a-49d1-bec4-662e1bae4e60",
   "metadata": {},
   "outputs": [
    {
     "data": {
      "text/plain": [
       "2"
      ]
     },
     "execution_count": 58,
     "metadata": {},
     "output_type": "execute_result"
    }
   ],
   "source": [
    "a.index(3)"
   ]
  },
  {
   "cell_type": "code",
   "execution_count": 59,
   "id": "83210a4e-a352-45af-9aed-8c6cbbb1b2c9",
   "metadata": {},
   "outputs": [
    {
     "data": {
      "text/plain": [
       "(1, 2, 3, 4)"
      ]
     },
     "execution_count": 59,
     "metadata": {},
     "output_type": "execute_result"
    }
   ],
   "source": [
    "a"
   ]
  },
  {
   "cell_type": "code",
   "execution_count": 60,
   "id": "e8ab8e1a-0981-4f30-a987-c69f7053a1f5",
   "metadata": {},
   "outputs": [
    {
     "data": {
      "text/plain": [
       "2"
      ]
     },
     "execution_count": 60,
     "metadata": {},
     "output_type": "execute_result"
    }
   ],
   "source": [
    "a[1]"
   ]
  },
  {
   "cell_type": "code",
   "execution_count": 61,
   "id": "b14ad183-3d37-4f06-beba-0378d0e72ccb",
   "metadata": {},
   "outputs": [
    {
     "ename": "TypeError",
     "evalue": "'tuple' object does not support item assignment",
     "output_type": "error",
     "traceback": [
      "\u001b[1;31m---------------------------------------------------------------------------\u001b[0m",
      "\u001b[1;31mTypeError\u001b[0m                                 Traceback (most recent call last)",
      "Cell \u001b[1;32mIn[61], line 1\u001b[0m\n\u001b[1;32m----> 1\u001b[0m a[\u001b[38;5;241m1\u001b[39m] \u001b[38;5;241m=\u001b[39m \u001b[38;5;241m100\u001b[39m\n",
      "\u001b[1;31mTypeError\u001b[0m: 'tuple' object does not support item assignment"
     ]
    }
   ],
   "source": [
    "a[1] = 100"
   ]
  },
  {
   "cell_type": "code",
   "execution_count": 62,
   "id": "17a5d546-77f7-4026-ba0a-b6e2e85d81ae",
   "metadata": {},
   "outputs": [],
   "source": [
    "f = (1,2,3,4,(5,6,7,8))"
   ]
  },
  {
   "cell_type": "code",
   "execution_count": 63,
   "id": "91e44ce8-33d5-4c32-9b5c-443b7a4c04a8",
   "metadata": {},
   "outputs": [
    {
     "data": {
      "text/plain": [
       "(1, 2, 3, 4, (5, 6, 7, 8))"
      ]
     },
     "execution_count": 63,
     "metadata": {},
     "output_type": "execute_result"
    }
   ],
   "source": [
    "f"
   ]
  },
  {
   "cell_type": "code",
   "execution_count": 64,
   "id": "ad20e324-40f5-4469-b4ab-6bf4843afa9a",
   "metadata": {},
   "outputs": [
    {
     "data": {
      "text/plain": [
       "(5, 6, 7, 8)"
      ]
     },
     "execution_count": 64,
     "metadata": {},
     "output_type": "execute_result"
    }
   ],
   "source": [
    "f[4]"
   ]
  },
  {
   "cell_type": "code",
   "execution_count": 65,
   "id": "ca1c8c03-6fe3-4402-b456-6827b15976b1",
   "metadata": {},
   "outputs": [
    {
     "data": {
      "text/plain": [
       "5"
      ]
     },
     "execution_count": 65,
     "metadata": {},
     "output_type": "execute_result"
    }
   ],
   "source": [
    "f[4][0]"
   ]
  },
  {
   "cell_type": "code",
   "execution_count": 66,
   "id": "4c5e1886-d5c0-4662-8b88-ef2e5e1add4e",
   "metadata": {},
   "outputs": [],
   "source": [
    "y = [1,2,3,4,5]"
   ]
  },
  {
   "cell_type": "code",
   "execution_count": 67,
   "id": "22814f66-070c-4bea-8d5c-7aaff9a75233",
   "metadata": {},
   "outputs": [
    {
     "data": {
      "text/plain": [
       "list"
      ]
     },
     "execution_count": 67,
     "metadata": {},
     "output_type": "execute_result"
    }
   ],
   "source": [
    "type(y)"
   ]
  },
  {
   "cell_type": "code",
   "execution_count": 68,
   "id": "bdbdeef7-ef7e-4fc4-a04e-dbed26dab47a",
   "metadata": {},
   "outputs": [
    {
     "data": {
      "text/plain": [
       "(1, 2, 3, 4, 5)"
      ]
     },
     "execution_count": 68,
     "metadata": {},
     "output_type": "execute_result"
    }
   ],
   "source": [
    "tuple(y)"
   ]
  },
  {
   "cell_type": "code",
   "execution_count": 69,
   "id": "33153ef9-fe74-4872-a698-c0484abccdb5",
   "metadata": {},
   "outputs": [],
   "source": [
    "j = (1,2,3,4,5)"
   ]
  },
  {
   "cell_type": "code",
   "execution_count": 70,
   "id": "438b1c49-02db-4726-bf0a-c4b7a1ade9c3",
   "metadata": {},
   "outputs": [
    {
     "data": {
      "text/plain": [
       "tuple"
      ]
     },
     "execution_count": 70,
     "metadata": {},
     "output_type": "execute_result"
    }
   ],
   "source": [
    "type(j)"
   ]
  },
  {
   "cell_type": "code",
   "execution_count": 71,
   "id": "22d47fb2-75cc-49af-9e70-f4a540da67eb",
   "metadata": {},
   "outputs": [
    {
     "data": {
      "text/plain": [
       "[1, 2, 3, 4, 5]"
      ]
     },
     "execution_count": 71,
     "metadata": {},
     "output_type": "execute_result"
    }
   ],
   "source": [
    "list(j)"
   ]
  },
  {
   "cell_type": "markdown",
   "id": "0cdd3019-c7b2-413f-8248-9494cfb16095",
   "metadata": {},
   "source": [
    "# Set"
   ]
  },
  {
   "cell_type": "code",
   "execution_count": 72,
   "id": "c69dc873-811f-4950-bb18-cbde8a208de5",
   "metadata": {},
   "outputs": [],
   "source": [
    "a = {1,2,3}"
   ]
  },
  {
   "cell_type": "code",
   "execution_count": 73,
   "id": "c82ca0a9-6496-4a63-98ab-938a302cf8ce",
   "metadata": {},
   "outputs": [
    {
     "data": {
      "text/plain": [
       "set"
      ]
     },
     "execution_count": 73,
     "metadata": {},
     "output_type": "execute_result"
    }
   ],
   "source": [
    "type(a)"
   ]
  },
  {
   "cell_type": "code",
   "execution_count": 74,
   "id": "ccee0286-4802-4579-91a6-d156a9b5f8fc",
   "metadata": {},
   "outputs": [],
   "source": [
    "# Set does not allows the duplicate values"
   ]
  },
  {
   "cell_type": "code",
   "execution_count": 75,
   "id": "21577ecb-e1f3-4be0-abdd-394c68fa092a",
   "metadata": {},
   "outputs": [],
   "source": [
    "s = {1,2,1,2}"
   ]
  },
  {
   "cell_type": "code",
   "execution_count": 76,
   "id": "3311679b-62fc-49c3-9eea-6f8ce7b7880e",
   "metadata": {},
   "outputs": [
    {
     "data": {
      "text/plain": [
       "{1, 2}"
      ]
     },
     "execution_count": 76,
     "metadata": {},
     "output_type": "execute_result"
    }
   ],
   "source": [
    "s"
   ]
  },
  {
   "cell_type": "code",
   "execution_count": 77,
   "id": "d53e96e5-dc96-4bbb-8408-b23521fd97a5",
   "metadata": {},
   "outputs": [],
   "source": [
    "a = {1,2,3}"
   ]
  },
  {
   "cell_type": "code",
   "execution_count": 78,
   "id": "c79190fe-3cd0-4388-9dfe-57155d083f7d",
   "metadata": {},
   "outputs": [],
   "source": [
    "b = {3,4,5}"
   ]
  },
  {
   "cell_type": "code",
   "execution_count": 79,
   "id": "45cddfcd-6742-45e6-af11-33f0ab9fd798",
   "metadata": {},
   "outputs": [
    {
     "data": {
      "text/plain": [
       "{1, 2, 3, 4, 5}"
      ]
     },
     "execution_count": 79,
     "metadata": {},
     "output_type": "execute_result"
    }
   ],
   "source": [
    "a.union(b)"
   ]
  },
  {
   "cell_type": "code",
   "execution_count": 80,
   "id": "f5721383-9c9e-45a0-b074-178b2a5e04c1",
   "metadata": {},
   "outputs": [
    {
     "data": {
      "text/plain": [
       "{1, 2}"
      ]
     },
     "execution_count": 80,
     "metadata": {},
     "output_type": "execute_result"
    }
   ],
   "source": [
    "a.difference(b)"
   ]
  },
  {
   "cell_type": "code",
   "execution_count": 82,
   "id": "59bc4ad4-c16e-4b88-a05e-7271384189dc",
   "metadata": {},
   "outputs": [],
   "source": [
    "a.update({4})"
   ]
  },
  {
   "cell_type": "code",
   "execution_count": 83,
   "id": "e7d0d809-921e-4d7e-9aae-8d78d566b1a6",
   "metadata": {},
   "outputs": [
    {
     "data": {
      "text/plain": [
       "{1, 2, 3, 4}"
      ]
     },
     "execution_count": 83,
     "metadata": {},
     "output_type": "execute_result"
    }
   ],
   "source": [
    "a"
   ]
  },
  {
   "cell_type": "markdown",
   "id": "4ddd32d2-7140-4f90-9ead-3efaabe030dd",
   "metadata": {},
   "source": [
    "# Dict"
   ]
  },
  {
   "cell_type": "raw",
   "id": "e2d34a7e-7a7c-47b0-b2f7-af48f007fe3a",
   "metadata": {},
   "source": [
    "Key and Value\n",
    "a:5"
   ]
  },
  {
   "cell_type": "code",
   "execution_count": 85,
   "id": "fa964885-0fc2-4442-8548-25f41861fd2c",
   "metadata": {},
   "outputs": [],
   "source": [
    "d = {'a':1,'b':2,'c':3}"
   ]
  },
  {
   "cell_type": "code",
   "execution_count": 86,
   "id": "ff970986-a8a4-45f9-a9f9-9c1ff788d1b8",
   "metadata": {},
   "outputs": [
    {
     "data": {
      "text/plain": [
       "{'a': 1, 'b': 2, 'c': 3}"
      ]
     },
     "execution_count": 86,
     "metadata": {},
     "output_type": "execute_result"
    }
   ],
   "source": [
    "d"
   ]
  },
  {
   "cell_type": "code",
   "execution_count": 87,
   "id": "828f004f-6ffd-4aa4-917a-b02a5ee9c8c3",
   "metadata": {},
   "outputs": [
    {
     "data": {
      "text/plain": [
       "dict_keys(['a', 'b', 'c'])"
      ]
     },
     "execution_count": 87,
     "metadata": {},
     "output_type": "execute_result"
    }
   ],
   "source": [
    "d.keys()"
   ]
  },
  {
   "cell_type": "code",
   "execution_count": 88,
   "id": "08246b0f-d75f-4fca-9213-5c2a3edd573e",
   "metadata": {},
   "outputs": [
    {
     "data": {
      "text/plain": [
       "dict_values([1, 2, 3])"
      ]
     },
     "execution_count": 88,
     "metadata": {},
     "output_type": "execute_result"
    }
   ],
   "source": [
    "d.values()"
   ]
  },
  {
   "cell_type": "code",
   "execution_count": 89,
   "id": "9a5a27c7-3ddd-42bf-a571-eb6c7e9933e5",
   "metadata": {},
   "outputs": [
    {
     "data": {
      "text/plain": [
       "{'a': 1, 'b': 2, 'c': 3}"
      ]
     },
     "execution_count": 89,
     "metadata": {},
     "output_type": "execute_result"
    }
   ],
   "source": [
    "d"
   ]
  },
  {
   "cell_type": "code",
   "execution_count": 93,
   "id": "d8d2263f-83d5-49a4-a5f0-f3fb157c397d",
   "metadata": {},
   "outputs": [
    {
     "data": {
      "text/plain": [
       "dict_items([('a', 1), ('b', 2), ('c', 3)])"
      ]
     },
     "execution_count": 93,
     "metadata": {},
     "output_type": "execute_result"
    }
   ],
   "source": [
    "d.items()"
   ]
  },
  {
   "cell_type": "code",
   "execution_count": 94,
   "id": "12467087-a5da-494d-8457-8cb2b7c139ae",
   "metadata": {},
   "outputs": [
    {
     "data": {
      "text/plain": [
       "1"
      ]
     },
     "execution_count": 94,
     "metadata": {},
     "output_type": "execute_result"
    }
   ],
   "source": [
    "d.setdefault('a')"
   ]
  },
  {
   "cell_type": "code",
   "execution_count": 95,
   "id": "6439982a-295c-41de-93db-913c1573c7a0",
   "metadata": {},
   "outputs": [
    {
     "data": {
      "text/plain": [
       "{'a': 1, 'b': 2, 'c': 3}"
      ]
     },
     "execution_count": 95,
     "metadata": {},
     "output_type": "execute_result"
    }
   ],
   "source": [
    "d"
   ]
  },
  {
   "cell_type": "code",
   "execution_count": 96,
   "id": "0e2232ce-7c34-44df-9acc-b1a798270831",
   "metadata": {},
   "outputs": [
    {
     "data": {
      "text/plain": [
       "3"
      ]
     },
     "execution_count": 96,
     "metadata": {},
     "output_type": "execute_result"
    }
   ],
   "source": [
    "d.setdefault('c')"
   ]
  },
  {
   "cell_type": "code",
   "execution_count": 97,
   "id": "16a01be7-efe7-40ba-a601-ca0fc4fb1ab1",
   "metadata": {},
   "outputs": [
    {
     "data": {
      "text/plain": [
       "{'a': 1, 'b': 2, 'c': 3}"
      ]
     },
     "execution_count": 97,
     "metadata": {},
     "output_type": "execute_result"
    }
   ],
   "source": [
    "d"
   ]
  },
  {
   "cell_type": "code",
   "execution_count": 98,
   "id": "8bf4f561-f4a0-4dd9-8d01-95a012676d9f",
   "metadata": {},
   "outputs": [],
   "source": [
    "s = {'Name':'OM', 'Age':20, 'City':'Pune'}"
   ]
  },
  {
   "cell_type": "code",
   "execution_count": 99,
   "id": "31dd18cc-1c3d-4b3a-913d-846efafc76b2",
   "metadata": {},
   "outputs": [
    {
     "data": {
      "text/plain": [
       "{'Name': 'OM', 'Age': 20, 'City': 'Pune'}"
      ]
     },
     "execution_count": 99,
     "metadata": {},
     "output_type": "execute_result"
    }
   ],
   "source": [
    "s"
   ]
  },
  {
   "cell_type": "code",
   "execution_count": 100,
   "id": "a2b324ee-ae0c-447a-bf00-efabf1f3c705",
   "metadata": {},
   "outputs": [
    {
     "data": {
      "text/plain": [
       "dict_keys(['Name', 'Age', 'City'])"
      ]
     },
     "execution_count": 100,
     "metadata": {},
     "output_type": "execute_result"
    }
   ],
   "source": [
    "s.keys()"
   ]
  },
  {
   "cell_type": "code",
   "execution_count": 101,
   "id": "69a5fd2d-e0a1-4a65-ab28-1e46aca59713",
   "metadata": {},
   "outputs": [
    {
     "data": {
      "text/plain": [
       "dict_values(['OM', 20, 'Pune'])"
      ]
     },
     "execution_count": 101,
     "metadata": {},
     "output_type": "execute_result"
    }
   ],
   "source": [
    "s.values()"
   ]
  },
  {
   "cell_type": "code",
   "execution_count": 102,
   "id": "8ee99280-0f96-440a-859b-402404728d9e",
   "metadata": {},
   "outputs": [
    {
     "data": {
      "text/plain": [
       "dict"
      ]
     },
     "execution_count": 102,
     "metadata": {},
     "output_type": "execute_result"
    }
   ],
   "source": [
    "type(s)"
   ]
  },
  {
   "cell_type": "raw",
   "id": "aaaf492a-68be-4602-badc-5117c56d6834",
   "metadata": {},
   "source": [
    "# Data Strectures\n",
    "List\n",
    "Tuple\n",
    "Set\n",
    "Dict"
   ]
  },
  {
   "cell_type": "raw",
   "id": "d5406d86-ca2f-460e-9bdd-5070ad8cd27d",
   "metadata": {},
   "source": [
    "# Data Types\n",
    "Int\n",
    "Float\n",
    "Complex\n",
    "String\n",
    "Boolean"
   ]
  }
 ],
 "metadata": {
  "kernelspec": {
   "display_name": "Python 3 (ipykernel)",
   "language": "python",
   "name": "python3"
  },
  "language_info": {
   "codemirror_mode": {
    "name": "ipython",
    "version": 3
   },
   "file_extension": ".py",
   "mimetype": "text/x-python",
   "name": "python",
   "nbconvert_exporter": "python",
   "pygments_lexer": "ipython3",
   "version": "3.11.7"
  }
 },
 "nbformat": 4,
 "nbformat_minor": 5
}
