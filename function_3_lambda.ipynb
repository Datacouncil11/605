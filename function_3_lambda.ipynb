{
 "cells": [
  {
   "cell_type": "code",
   "execution_count": 2,
   "id": "47e8cb90-cc8a-4ae2-81b2-c7f7f77d983a",
   "metadata": {},
   "outputs": [],
   "source": [
    "def square(a):\n",
    "    return a*a"
   ]
  },
  {
   "cell_type": "code",
   "execution_count": 4,
   "id": "f7909b27-2e72-4f42-97cd-1ddb0612a6e2",
   "metadata": {},
   "outputs": [
    {
     "data": {
      "text/plain": [
       "9"
      ]
     },
     "execution_count": 4,
     "metadata": {},
     "output_type": "execute_result"
    }
   ],
   "source": [
    "square(3)"
   ]
  },
  {
   "cell_type": "code",
   "execution_count": 5,
   "id": "5ac16432-aa67-4590-bb6d-c7d8bb22d810",
   "metadata": {},
   "outputs": [],
   "source": [
    "def sq(a):\n",
    "    return a ** 2"
   ]
  },
  {
   "cell_type": "code",
   "execution_count": 6,
   "id": "0ac2069f-8660-49e0-a20f-baf854d65e9d",
   "metadata": {},
   "outputs": [],
   "source": [
    "# Lambda Function"
   ]
  },
  {
   "cell_type": "code",
   "execution_count": 7,
   "id": "f50df3db-e389-4c41-b10a-bf88c3a901e8",
   "metadata": {},
   "outputs": [],
   "source": [
    "x = lambda a:a"
   ]
  },
  {
   "cell_type": "code",
   "execution_count": 9,
   "id": "d05a82e5-ff1f-4c11-bbb2-273ee008bed0",
   "metadata": {},
   "outputs": [
    {
     "data": {
      "text/plain": [
       "10"
      ]
     },
     "execution_count": 9,
     "metadata": {},
     "output_type": "execute_result"
    }
   ],
   "source": [
    "x(10)"
   ]
  },
  {
   "cell_type": "code",
   "execution_count": 10,
   "id": "ac4b2c21-8dd7-478d-9305-9e1064ac4abe",
   "metadata": {},
   "outputs": [],
   "source": [
    "x = lambda a : a * 2 # Left side input : Right side output"
   ]
  },
  {
   "cell_type": "code",
   "execution_count": 11,
   "id": "88d8b9ea-cad1-41c3-9d93-623ba24f5dd2",
   "metadata": {},
   "outputs": [
    {
     "data": {
      "text/plain": [
       "10"
      ]
     },
     "execution_count": 11,
     "metadata": {},
     "output_type": "execute_result"
    }
   ],
   "source": [
    "x(5)"
   ]
  },
  {
   "cell_type": "code",
   "execution_count": 12,
   "id": "519f955a-0f68-43c1-a8e1-8398dd4cb809",
   "metadata": {},
   "outputs": [],
   "source": [
    "square = lambda x : x ** 2"
   ]
  },
  {
   "cell_type": "code",
   "execution_count": 13,
   "id": "1b9c253a-b8bc-4ddf-93c8-31cea9985f58",
   "metadata": {},
   "outputs": [
    {
     "data": {
      "text/plain": [
       "25"
      ]
     },
     "execution_count": 13,
     "metadata": {},
     "output_type": "execute_result"
    }
   ],
   "source": [
    "square(5)"
   ]
  },
  {
   "cell_type": "code",
   "execution_count": 14,
   "id": "84d3234b-f457-4c4b-a877-268b73875353",
   "metadata": {},
   "outputs": [],
   "source": [
    "x = lambda *args : args"
   ]
  },
  {
   "cell_type": "code",
   "execution_count": 15,
   "id": "68b09d14-6e5c-487c-8c32-3c213e6c11d8",
   "metadata": {},
   "outputs": [
    {
     "data": {
      "text/plain": [
       "(10, 20, 'Data')"
      ]
     },
     "execution_count": 15,
     "metadata": {},
     "output_type": "execute_result"
    }
   ],
   "source": [
    "x(10,20,'Data')"
   ]
  },
  {
   "cell_type": "code",
   "execution_count": 16,
   "id": "be36be5a-cac5-4037-a269-523ffda07cb8",
   "metadata": {},
   "outputs": [],
   "source": [
    "y = lambda **kwargs : kwargs"
   ]
  },
  {
   "cell_type": "code",
   "execution_count": 17,
   "id": "b89f4daf-3e67-46f1-9d8f-c19a0138c151",
   "metadata": {},
   "outputs": [
    {
     "data": {
      "text/plain": [
       "{'a': 1, 'b': 2, 'c': 3, 'd': 4}"
      ]
     },
     "execution_count": 17,
     "metadata": {},
     "output_type": "execute_result"
    }
   ],
   "source": [
    "y(a=1,b=2,c=3,d=4)"
   ]
  },
  {
   "cell_type": "code",
   "execution_count": 18,
   "id": "fdcdff63-a55b-46fc-914b-4dc9a0a3c6f6",
   "metadata": {},
   "outputs": [],
   "source": [
    "# Lambda with multiple outputs"
   ]
  },
  {
   "cell_type": "code",
   "execution_count": 20,
   "id": "a050931a-7ec4-45b9-9bce-73696eef857d",
   "metadata": {},
   "outputs": [],
   "source": [
    "x = lambda a,b : (a+b, a*b)"
   ]
  },
  {
   "cell_type": "code",
   "execution_count": 21,
   "id": "cd109034-c0dd-42e9-9b7b-7640c46eb65e",
   "metadata": {},
   "outputs": [
    {
     "data": {
      "text/plain": [
       "(3, 2)"
      ]
     },
     "execution_count": 21,
     "metadata": {},
     "output_type": "execute_result"
    }
   ],
   "source": [
    "x(1,2)"
   ]
  },
  {
   "cell_type": "code",
   "execution_count": 22,
   "id": "75be21b1-4aab-4468-a3b7-c5609bc8bc4f",
   "metadata": {},
   "outputs": [],
   "source": [
    "# Iterate objects from dataset"
   ]
  },
  {
   "cell_type": "code",
   "execution_count": 24,
   "id": "e74e1ce1-6f0a-44af-b962-c2f7e977a8e5",
   "metadata": {},
   "outputs": [
    {
     "name": "stdout",
     "output_type": "stream",
     "text": [
      "1\n",
      "2\n",
      "3\n",
      "4\n",
      "5\n"
     ]
    }
   ],
   "source": [
    "for i in l:\n",
    "    print(i)"
   ]
  },
  {
   "cell_type": "code",
   "execution_count": 23,
   "id": "26763790-1d9e-4d09-ae78-c0d4c6ac6778",
   "metadata": {},
   "outputs": [],
   "source": [
    "l = [1,2,3,4,5]"
   ]
  },
  {
   "cell_type": "code",
   "execution_count": 25,
   "id": "b8b9f602-2084-4665-aaa9-f8e904a8e73d",
   "metadata": {},
   "outputs": [],
   "source": [
    "x = lambda a : (i for i in a)"
   ]
  },
  {
   "cell_type": "code",
   "execution_count": 26,
   "id": "8f6d8712-ac86-4659-9043-1b2e614f8869",
   "metadata": {},
   "outputs": [
    {
     "data": {
      "text/plain": [
       "<generator object <lambda>.<locals>.<genexpr> at 0x00000239029D0EE0>"
      ]
     },
     "execution_count": 26,
     "metadata": {},
     "output_type": "execute_result"
    }
   ],
   "source": [
    "x(l)"
   ]
  },
  {
   "cell_type": "code",
   "execution_count": 27,
   "id": "19b01baf-c5c1-443d-8e98-7f28d6a3696a",
   "metadata": {},
   "outputs": [],
   "source": [
    "x = lambda a : [i for i in a]"
   ]
  },
  {
   "cell_type": "code",
   "execution_count": 28,
   "id": "15316f5c-db5d-4252-a7ca-93bbd20e656e",
   "metadata": {},
   "outputs": [
    {
     "data": {
      "text/plain": [
       "[1, 2, 3, 4, 5]"
      ]
     },
     "execution_count": 28,
     "metadata": {},
     "output_type": "execute_result"
    }
   ],
   "source": [
    "x(l)"
   ]
  },
  {
   "cell_type": "code",
   "execution_count": 29,
   "id": "19672a98-4652-4261-8fdb-102cb957bce1",
   "metadata": {},
   "outputs": [],
   "source": [
    "x = lambda a : [i*2 for i in a]"
   ]
  },
  {
   "cell_type": "code",
   "execution_count": 30,
   "id": "30862e80-72ec-4f48-9dba-f87d11280bd5",
   "metadata": {},
   "outputs": [
    {
     "data": {
      "text/plain": [
       "[2, 4, 6, 8, 10]"
      ]
     },
     "execution_count": 30,
     "metadata": {},
     "output_type": "execute_result"
    }
   ],
   "source": [
    "x(l)"
   ]
  },
  {
   "cell_type": "code",
   "execution_count": 31,
   "id": "59557297-8353-4237-8686-41eb13b94b7f",
   "metadata": {},
   "outputs": [],
   "source": [
    "x = lambda *args : [i for i in args]"
   ]
  },
  {
   "cell_type": "code",
   "execution_count": 32,
   "id": "4ef40573-ca49-4bfa-a3db-fbce9f44ba0c",
   "metadata": {},
   "outputs": [
    {
     "data": {
      "text/plain": [
       "[1, 10, 'Data', True]"
      ]
     },
     "execution_count": 32,
     "metadata": {},
     "output_type": "execute_result"
    }
   ],
   "source": [
    "x(1,10,'Data', True)"
   ]
  },
  {
   "cell_type": "code",
   "execution_count": 33,
   "id": "6554afac-9c4b-4701-88e4-b589918d729a",
   "metadata": {},
   "outputs": [],
   "source": [
    "x = lambda *args : [i for i in args if type(i) == int]"
   ]
  },
  {
   "cell_type": "code",
   "execution_count": 34,
   "id": "e4d52d96-78ab-47c0-9392-27f5d67cc3ec",
   "metadata": {},
   "outputs": [
    {
     "data": {
      "text/plain": [
       "[1, 10]"
      ]
     },
     "execution_count": 34,
     "metadata": {},
     "output_type": "execute_result"
    }
   ],
   "source": [
    "x(1,10,'Data', True)"
   ]
  },
  {
   "cell_type": "code",
   "execution_count": 35,
   "id": "dee695d2-a696-410b-82b0-2f04c42c4de7",
   "metadata": {},
   "outputs": [],
   "source": [
    "x = lambda *args : [i for i in args if type(i) == list]"
   ]
  },
  {
   "cell_type": "code",
   "execution_count": 36,
   "id": "6bdb64c4-1680-4ce5-9523-1ed318b19d51",
   "metadata": {},
   "outputs": [
    {
     "data": {
      "text/plain": [
       "[[100, 200, 300]]"
      ]
     },
     "execution_count": 36,
     "metadata": {},
     "output_type": "execute_result"
    }
   ],
   "source": [
    "x((1,2,3,4), [100,200,300], 1,2,3,5)"
   ]
  },
  {
   "cell_type": "code",
   "execution_count": 37,
   "id": "b0da7758-6991-45e8-bb91-d94153a1c310",
   "metadata": {},
   "outputs": [
    {
     "data": {
      "text/plain": [
       "[1, 2, 3, 4, 5]"
      ]
     },
     "execution_count": 37,
     "metadata": {},
     "output_type": "execute_result"
    }
   ],
   "source": [
    "l"
   ]
  },
  {
   "cell_type": "code",
   "execution_count": 38,
   "id": "96b99f2a-a835-4fe8-a525-ca9c79f13c02",
   "metadata": {},
   "outputs": [
    {
     "data": {
      "text/plain": [
       "[1, 2, 3, 4, 5]"
      ]
     },
     "execution_count": 38,
     "metadata": {},
     "output_type": "execute_result"
    }
   ],
   "source": [
    "[i for i in l]"
   ]
  },
  {
   "cell_type": "code",
   "execution_count": 39,
   "id": "2e724aef-b409-4aa4-b1cb-e97cb4ce5145",
   "metadata": {},
   "outputs": [
    {
     "data": {
      "text/plain": [
       "[1, 2, 3, 4, 5]"
      ]
     },
     "execution_count": 39,
     "metadata": {},
     "output_type": "execute_result"
    }
   ],
   "source": [
    "[(i) for i in l]"
   ]
  },
  {
   "cell_type": "code",
   "execution_count": 40,
   "id": "b979e48e-7977-4067-a582-b614c0828b9d",
   "metadata": {},
   "outputs": [
    {
     "data": {
      "text/plain": [
       "[11, 12, 13, 14, 15]"
      ]
     },
     "execution_count": 40,
     "metadata": {},
     "output_type": "execute_result"
    }
   ],
   "source": [
    "[(i+10) for i in l]"
   ]
  },
  {
   "cell_type": "code",
   "execution_count": 41,
   "id": "d24411d7-9d9e-4d06-a374-04f265b04519",
   "metadata": {},
   "outputs": [
    {
     "name": "stdout",
     "output_type": "stream",
     "text": [
      "0\n",
      "1\n",
      "2\n",
      "3\n",
      "4\n"
     ]
    }
   ],
   "source": [
    "for i in range(5):\n",
    "    print(i)"
   ]
  },
  {
   "cell_type": "code",
   "execution_count": 44,
   "id": "e996cc59-3481-4538-b590-f970e5cae8d0",
   "metadata": {},
   "outputs": [
    {
     "data": {
      "text/plain": [
       "[0, 1, 2, 3, 4]"
      ]
     },
     "execution_count": 44,
     "metadata": {},
     "output_type": "execute_result"
    }
   ],
   "source": [
    "[(i) for i in range(5)]"
   ]
  },
  {
   "cell_type": "code",
   "execution_count": 45,
   "id": "fc0b451d-2f34-4817-956e-64de5566507c",
   "metadata": {},
   "outputs": [
    {
     "data": {
      "text/plain": [
       "[1, 2, 3, 4, 5, 6, 7, 8, 9, 10, 11, 12, 13, 14, 15, 16, 17, 18, 19, 20]"
      ]
     },
     "execution_count": 45,
     "metadata": {},
     "output_type": "execute_result"
    }
   ],
   "source": [
    "[(i) for i in range(1,21)]"
   ]
  },
  {
   "cell_type": "code",
   "execution_count": 46,
   "id": "b4828742-6235-4a2d-97a3-1fae36df1567",
   "metadata": {},
   "outputs": [
    {
     "data": {
      "text/plain": [
       "[1,\n",
       " 4,\n",
       " 9,\n",
       " 16,\n",
       " 25,\n",
       " 36,\n",
       " 49,\n",
       " 64,\n",
       " 81,\n",
       " 100,\n",
       " 121,\n",
       " 144,\n",
       " 169,\n",
       " 196,\n",
       " 225,\n",
       " 256,\n",
       " 289,\n",
       " 324,\n",
       " 361,\n",
       " 400]"
      ]
     },
     "execution_count": 46,
     "metadata": {},
     "output_type": "execute_result"
    }
   ],
   "source": [
    "[(i**2) for i in range(1,21)]"
   ]
  },
  {
   "cell_type": "code",
   "execution_count": 47,
   "id": "6695ea74-edaf-423b-b5e0-e4fdd8222d8d",
   "metadata": {},
   "outputs": [
    {
     "data": {
      "text/plain": [
       "[2, 4, 6, 8, 10, 12, 14, 16, 18, 20]"
      ]
     },
     "execution_count": 47,
     "metadata": {},
     "output_type": "execute_result"
    }
   ],
   "source": [
    "[i for i in range(1,21) if i %2 == 0]"
   ]
  },
  {
   "cell_type": "code",
   "execution_count": 48,
   "id": "40166537-7c5e-4247-bf63-922f912eea5a",
   "metadata": {},
   "outputs": [
    {
     "data": {
      "text/plain": [
       "[6, 7, 8, 9]"
      ]
     },
     "execution_count": 48,
     "metadata": {},
     "output_type": "execute_result"
    }
   ],
   "source": [
    "[i for i in range(1,10) if i > 5]"
   ]
  },
  {
   "cell_type": "code",
   "execution_count": 50,
   "id": "684d4e99-d752-496f-a996-65745ab99ef5",
   "metadata": {},
   "outputs": [
    {
     "data": {
      "text/plain": [
       "{1: 1, 2: 2, 3: 3, 4: 4, 5: 5}"
      ]
     },
     "execution_count": 50,
     "metadata": {},
     "output_type": "execute_result"
    }
   ],
   "source": [
    "{i:i for i in l}"
   ]
  },
  {
   "cell_type": "code",
   "execution_count": 51,
   "id": "bc156ff8-26a0-4257-9ec9-9f35e65bcd9f",
   "metadata": {},
   "outputs": [
    {
     "data": {
      "text/plain": [
       "{1: 1, 2: 4, 3: 9, 4: 16, 5: 25}"
      ]
     },
     "execution_count": 51,
     "metadata": {},
     "output_type": "execute_result"
    }
   ],
   "source": [
    "{i:i**2 for i in l}"
   ]
  },
  {
   "cell_type": "code",
   "execution_count": 52,
   "id": "3a138adf-f1f5-43d7-9dfd-c5bc236d13c0",
   "metadata": {},
   "outputs": [
    {
     "data": {
      "text/plain": [
       "'DATA'"
      ]
     },
     "execution_count": 52,
     "metadata": {},
     "output_type": "execute_result"
    }
   ],
   "source": [
    "'data'.upper()"
   ]
  },
  {
   "cell_type": "code",
   "execution_count": 53,
   "id": "86b9460b-4f3d-4f1c-b9c8-99f202d32cff",
   "metadata": {},
   "outputs": [
    {
     "data": {
      "text/plain": [
       "True"
      ]
     },
     "execution_count": 53,
     "metadata": {},
     "output_type": "execute_result"
    }
   ],
   "source": [
    "'data'.islower()"
   ]
  },
  {
   "cell_type": "code",
   "execution_count": 54,
   "id": "6d993dd6-7d3e-4421-87ae-517658cbb415",
   "metadata": {},
   "outputs": [],
   "source": [
    "x = 'Data'"
   ]
  },
  {
   "cell_type": "code",
   "execution_count": 55,
   "id": "4f929437-0022-4948-a283-44d4ebce422e",
   "metadata": {},
   "outputs": [
    {
     "data": {
      "text/plain": [
       "'Data'"
      ]
     },
     "execution_count": 55,
     "metadata": {},
     "output_type": "execute_result"
    }
   ],
   "source": [
    "x.capitalize()"
   ]
  },
  {
   "cell_type": "code",
   "execution_count": 56,
   "id": "9b5022b0-d330-4683-82cb-a09ddc4e6eb3",
   "metadata": {},
   "outputs": [
    {
     "data": {
      "text/plain": [
       "'Data'"
      ]
     },
     "execution_count": 56,
     "metadata": {},
     "output_type": "execute_result"
    }
   ],
   "source": [
    "'data'.capitalize()"
   ]
  },
  {
   "cell_type": "code",
   "execution_count": 64,
   "id": "95677e5c-3469-483e-a3cb-3b30162912b7",
   "metadata": {},
   "outputs": [
    {
     "data": {
      "text/plain": [
       "False"
      ]
     },
     "execution_count": 64,
     "metadata": {},
     "output_type": "execute_result"
    }
   ],
   "source": [
    "'Data'.isdigit()"
   ]
  },
  {
   "cell_type": "code",
   "execution_count": 65,
   "id": "1fcaec56-aa62-45a7-86d3-3b8d251ff26e",
   "metadata": {},
   "outputs": [
    {
     "data": {
      "text/plain": [
       "True"
      ]
     },
     "execution_count": 65,
     "metadata": {},
     "output_type": "execute_result"
    }
   ],
   "source": [
    "'10'.isdigit()"
   ]
  },
  {
   "cell_type": "code",
   "execution_count": 66,
   "id": "02ca1ccd-acd0-4cd0-802e-39539170ba81",
   "metadata": {},
   "outputs": [
    {
     "data": {
      "text/plain": [
       "'Data'"
      ]
     },
     "execution_count": 66,
     "metadata": {},
     "output_type": "execute_result"
    }
   ],
   "source": [
    "'dATA'.capitalize()"
   ]
  },
  {
   "cell_type": "code",
   "execution_count": 70,
   "id": "6f8a93ee-e169-4c58-a10d-05029bf5984d",
   "metadata": {},
   "outputs": [
    {
     "data": {
      "text/plain": [
       "True"
      ]
     },
     "execution_count": 70,
     "metadata": {},
     "output_type": "execute_result"
    }
   ],
   "source": [
    "'10'.isdecimal()"
   ]
  },
  {
   "cell_type": "code",
   "execution_count": 71,
   "id": "4e89333c-111e-47d3-9353-28564bff2db5",
   "metadata": {},
   "outputs": [
    {
     "data": {
      "text/plain": [
       "False"
      ]
     },
     "execution_count": 71,
     "metadata": {},
     "output_type": "execute_result"
    }
   ],
   "source": [
    "'10.5'.isdecimal()"
   ]
  },
  {
   "cell_type": "code",
   "execution_count": 74,
   "id": "d5f8bba5-377d-4f2a-8390-e1b8075b2d22",
   "metadata": {},
   "outputs": [],
   "source": [
    "x = '1.5'"
   ]
  },
  {
   "cell_type": "code",
   "execution_count": 75,
   "id": "2c5bf773-4356-414e-b15d-437bcfa442e6",
   "metadata": {},
   "outputs": [
    {
     "data": {
      "text/plain": [
       "False"
      ]
     },
     "execution_count": 75,
     "metadata": {},
     "output_type": "execute_result"
    }
   ],
   "source": [
    "'1.5'.isdigit()"
   ]
  },
  {
   "cell_type": "code",
   "execution_count": 76,
   "id": "32478cd2-3f07-4a32-b84d-53ec9eaeb6b1",
   "metadata": {},
   "outputs": [
    {
     "data": {
      "text/plain": [
       "False"
      ]
     },
     "execution_count": 76,
     "metadata": {},
     "output_type": "execute_result"
    }
   ],
   "source": [
    "x.isdecimal()"
   ]
  },
  {
   "cell_type": "code",
   "execution_count": 77,
   "id": "8ff6fa36-3d4c-41d4-ad92-3c1bd1e335d5",
   "metadata": {},
   "outputs": [
    {
     "data": {
      "text/plain": [
       "True"
      ]
     },
     "execution_count": 77,
     "metadata": {},
     "output_type": "execute_result"
    }
   ],
   "source": [
    "'Data'.istitle()"
   ]
  },
  {
   "cell_type": "code",
   "execution_count": 78,
   "id": "82ea7550-3287-4d22-a83e-b26473d62ce3",
   "metadata": {},
   "outputs": [
    {
     "data": {
      "text/plain": [
       "False"
      ]
     },
     "execution_count": 78,
     "metadata": {},
     "output_type": "execute_result"
    }
   ],
   "source": [
    "'data'.istitle()"
   ]
  },
  {
   "cell_type": "code",
   "execution_count": 80,
   "id": "bd89f8cf-8acc-4cb7-a345-92b85ae2ca91",
   "metadata": {},
   "outputs": [],
   "source": [
    "x = lambda a: a.upper()"
   ]
  },
  {
   "cell_type": "code",
   "execution_count": 81,
   "id": "ec62204a-c757-4800-85e8-18594288c54f",
   "metadata": {},
   "outputs": [
    {
     "data": {
      "text/plain": [
       "'DATA'"
      ]
     },
     "execution_count": 81,
     "metadata": {},
     "output_type": "execute_result"
    }
   ],
   "source": [
    "x('dATA')"
   ]
  },
  {
   "cell_type": "code",
   "execution_count": null,
   "id": "10910b8e-a8bd-486f-b8a3-06beb6e15d67",
   "metadata": {},
   "outputs": [],
   "source": [
    "a = 'dATA'\n",
    "if a == a.upper():\n",
    "    print(a)"
   ]
  }
 ],
 "metadata": {
  "kernelspec": {
   "display_name": "Python 3 (ipykernel)",
   "language": "python",
   "name": "python3"
  },
  "language_info": {
   "codemirror_mode": {
    "name": "ipython",
    "version": 3
   },
   "file_extension": ".py",
   "mimetype": "text/x-python",
   "name": "python",
   "nbconvert_exporter": "python",
   "pygments_lexer": "ipython3",
   "version": "3.11.7"
  }
 },
 "nbformat": 4,
 "nbformat_minor": 5
}
