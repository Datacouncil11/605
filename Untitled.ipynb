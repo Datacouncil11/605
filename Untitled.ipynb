{
 "cells": [
  {
   "cell_type": "code",
   "execution_count": 1,
   "id": "c6921804-aa85-44be-b644-09065ae1254b",
   "metadata": {},
   "outputs": [
    {
     "ename": "TypeError",
     "evalue": "'int' object is not iterable",
     "output_type": "error",
     "traceback": [
      "\u001b[1;31m---------------------------------------------------------------------------\u001b[0m",
      "\u001b[1;31mTypeError\u001b[0m                                 Traceback (most recent call last)",
      "Cell \u001b[1;32mIn[1], line 1\u001b[0m\n\u001b[1;32m----> 1\u001b[0m \u001b[38;5;28msum\u001b[39m(\u001b[38;5;241m1\u001b[39m,\u001b[38;5;241m2\u001b[39m)\n",
      "\u001b[1;31mTypeError\u001b[0m: 'int' object is not iterable"
     ]
    }
   ],
   "source": [
    "sum(1,2)"
   ]
  },
  {
   "cell_type": "code",
   "execution_count": 2,
   "id": "ed5f2223-9f3f-43a2-ad78-3334d102dc73",
   "metadata": {},
   "outputs": [
    {
     "ename": "TypeError",
     "evalue": "len() takes exactly one argument (0 given)",
     "output_type": "error",
     "traceback": [
      "\u001b[1;31m---------------------------------------------------------------------------\u001b[0m",
      "\u001b[1;31mTypeError\u001b[0m                                 Traceback (most recent call last)",
      "Cell \u001b[1;32mIn[2], line 1\u001b[0m\n\u001b[1;32m----> 1\u001b[0m \u001b[38;5;28mlen\u001b[39m()\n",
      "\u001b[1;31mTypeError\u001b[0m: len() takes exactly one argument (0 given)"
     ]
    }
   ],
   "source": [
    "len()\n",
    "print()\n",
    "list()"
   ]
  },
  {
   "cell_type": "code",
   "execution_count": 3,
   "id": "aff118e2-ad40-4fc9-b010-2a6cb6e73fb4",
   "metadata": {},
   "outputs": [
    {
     "name": "stdout",
     "output_type": "stream",
     "text": [
      " Volume in drive C has no label.\n",
      " Volume Serial Number is B294-EB73\n",
      "\n",
      " Directory of C:\\Users\\Admin\\Downloads\\605\\Python\\Modules&Packages\n",
      "\n",
      "09/04/2024  05:43 PM    <DIR>          .\n",
      "09/04/2024  05:43 PM    <DIR>          ..\n",
      "09/04/2024  05:35 PM    <DIR>          .ipynb_checkpoints\n",
      "09/04/2024  05:42 PM               143 arethematic_functions.py\n",
      "09/04/2024  05:37 PM             1,173 modules.ipynb\n",
      "09/04/2024  05:43 PM                61 New Text Document.txt\n",
      "09/04/2024  05:43 PM                61 sum_square.py\n",
      "09/04/2024  05:37 PM             2,166 Untitled.ipynb\n",
      "               5 File(s)          3,604 bytes\n",
      "               3 Dir(s)   6,059,720,704 bytes free\n"
     ]
    }
   ],
   "source": [
    "ls"
   ]
  },
  {
   "cell_type": "code",
   "execution_count": 4,
   "id": "2bae6c74-bad9-4236-aec9-a6abcea0ba74",
   "metadata": {},
   "outputs": [],
   "source": [
    "import sum_square"
   ]
  },
  {
   "cell_type": "code",
   "execution_count": 5,
   "id": "b0afeabe-e049-48c3-b13c-667a13da07ad",
   "metadata": {},
   "outputs": [
    {
     "data": {
      "text/plain": [
       "12"
      ]
     },
     "execution_count": 5,
     "metadata": {},
     "output_type": "execute_result"
    }
   ],
   "source": [
    "sum_square.add(10,2)"
   ]
  },
  {
   "cell_type": "code",
   "execution_count": 6,
   "id": "824c76e4-b21b-4bc5-89eb-177c79300cd9",
   "metadata": {},
   "outputs": [
    {
     "data": {
      "text/plain": [
       "9"
      ]
     },
     "execution_count": 6,
     "metadata": {},
     "output_type": "execute_result"
    }
   ],
   "source": [
    "sum_square.square(3)"
   ]
  },
  {
   "cell_type": "code",
   "execution_count": null,
   "id": "3d47ab43-c6ca-47c5-93aa-7a41e3594b49",
   "metadata": {},
   "outputs": [],
   "source": []
  }
 ],
 "metadata": {
  "kernelspec": {
   "display_name": "Python 3 (ipykernel)",
   "language": "python",
   "name": "python3"
  },
  "language_info": {
   "codemirror_mode": {
    "name": "ipython",
    "version": 3
   },
   "file_extension": ".py",
   "mimetype": "text/x-python",
   "name": "python",
   "nbconvert_exporter": "python",
   "pygments_lexer": "ipython3",
   "version": "3.11.7"
  }
 },
 "nbformat": 4,
 "nbformat_minor": 5
}
