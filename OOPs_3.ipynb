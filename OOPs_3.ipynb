{
 "cells": [
  {
   "cell_type": "code",
   "execution_count": 1,
   "id": "42c9819b-d31d-4f2f-bf3b-c52c23a398b3",
   "metadata": {},
   "outputs": [],
   "source": [
    "class test1():\n",
    "    def area(a):\n",
    "        return a * a"
   ]
  },
  {
   "cell_type": "code",
   "execution_count": 2,
   "id": "7ca742a1-6709-4872-a9a0-f725641f90be",
   "metadata": {},
   "outputs": [],
   "source": [
    "x = test1()"
   ]
  },
  {
   "cell_type": "code",
   "execution_count": 5,
   "id": "583960ce-12e4-4d55-a79d-e2c8184ae8d3",
   "metadata": {},
   "outputs": [
    {
     "ename": "TypeError",
     "evalue": "test1.area() takes 1 positional argument but 2 were given",
     "output_type": "error",
     "traceback": [
      "\u001b[1;31m---------------------------------------------------------------------------\u001b[0m",
      "\u001b[1;31mTypeError\u001b[0m                                 Traceback (most recent call last)",
      "Cell \u001b[1;32mIn[5], line 1\u001b[0m\n\u001b[1;32m----> 1\u001b[0m x\u001b[38;5;241m.\u001b[39marea(\u001b[38;5;241m5\u001b[39m)\n",
      "\u001b[1;31mTypeError\u001b[0m: test1.area() takes 1 positional argument but 2 were given"
     ]
    }
   ],
   "source": [
    "x.area(5)"
   ]
  },
  {
   "cell_type": "code",
   "execution_count": 9,
   "id": "7b1b7c5e-8021-438a-9d55-067192ac46a8",
   "metadata": {},
   "outputs": [],
   "source": [
    "class test1():\n",
    "    def area(self):\n",
    "        return 10 * 10"
   ]
  },
  {
   "cell_type": "code",
   "execution_count": 10,
   "id": "21bb0bc0-5bf0-4dbb-8468-4cb467d05a93",
   "metadata": {},
   "outputs": [],
   "source": [
    "y = test1()"
   ]
  },
  {
   "cell_type": "code",
   "execution_count": 11,
   "id": "356c4a23-4fee-4b30-af41-551cef8a7910",
   "metadata": {},
   "outputs": [
    {
     "data": {
      "text/plain": [
       "100"
      ]
     },
     "execution_count": 11,
     "metadata": {},
     "output_type": "execute_result"
    }
   ],
   "source": [
    "y.area()"
   ]
  },
  {
   "cell_type": "code",
   "execution_count": 12,
   "id": "4247552b-53c5-4df2-b278-4fb58bcf73da",
   "metadata": {},
   "outputs": [],
   "source": [
    "# Class --> Parent class --> Properies to --> Child class"
   ]
  },
  {
   "cell_type": "code",
   "execution_count": 13,
   "id": "d3bec31d-3426-42e3-9953-65c78135683f",
   "metadata": {},
   "outputs": [],
   "source": [
    "class king:\n",
    "    def __init__(self, name, age, war_win, total_war):\n",
    "        self.name = name\n",
    "        self.age = age\n",
    "        self.war_win = war_win\n",
    "        self.total_war = total_war\n",
    "    def win_score(self):\n",
    "        return (self.war_win/self.total_war) * 100\n",
    "class prince(king):\n",
    "    def prince_skills(self):\n",
    "        return \" prince is well in horse riding\""
   ]
  },
  {
   "cell_type": "code",
   "execution_count": 14,
   "id": "4201421a-fbdd-48be-bc2f-9a80ccf6d670",
   "metadata": {},
   "outputs": [],
   "source": [
    "k = king(\"Rock\", 54, 76, 100)"
   ]
  },
  {
   "cell_type": "code",
   "execution_count": 15,
   "id": "6faec287-475a-433d-b6e1-bff4553ce920",
   "metadata": {},
   "outputs": [
    {
     "data": {
      "text/plain": [
       "76.0"
      ]
     },
     "execution_count": 15,
     "metadata": {},
     "output_type": "execute_result"
    }
   ],
   "source": [
    "k.win_score()"
   ]
  },
  {
   "cell_type": "code",
   "execution_count": 19,
   "id": "65dcda2b-aaa1-40de-9b19-78241c4d1719",
   "metadata": {},
   "outputs": [
    {
     "data": {
      "text/plain": [
       "54"
      ]
     },
     "execution_count": 19,
     "metadata": {},
     "output_type": "execute_result"
    }
   ],
   "source": [
    "k.age"
   ]
  },
  {
   "cell_type": "code",
   "execution_count": 20,
   "id": "b4e84c39-911e-471e-978f-4ab506d59c7e",
   "metadata": {},
   "outputs": [],
   "source": [
    "k.age = 89"
   ]
  },
  {
   "cell_type": "code",
   "execution_count": 21,
   "id": "d3df8b27-a4a9-4cbc-9d74-684be9ff70f4",
   "metadata": {},
   "outputs": [
    {
     "data": {
      "text/plain": [
       "89"
      ]
     },
     "execution_count": 21,
     "metadata": {},
     "output_type": "execute_result"
    }
   ],
   "source": [
    "k.age"
   ]
  },
  {
   "cell_type": "code",
   "execution_count": 22,
   "id": "517d21be-acda-4b93-abb0-885768b6fa99",
   "metadata": {},
   "outputs": [],
   "source": [
    "k.name = 'Alex'"
   ]
  },
  {
   "cell_type": "code",
   "execution_count": 23,
   "id": "7c49fd2a-6fd7-44bf-9811-e080fe804f11",
   "metadata": {},
   "outputs": [
    {
     "data": {
      "text/plain": [
       "'Alex'"
      ]
     },
     "execution_count": 23,
     "metadata": {},
     "output_type": "execute_result"
    }
   ],
   "source": [
    "k.name"
   ]
  },
  {
   "cell_type": "code",
   "execution_count": 16,
   "id": "5415143c-daf0-4ba1-bc9a-ad214df2de95",
   "metadata": {},
   "outputs": [],
   "source": [
    "p = prince(\"Rock\", 54, 76, 100)"
   ]
  },
  {
   "cell_type": "code",
   "execution_count": 17,
   "id": "52b39ed1-fa61-45e3-bd06-04c63e7d96cc",
   "metadata": {},
   "outputs": [
    {
     "data": {
      "text/plain": [
       "' prince is well in horse riding'"
      ]
     },
     "execution_count": 17,
     "metadata": {},
     "output_type": "execute_result"
    }
   ],
   "source": [
    "p.prince_skills()"
   ]
  },
  {
   "cell_type": "code",
   "execution_count": 18,
   "id": "89e00f46-1924-4d94-8ea9-9b4aa90a6574",
   "metadata": {},
   "outputs": [
    {
     "data": {
      "text/plain": [
       "76.0"
      ]
     },
     "execution_count": 18,
     "metadata": {},
     "output_type": "execute_result"
    }
   ],
   "source": [
    "p.win_score()"
   ]
  },
  {
   "cell_type": "code",
   "execution_count": 24,
   "id": "b8252401-ddf1-403c-a486-fb96c86f7b94",
   "metadata": {},
   "outputs": [],
   "source": [
    "# Polymorphism"
   ]
  },
  {
   "cell_type": "code",
   "execution_count": 25,
   "id": "e638309a-7ff4-4d66-a45e-43a5b203d9d3",
   "metadata": {},
   "outputs": [],
   "source": [
    "class Dog:\n",
    "    def sound(self):\n",
    "        return \"Meow Meow\""
   ]
  },
  {
   "cell_type": "code",
   "execution_count": 26,
   "id": "874c111c-c274-4777-89c0-2c0ead39dac5",
   "metadata": {},
   "outputs": [],
   "source": [
    "# Actionable function"
   ]
  },
  {
   "cell_type": "code",
   "execution_count": 27,
   "id": "1b84dfc4-62be-4aa5-8720-27d8cf03a0aa",
   "metadata": {},
   "outputs": [],
   "source": [
    "def animal_sound(animal):\n",
    "    print(animal.sound())"
   ]
  },
  {
   "cell_type": "code",
   "execution_count": 30,
   "id": "e7d8de75-dd01-4b0a-9eea-3b10a7c54764",
   "metadata": {},
   "outputs": [
    {
     "name": "stdout",
     "output_type": "stream",
     "text": [
      "Bhauuuuuu bhauuuuu\n"
     ]
    }
   ],
   "source": [
    "animal_sound(Dog())"
   ]
  },
  {
   "cell_type": "code",
   "execution_count": 32,
   "id": "78cf3a91-1c27-4c4a-8543-89378bc0c436",
   "metadata": {},
   "outputs": [
    {
     "name": "stdout",
     "output_type": "stream",
     "text": [
      "Meow Meow\n"
     ]
    }
   ],
   "source": [
    "animal_sound(Cat())"
   ]
  },
  {
   "cell_type": "code",
   "execution_count": 35,
   "id": "fbe12906-26c8-4c53-a21d-df5aa1e89b26",
   "metadata": {},
   "outputs": [],
   "source": [
    "class Social_media:\n",
    "    def share_story(self):\n",
    "        return \"Story is shared on Social Media\"\n",
    "class Facebook:\n",
    "    def share_story(self):\n",
    "        return  \"Story is shared on Facebook\"\n",
    "class Instagram:\n",
    "    def share_story(self):\n",
    "        return  \"Story is shared on Instagram\""
   ]
  },
  {
   "cell_type": "code",
   "execution_count": 36,
   "id": "9efb057e-7616-405e-a94a-05747bb50547",
   "metadata": {},
   "outputs": [],
   "source": [
    "# Abstractmethod"
   ]
  },
  {
   "cell_type": "code",
   "execution_count": 37,
   "id": "2b7c7603-f145-4d8e-8cd5-4a6115f9e5ea",
   "metadata": {},
   "outputs": [],
   "source": [
    "from abc import ABC, abstractmethod"
   ]
  },
  {
   "cell_type": "code",
   "execution_count": 38,
   "id": "febb73b7-f96b-4da3-af21-165e21f05f50",
   "metadata": {},
   "outputs": [],
   "source": [
    "class Animal(ABC):\n",
    "    @abstractmethod\n",
    "    def sound(self):\n",
    "        pass # Abstract method\n",
    "class Dog(Animal):\n",
    "    def sound(self):\n",
    "        return 'Bhauuu Bhauuu'"
   ]
  },
  {
   "cell_type": "code",
   "execution_count": 39,
   "id": "1937340b-118c-4094-a666-1b7f3e55c4f9",
   "metadata": {},
   "outputs": [],
   "source": [
    "tommy = Dog()"
   ]
  },
  {
   "cell_type": "code",
   "execution_count": 40,
   "id": "4c9e7a42-4204-415e-9b16-0c1147793cf7",
   "metadata": {},
   "outputs": [
    {
     "data": {
      "text/plain": [
       "'Bhauuu Bhauuu'"
      ]
     },
     "execution_count": 40,
     "metadata": {},
     "output_type": "execute_result"
    }
   ],
   "source": [
    "tommy.sound()"
   ]
  },
  {
   "cell_type": "code",
   "execution_count": null,
   "id": "20acb781-e539-42b3-9d39-6b93d853a366",
   "metadata": {},
   "outputs": [],
   "source": []
  }
 ],
 "metadata": {
  "kernelspec": {
   "display_name": "Python 3 (ipykernel)",
   "language": "python",
   "name": "python3"
  },
  "language_info": {
   "codemirror_mode": {
    "name": "ipython",
    "version": 3
   },
   "file_extension": ".py",
   "mimetype": "text/x-python",
   "name": "python",
   "nbconvert_exporter": "python",
   "pygments_lexer": "ipython3",
   "version": "3.11.7"
  }
 },
 "nbformat": 4,
 "nbformat_minor": 5
}
