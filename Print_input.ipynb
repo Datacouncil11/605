{
 "cells": [
  {
   "cell_type": "code",
   "execution_count": 2,
   "id": "766ffee1-1c6c-45a3-bc68-9306deae3ac6",
   "metadata": {},
   "outputs": [
    {
     "name": "stdin",
     "output_type": "stream",
     "text": [
      "Enter Your Name 10\n"
     ]
    },
    {
     "name": "stdout",
     "output_type": "stream",
     "text": [
      "My name is 10\n"
     ]
    }
   ],
   "source": [
    "a = input('Enter Your Name')\n",
    "print('My name is '+ a)"
   ]
  },
  {
   "cell_type": "code",
   "execution_count": 3,
   "id": "956802f2-3441-4f7d-8e4a-8e30a92f1dc2",
   "metadata": {},
   "outputs": [
    {
     "name": "stdin",
     "output_type": "stream",
     "text": [
      "Enter yoour birth year 1988\n"
     ]
    },
    {
     "name": "stdout",
     "output_type": "stream",
     "text": [
      "Your Birth Year is: 1988\n"
     ]
    }
   ],
   "source": [
    "birth_year = int(input('Enter yoour birth year'))\n",
    "print('Your Birth Year is:',birth_year)"
   ]
  },
  {
   "cell_type": "code",
   "execution_count": 5,
   "id": "a5d80b55-b4f4-4b74-9629-3e89f74af115",
   "metadata": {},
   "outputs": [
    {
     "name": "stdin",
     "output_type": "stream",
     "text": [
      "Enter your marks out of 100 67\n"
     ]
    },
    {
     "name": "stdout",
     "output_type": "stream",
     "text": [
      "I got  67.0 Percentage\n"
     ]
    }
   ],
   "source": [
    "marks = int(input('Enter your marks out of 100'))\n",
    "print('I got ',marks/100 * 100, 'Percentage')"
   ]
  },
  {
   "cell_type": "code",
   "execution_count": 6,
   "id": "b72b8002-3638-4cb6-a9e9-65e142b07d0a",
   "metadata": {},
   "outputs": [
    {
     "name": "stdin",
     "output_type": "stream",
     "text": [
      "First name Om\n",
      "Last Name Dixit\n"
     ]
    },
    {
     "name": "stdout",
     "output_type": "stream",
     "text": [
      "Your Full name is OmDixit\n"
     ]
    }
   ],
   "source": [
    "first_name = input('First name')\n",
    "last_name = input('Last Name')\n",
    "print('Your Full name is '+ first_name + last_name )"
   ]
  },
  {
   "cell_type": "code",
   "execution_count": 7,
   "id": "31fbac87-234d-482b-a2cf-96963929d9ef",
   "metadata": {},
   "outputs": [
    {
     "name": "stdin",
     "output_type": "stream",
     "text": [
      "First name Om\n",
      "Last Name Dixit\n"
     ]
    },
    {
     "name": "stdout",
     "output_type": "stream",
     "text": [
      "Your Full name is Om Dixit\n"
     ]
    }
   ],
   "source": [
    "first_name = input('First name')\n",
    "last_name = input('Last Name')\n",
    "print('Your Full name is '+ first_name+ ' ' + last_name )"
   ]
  },
  {
   "cell_type": "code",
   "execution_count": 8,
   "id": "7b52934b-800c-4483-abc6-152a2d49d065",
   "metadata": {},
   "outputs": [],
   "source": [
    "a = 'Data'"
   ]
  },
  {
   "cell_type": "code",
   "execution_count": 9,
   "id": "995629e5-26ee-4e66-8d0f-7d29f01c4a22",
   "metadata": {},
   "outputs": [
    {
     "data": {
      "text/plain": [
       "4"
      ]
     },
     "execution_count": 9,
     "metadata": {},
     "output_type": "execute_result"
    }
   ],
   "source": [
    "len(a)"
   ]
  },
  {
   "cell_type": "code",
   "execution_count": 10,
   "id": "48b93b78-b337-4eba-a1cd-64ea6b955384",
   "metadata": {},
   "outputs": [
    {
     "data": {
      "text/plain": [
       "7"
      ]
     },
     "execution_count": 10,
     "metadata": {},
     "output_type": "execute_result"
    }
   ],
   "source": [
    "len('Science')"
   ]
  },
  {
   "cell_type": "code",
   "execution_count": 11,
   "id": "3c33883a-1cc0-4440-96d0-7ac761c32aa3",
   "metadata": {},
   "outputs": [],
   "source": [
    "# Data Strectures"
   ]
  },
  {
   "cell_type": "markdown",
   "id": "7f79df06-090d-4328-8d0b-718cbd456ccf",
   "metadata": {},
   "source": [
    "# List"
   ]
  },
  {
   "cell_type": "raw",
   "id": "3afd8b22-a036-44b9-bb89-4152f54c55e7",
   "metadata": {},
   "source": [
    "1.List is written in square Bracket\n",
    "2.We can change the list(Mutable)"
   ]
  },
  {
   "cell_type": "code",
   "execution_count": 12,
   "id": "472bbb3c-6589-4b97-b7d8-c40ee76ab00d",
   "metadata": {},
   "outputs": [],
   "source": [
    "a = [1,2,3]"
   ]
  },
  {
   "cell_type": "code",
   "execution_count": 13,
   "id": "c63d68fe-f121-4a31-8266-9fd249ec8d15",
   "metadata": {},
   "outputs": [
    {
     "data": {
      "text/plain": [
       "list"
      ]
     },
     "execution_count": 13,
     "metadata": {},
     "output_type": "execute_result"
    }
   ],
   "source": [
    "type(a)"
   ]
  },
  {
   "cell_type": "code",
   "execution_count": 14,
   "id": "668482a5-2302-43a5-a385-707e64661c61",
   "metadata": {},
   "outputs": [],
   "source": [
    "mix_data = [1,1.5,10+5j,'Data',True]"
   ]
  },
  {
   "cell_type": "code",
   "execution_count": 15,
   "id": "e0071fc4-18e7-4fd3-a5d9-98e27cef0b99",
   "metadata": {},
   "outputs": [
    {
     "name": "stdout",
     "output_type": "stream",
     "text": [
      "[1, 1.5, (10+5j), 'Data', True]\n"
     ]
    }
   ],
   "source": [
    "print(mix_data)"
   ]
  },
  {
   "cell_type": "code",
   "execution_count": 16,
   "id": "a5dac2f7-3e00-4cbd-b84e-fa4ebd53be86",
   "metadata": {},
   "outputs": [
    {
     "data": {
      "text/plain": [
       "5"
      ]
     },
     "execution_count": 16,
     "metadata": {},
     "output_type": "execute_result"
    }
   ],
   "source": [
    "len(mix_data)"
   ]
  },
  {
   "cell_type": "code",
   "execution_count": 17,
   "id": "59892881-1e4a-4da3-92a4-7cb6a1c3e71d",
   "metadata": {},
   "outputs": [],
   "source": [
    "int_data = [1,2,3,4,5]"
   ]
  },
  {
   "cell_type": "code",
   "execution_count": 18,
   "id": "c66b9679-ce8e-42c8-9307-69477efbc4a8",
   "metadata": {},
   "outputs": [
    {
     "data": {
      "text/plain": [
       "[1, 2, 3, 4, 5]"
      ]
     },
     "execution_count": 18,
     "metadata": {},
     "output_type": "execute_result"
    }
   ],
   "source": [
    "int_data"
   ]
  },
  {
   "cell_type": "code",
   "execution_count": 19,
   "id": "99e15af1-53dd-4734-8b9c-8df38a72ff0c",
   "metadata": {},
   "outputs": [
    {
     "data": {
      "text/plain": [
       "list"
      ]
     },
     "execution_count": 19,
     "metadata": {},
     "output_type": "execute_result"
    }
   ],
   "source": [
    "type(int_data)"
   ]
  },
  {
   "cell_type": "code",
   "execution_count": 20,
   "id": "7a81d432-7c70-45cd-8a1e-70d99ec3205d",
   "metadata": {},
   "outputs": [
    {
     "data": {
      "text/plain": [
       "[1, 2, 3, 4, 5]"
      ]
     },
     "execution_count": 20,
     "metadata": {},
     "output_type": "execute_result"
    }
   ],
   "source": [
    "int_data"
   ]
  },
  {
   "cell_type": "code",
   "execution_count": 21,
   "id": "1b5ecec8-04eb-48a6-9a27-bd1e89e672b4",
   "metadata": {},
   "outputs": [
    {
     "data": {
      "text/plain": [
       "1"
      ]
     },
     "execution_count": 21,
     "metadata": {},
     "output_type": "execute_result"
    }
   ],
   "source": [
    "int_data[0]"
   ]
  },
  {
   "cell_type": "code",
   "execution_count": 38,
   "id": "ffec6bc3-03c4-47a6-9d4e-0f9305f26c35",
   "metadata": {},
   "outputs": [],
   "source": [
    "int_data[1] = 200"
   ]
  },
  {
   "cell_type": "code",
   "execution_count": 39,
   "id": "c1b1e5b7-2a15-481c-ad71-d03642aed73f",
   "metadata": {},
   "outputs": [
    {
     "data": {
      "text/plain": [
       "[1, 200, 3, 4, 5]"
      ]
     },
     "execution_count": 39,
     "metadata": {},
     "output_type": "execute_result"
    }
   ],
   "source": [
    "int_data"
   ]
  },
  {
   "cell_type": "code",
   "execution_count": 22,
   "id": "e74d9029-7ef2-4393-bfe8-8b268c4f3961",
   "metadata": {},
   "outputs": [
    {
     "data": {
      "text/plain": [
       "4"
      ]
     },
     "execution_count": 22,
     "metadata": {},
     "output_type": "execute_result"
    }
   ],
   "source": [
    "int_data[3]"
   ]
  },
  {
   "cell_type": "code",
   "execution_count": 23,
   "id": "fa5714d1-02b3-40a9-a557-5733fb829b13",
   "metadata": {},
   "outputs": [
    {
     "data": {
      "text/plain": [
       "3"
      ]
     },
     "execution_count": 23,
     "metadata": {},
     "output_type": "execute_result"
    }
   ],
   "source": [
    "int_data[2]"
   ]
  },
  {
   "cell_type": "code",
   "execution_count": 24,
   "id": "87fc8d43-5edc-4584-9110-5cf9063c8d7b",
   "metadata": {},
   "outputs": [],
   "source": [
    "a = [1,2,3,4,5,6,7,8]"
   ]
  },
  {
   "cell_type": "code",
   "execution_count": 25,
   "id": "dc4bf55a-ad2d-469b-a877-5985cf07bd74",
   "metadata": {},
   "outputs": [
    {
     "data": {
      "text/plain": [
       "[1, 2, 3]"
      ]
     },
     "execution_count": 25,
     "metadata": {},
     "output_type": "execute_result"
    }
   ],
   "source": [
    "a[0:3] # Starting Point : End Point"
   ]
  },
  {
   "cell_type": "code",
   "execution_count": 26,
   "id": "9eb31bd0-421e-4461-b6c8-96810387b001",
   "metadata": {},
   "outputs": [
    {
     "data": {
      "text/plain": [
       "[3, 4, 5, 6]"
      ]
     },
     "execution_count": 26,
     "metadata": {},
     "output_type": "execute_result"
    }
   ],
   "source": [
    "a[2:6]"
   ]
  },
  {
   "cell_type": "code",
   "execution_count": 27,
   "id": "19fd0d5a-c478-4b73-b8e8-7dc69e286228",
   "metadata": {},
   "outputs": [
    {
     "data": {
      "text/plain": [
       "[1, 2, 3, 4, 5]"
      ]
     },
     "execution_count": 27,
     "metadata": {},
     "output_type": "execute_result"
    }
   ],
   "source": [
    "a[0:5]"
   ]
  },
  {
   "cell_type": "code",
   "execution_count": 28,
   "id": "963c1508-8646-4f52-9a6e-5e2eb4ed0e06",
   "metadata": {},
   "outputs": [
    {
     "data": {
      "text/plain": [
       "[1, 3, 5]"
      ]
     },
     "execution_count": 28,
     "metadata": {},
     "output_type": "execute_result"
    }
   ],
   "source": [
    "a[0:5:2]"
   ]
  },
  {
   "cell_type": "code",
   "execution_count": 29,
   "id": "398fcb48-6de7-44d0-8dad-51f610566943",
   "metadata": {},
   "outputs": [
    {
     "data": {
      "text/plain": [
       "[1, 2, 3, 4, 5, 6, 7, 8]"
      ]
     },
     "execution_count": 29,
     "metadata": {},
     "output_type": "execute_result"
    }
   ],
   "source": [
    "a[:]"
   ]
  },
  {
   "cell_type": "code",
   "execution_count": 30,
   "id": "1b48f05c-1c97-4210-80db-ec2f88cc0c3f",
   "metadata": {},
   "outputs": [
    {
     "data": {
      "text/plain": [
       "[1, 3, 5, 7]"
      ]
     },
     "execution_count": 30,
     "metadata": {},
     "output_type": "execute_result"
    }
   ],
   "source": [
    "a[::2]"
   ]
  },
  {
   "cell_type": "code",
   "execution_count": 31,
   "id": "72e5f172-b9e2-47ba-b362-88ab642a098a",
   "metadata": {},
   "outputs": [
    {
     "data": {
      "text/plain": [
       "[1, 4, 7]"
      ]
     },
     "execution_count": 31,
     "metadata": {},
     "output_type": "execute_result"
    }
   ],
   "source": [
    "a[::3]"
   ]
  },
  {
   "cell_type": "code",
   "execution_count": 32,
   "id": "5a11dc2a-6ac1-4049-a929-6792abceb5c0",
   "metadata": {},
   "outputs": [
    {
     "data": {
      "text/plain": [
       "8"
      ]
     },
     "execution_count": 32,
     "metadata": {},
     "output_type": "execute_result"
    }
   ],
   "source": [
    "a[7]"
   ]
  },
  {
   "cell_type": "code",
   "execution_count": 33,
   "id": "fe32eb10-e24c-48c8-8d6b-91b3d6f85fa6",
   "metadata": {},
   "outputs": [
    {
     "data": {
      "text/plain": [
       "8"
      ]
     },
     "execution_count": 33,
     "metadata": {},
     "output_type": "execute_result"
    }
   ],
   "source": [
    "a[-1]"
   ]
  },
  {
   "cell_type": "code",
   "execution_count": 34,
   "id": "28f03564-0616-41ce-9cdb-1620430051f1",
   "metadata": {},
   "outputs": [
    {
     "data": {
      "text/plain": [
       "[]"
      ]
     },
     "execution_count": 34,
     "metadata": {},
     "output_type": "execute_result"
    }
   ],
   "source": [
    "a[-1:-6]"
   ]
  },
  {
   "cell_type": "code",
   "execution_count": 35,
   "id": "a157f056-3aa2-452f-a83e-4a7c667d6288",
   "metadata": {},
   "outputs": [
    {
     "data": {
      "text/plain": [
       "[8, 7, 6, 5, 4]"
      ]
     },
     "execution_count": 35,
     "metadata": {},
     "output_type": "execute_result"
    }
   ],
   "source": [
    "a[-1:-6:-1]"
   ]
  },
  {
   "cell_type": "code",
   "execution_count": 36,
   "id": "f813e5e7-fd35-418c-983b-67e601d129a7",
   "metadata": {},
   "outputs": [
    {
     "data": {
      "text/plain": [
       "[8, 7, 6, 5, 4, 3, 2, 1]"
      ]
     },
     "execution_count": 36,
     "metadata": {},
     "output_type": "execute_result"
    }
   ],
   "source": [
    "a[::-1]"
   ]
  },
  {
   "cell_type": "code",
   "execution_count": null,
   "id": "11d3c2af-d9c4-41c5-8530-efe959dffd3a",
   "metadata": {},
   "outputs": [],
   "source": []
  }
 ],
 "metadata": {
  "kernelspec": {
   "display_name": "Python 3 (ipykernel)",
   "language": "python",
   "name": "python3"
  },
  "language_info": {
   "codemirror_mode": {
    "name": "ipython",
    "version": 3
   },
   "file_extension": ".py",
   "mimetype": "text/x-python",
   "name": "python",
   "nbconvert_exporter": "python",
   "pygments_lexer": "ipython3",
   "version": "3.11.7"
  }
 },
 "nbformat": 4,
 "nbformat_minor": 5
}
