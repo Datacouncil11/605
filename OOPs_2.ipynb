{
 "cells": [
  {
   "cell_type": "code",
   "execution_count": 1,
   "id": "0a392768-d153-496c-89a1-ccc98de3a4a4",
   "metadata": {},
   "outputs": [],
   "source": [
    "class House:\n",
    "    def __init__(self, area, bhk, floors):\n",
    "        self.area = area\n",
    "        self.bhk = bhk\n",
    "        self.floors = floors"
   ]
  },
  {
   "cell_type": "code",
   "execution_count": 2,
   "id": "0a7faa0e-5ebf-45e0-a037-6d7ce5b8c1d3",
   "metadata": {},
   "outputs": [],
   "source": [
    "Mannat = House('5000SQ/FT', '5 BHK', 2)"
   ]
  },
  {
   "cell_type": "code",
   "execution_count": 3,
   "id": "9869c682-c220-4964-a8b0-2d97e028696c",
   "metadata": {},
   "outputs": [
    {
     "data": {
      "text/plain": [
       "'5000SQ/FT'"
      ]
     },
     "execution_count": 3,
     "metadata": {},
     "output_type": "execute_result"
    }
   ],
   "source": [
    "Mannat.area"
   ]
  },
  {
   "cell_type": "code",
   "execution_count": 4,
   "id": "27a6f190-3890-4cc8-90e0-e6230367d827",
   "metadata": {},
   "outputs": [
    {
     "data": {
      "text/plain": [
       "'5 BHK'"
      ]
     },
     "execution_count": 4,
     "metadata": {},
     "output_type": "execute_result"
    }
   ],
   "source": [
    "Mannat.bhk"
   ]
  },
  {
   "cell_type": "code",
   "execution_count": 5,
   "id": "f0a8d10d-9470-451e-8145-8ff705e9f66d",
   "metadata": {},
   "outputs": [
    {
     "data": {
      "text/plain": [
       "2"
      ]
     },
     "execution_count": 5,
     "metadata": {},
     "output_type": "execute_result"
    }
   ],
   "source": [
    "Mannat.floors"
   ]
  },
  {
   "cell_type": "code",
   "execution_count": 6,
   "id": "46396dce-5ac9-4879-999d-77370c3980e2",
   "metadata": {},
   "outputs": [],
   "source": [
    "class House:\n",
    "    def __init__(self, area, bhk, floors):\n",
    "        self.area = area\n",
    "        self.bhk = bhk\n",
    "        self.floors = floors\n",
    "    def display(self):\n",
    "        print('Area in SQ/FT is', self.area)\n",
    "        print('BHK is', self.bhk)\n",
    "        print('Floors are', self.floors)"
   ]
  },
  {
   "cell_type": "code",
   "execution_count": 7,
   "id": "c0871423-4769-406c-9c2e-afc5eeca4d02",
   "metadata": {},
   "outputs": [],
   "source": [
    "OM = House(1200, 2, 3)"
   ]
  },
  {
   "cell_type": "code",
   "execution_count": 8,
   "id": "7d4d438e-a257-484c-a6ca-c7d9771b9dc7",
   "metadata": {},
   "outputs": [
    {
     "name": "stdout",
     "output_type": "stream",
     "text": [
      "Area in SQ/FT is 1200\n",
      "BHK is 2\n",
      "Floors are 3\n"
     ]
    }
   ],
   "source": [
    "OM.display()"
   ]
  },
  {
   "cell_type": "code",
   "execution_count": 12,
   "id": "68344e5e-e8c3-478f-9961-ea73db1ea31e",
   "metadata": {},
   "outputs": [],
   "source": [
    "class House:\n",
    "    def __init__(self, area, bhk, floors):\n",
    "        self.area = area\n",
    "        self.bhk = bhk\n",
    "        self.floors = floors\n",
    "    def lift(self):\n",
    "        print('Yes lift is  available in house')"
   ]
  },
  {
   "cell_type": "code",
   "execution_count": 13,
   "id": "772a8b72-440d-4a8c-8f6b-05ff0fcd6c09",
   "metadata": {},
   "outputs": [],
   "source": [
    "x = House(1000, 1, 2)"
   ]
  },
  {
   "cell_type": "code",
   "execution_count": 14,
   "id": "a10c588f-6ca9-44f1-a523-3082d3ef9d1e",
   "metadata": {},
   "outputs": [
    {
     "name": "stdout",
     "output_type": "stream",
     "text": [
      "Yes lift is  available in house\n"
     ]
    }
   ],
   "source": [
    "x.lift()"
   ]
  },
  {
   "cell_type": "raw",
   "id": "c78998b2-0616-4424-af32-da0ae63b0819",
   "metadata": {},
   "source": [
    "# Interview Question\n",
    "How to create class ?\n",
    "How to pass parameters/Dataset to class ?\n",
    "Create a class and pass 3 values to class and create object of it ?"
   ]
  },
  {
   "cell_type": "raw",
   "id": "b858eade-795d-4575-bd22-24fd8b26aa27",
   "metadata": {},
   "source": [
    "Public\n",
    "Protected \n",
    "Private"
   ]
  },
  {
   "cell_type": "code",
   "execution_count": 15,
   "id": "26facacd-f409-4f69-8e94-72efab3b0ce2",
   "metadata": {},
   "outputs": [],
   "source": [
    "class Car:\n",
    "    def __init__(self, Color, Engine, Type):\n",
    "        self.Color = Color #Public\n",
    "        self._Engine = Engine #Protected\n",
    "        self.__Type = Type #Private\n"
   ]
  },
  {
   "cell_type": "code",
   "execution_count": 16,
   "id": "a2bf438e-b4be-4012-a463-f82d6c746098",
   "metadata": {},
   "outputs": [],
   "source": [
    "Nexon = Car('White', 1500, 'Petrol')"
   ]
  },
  {
   "cell_type": "code",
   "execution_count": 17,
   "id": "18b2ac51-ac51-4fbe-91dd-fd9875e82813",
   "metadata": {},
   "outputs": [
    {
     "data": {
      "text/plain": [
       "'White'"
      ]
     },
     "execution_count": 17,
     "metadata": {},
     "output_type": "execute_result"
    }
   ],
   "source": [
    "Nexon.Color"
   ]
  },
  {
   "cell_type": "code",
   "execution_count": 18,
   "id": "67efbcb2-dbf4-4594-a629-0ae5882215a5",
   "metadata": {},
   "outputs": [
    {
     "data": {
      "text/plain": [
       "1500"
      ]
     },
     "execution_count": 18,
     "metadata": {},
     "output_type": "execute_result"
    }
   ],
   "source": [
    "Nexon._Engine # To access protected file _ then instance name"
   ]
  },
  {
   "cell_type": "code",
   "execution_count": 19,
   "id": "3376cccd-8c48-46ff-b546-c4d262fac1f7",
   "metadata": {},
   "outputs": [
    {
     "data": {
      "text/plain": [
       "'Petrol'"
      ]
     },
     "execution_count": 19,
     "metadata": {},
     "output_type": "execute_result"
    }
   ],
   "source": [
    "Nexon._Car__Type # to access private file _ then class name __ instance name"
   ]
  },
  {
   "cell_type": "code",
   "execution_count": 20,
   "id": "21798834-1d83-4c84-b4c6-3b8a9cc52c04",
   "metadata": {},
   "outputs": [],
   "source": [
    "class parent:\n",
    "    def __init__(self,a,b,c):\n",
    "        self.a = a\n",
    "        self.b = b\n",
    "        self.c = c"
   ]
  },
  {
   "cell_type": "code",
   "execution_count": 21,
   "id": "a5df077d-d30e-4837-9a56-a7603563447f",
   "metadata": {},
   "outputs": [],
   "source": [
    "class child(parent):\n",
    "    pass"
   ]
  },
  {
   "cell_type": "code",
   "execution_count": 22,
   "id": "a55a426d-bebc-4054-a200-016aa9fe7e38",
   "metadata": {},
   "outputs": [],
   "source": [
    "H = child(1,2,3)"
   ]
  },
  {
   "cell_type": "code",
   "execution_count": 23,
   "id": "cd3c5028-f071-4524-be52-3191a526c28b",
   "metadata": {},
   "outputs": [
    {
     "data": {
      "text/plain": [
       "1"
      ]
     },
     "execution_count": 23,
     "metadata": {},
     "output_type": "execute_result"
    }
   ],
   "source": [
    "H.a"
   ]
  },
  {
   "cell_type": "code",
   "execution_count": 24,
   "id": "1cece0f3-a626-4ebc-a103-9f55c9caa2c7",
   "metadata": {},
   "outputs": [
    {
     "data": {
      "text/plain": [
       "2"
      ]
     },
     "execution_count": 24,
     "metadata": {},
     "output_type": "execute_result"
    }
   ],
   "source": [
    "H.b"
   ]
  },
  {
   "cell_type": "code",
   "execution_count": 25,
   "id": "80c821b9-524b-4535-b22a-eb9db682196f",
   "metadata": {},
   "outputs": [
    {
     "data": {
      "text/plain": [
       "3"
      ]
     },
     "execution_count": 25,
     "metadata": {},
     "output_type": "execute_result"
    }
   ],
   "source": [
    "H.c"
   ]
  },
  {
   "cell_type": "code",
   "execution_count": 26,
   "id": "c6f6748e-3d8e-4e5f-8221-537a9852b3a8",
   "metadata": {},
   "outputs": [],
   "source": [
    "j = parent(6,7,8)"
   ]
  },
  {
   "cell_type": "code",
   "execution_count": 27,
   "id": "c7886061-f5e2-4be4-8c66-168f3262f87f",
   "metadata": {},
   "outputs": [
    {
     "data": {
      "text/plain": [
       "6"
      ]
     },
     "execution_count": 27,
     "metadata": {},
     "output_type": "execute_result"
    }
   ],
   "source": [
    "j.a"
   ]
  },
  {
   "cell_type": "code",
   "execution_count": 28,
   "id": "0220dcb5-17d3-41fa-bfd2-5aa3231bec0f",
   "metadata": {},
   "outputs": [
    {
     "data": {
      "text/plain": [
       "7"
      ]
     },
     "execution_count": 28,
     "metadata": {},
     "output_type": "execute_result"
    }
   ],
   "source": [
    "j.b"
   ]
  },
  {
   "cell_type": "code",
   "execution_count": 30,
   "id": "eec9a1f0-2806-418e-998a-cd55f72d082c",
   "metadata": {},
   "outputs": [
    {
     "data": {
      "text/plain": [
       "8"
      ]
     },
     "execution_count": 30,
     "metadata": {},
     "output_type": "execute_result"
    }
   ],
   "source": [
    "j.c"
   ]
  },
  {
   "cell_type": "code",
   "execution_count": 31,
   "id": "05cdcf1a-dd6a-4cf0-a1ed-0c03c775d22c",
   "metadata": {},
   "outputs": [],
   "source": [
    "class parent:\n",
    "    def __init__(self,a,b,c):\n",
    "        self.a = a\n",
    "        self.b = b\n",
    "        self.c = c"
   ]
  },
  {
   "cell_type": "code",
   "execution_count": 32,
   "id": "7821a351-cdc7-4765-a07a-ba2764c6eddc",
   "metadata": {},
   "outputs": [],
   "source": [
    "class child(parent):\n",
    "    def game(self):\n",
    "        print('Child can play cricket')"
   ]
  },
  {
   "cell_type": "code",
   "execution_count": 34,
   "id": "b015360f-7330-4afd-954c-05d7a90695e1",
   "metadata": {},
   "outputs": [],
   "source": [
    "C1 = child(1,2,3)"
   ]
  },
  {
   "cell_type": "code",
   "execution_count": 36,
   "id": "b59522d5-a03e-47c1-be29-e61dbced0e6f",
   "metadata": {},
   "outputs": [
    {
     "name": "stdout",
     "output_type": "stream",
     "text": [
      "Child can play cricket\n"
     ]
    }
   ],
   "source": [
    "C1.game()"
   ]
  },
  {
   "cell_type": "code",
   "execution_count": 37,
   "id": "4522cf43-a533-408e-ab7d-868a5d9c8679",
   "metadata": {},
   "outputs": [],
   "source": [
    "P1 = parent(1,2,3)"
   ]
  },
  {
   "cell_type": "code",
   "execution_count": 38,
   "id": "6dd52246-e62c-4125-bee5-ebeb32ad6dda",
   "metadata": {},
   "outputs": [
    {
     "data": {
      "text/plain": [
       "1"
      ]
     },
     "execution_count": 38,
     "metadata": {},
     "output_type": "execute_result"
    }
   ],
   "source": [
    "P1.a"
   ]
  },
  {
   "cell_type": "code",
   "execution_count": null,
   "id": "335f2c61-e325-4bc6-a432-b0b95f326f8e",
   "metadata": {},
   "outputs": [],
   "source": []
  }
 ],
 "metadata": {
  "kernelspec": {
   "display_name": "Python 3 (ipykernel)",
   "language": "python",
   "name": "python3"
  },
  "language_info": {
   "codemirror_mode": {
    "name": "ipython",
    "version": 3
   },
   "file_extension": ".py",
   "mimetype": "text/x-python",
   "name": "python",
   "nbconvert_exporter": "python",
   "pygments_lexer": "ipython3",
   "version": "3.11.7"
  }
 },
 "nbformat": 4,
 "nbformat_minor": 5
}
